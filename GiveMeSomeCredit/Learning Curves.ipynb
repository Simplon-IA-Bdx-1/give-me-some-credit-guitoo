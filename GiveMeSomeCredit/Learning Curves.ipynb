{
 "cells": [
  {
   "cell_type": "code",
   "execution_count": 108,
   "metadata": {
    "slideshow": {
     "slide_type": "slide"
    }
   },
   "outputs": [],
   "source": [
    "from pandas import DataFrame, read_csv, to_numeric\n",
    "from sklearn.model_selection import train_test_split\n",
    "from sklearn.metrics import roc_curve, auc, roc_auc_score\n",
    "import matplotlib.pyplot as plt\n",
    "from pickle import load, dump\n",
    "from bigml.api import BigML\n",
    "import kaggle\n",
    "from pprint import pprint\n",
    "from os import path\n",
    "\n",
    "%matplotlib inline"
   ]
  },
  {
   "cell_type": "code",
   "execution_count": 109,
   "metadata": {
    "slideshow": {
     "slide_type": "subslide"
    }
   },
   "outputs": [],
   "source": [
    "big_ml_project = 'project/5d94a428eba31d460c00023f'\n",
    "api = BigML(project=big_ml_project)"
   ]
  },
  {
   "cell_type": "code",
   "execution_count": 110,
   "metadata": {
    "slideshow": {
     "slide_type": "slide"
    }
   },
   "outputs": [],
   "source": [
    "project = 'gmsc'\n",
    "version = 'learning-curve'\n",
    "jar_filename = project + '-' + version + '-picklejar'"
   ]
  },
  {
   "cell_type": "code",
   "execution_count": 111,
   "metadata": {
    "slideshow": {
     "slide_type": "subslide"
    }
   },
   "outputs": [],
   "source": [
    "def data_save(project_data):\n",
    "    with open(jar_filename, 'wb') as file:\n",
    "        dump(project_data,file)\n",
    "def data_load():\n",
    "    if path.exists(jar_filename):\n",
    "        with open(jar_filename, 'rb') as file:\n",
    "            project_data = load(file)\n",
    "        return project_data\n",
    "    return {}"
   ]
  },
  {
   "cell_type": "code",
   "execution_count": 112,
   "metadata": {
    "slideshow": {
     "slide_type": "subslide"
    }
   },
   "outputs": [],
   "source": [
    "project_data = data_load()"
   ]
  },
  {
   "cell_type": "code",
   "execution_count": 113,
   "metadata": {
    "slideshow": {
     "slide_type": "subslide"
    }
   },
   "outputs": [],
   "source": [
    "project_data['fulltrain file']='cs-train.csv'\n",
    "project_data['test file']='cs-test.csv'"
   ]
  },
  {
   "cell_type": "code",
   "execution_count": 114,
   "metadata": {
    "slideshow": {
     "slide_type": "slide"
    }
   },
   "outputs": [],
   "source": [
    "fulltrain=read_csv('./cs-training.csv',index_col=0)\n"
   ]
  },
  {
   "cell_type": "code",
   "execution_count": 115,
   "metadata": {
    "slideshow": {
     "slide_type": "subslide"
    }
   },
   "outputs": [
    {
     "data": {
      "text/plain": [
       "120000"
      ]
     },
     "execution_count": 115,
     "metadata": {},
     "output_type": "execute_result"
    }
   ],
   "source": [
    "fixed_seed=12345\n",
    "train, valid = train_test_split(fulltrain, test_size=0.2, random_state=fixed_seed)\n",
    "valid_filename = project + '-' + version + '-valid' + '.csv.bz2'\n",
    "valid.to_csv(valid_filename,index_label='Id')\n",
    "train_filename = project + '-' + version + '-train' + '.csv.bz2'\n",
    "train.to_csv(train_filename,index_label='Id')\n",
    "project_data['validation file'] = valid_filename\n",
    "len(train)"
   ]
  },
  {
   "cell_type": "code",
   "execution_count": 116,
   "metadata": {
    "slideshow": {
     "slide_type": "slide"
    }
   },
   "outputs": [],
   "source": [
    "if 'models' not in project_data:\n",
    "    project_data['models']={}\n",
    "if 'train sources' not in project_data:\n",
    "    project_data['train sources']={}\n",
    "if 'train datasets' not in project_data:\n",
    "    project_data['train datasets']={}"
   ]
  },
  {
   "cell_type": "code",
   "execution_count": 117,
   "metadata": {
    "slideshow": {
     "slide_type": "subslide"
    }
   },
   "outputs": [],
   "source": [
    "data_save(project_data)"
   ]
  },
  {
   "cell_type": "code",
   "execution_count": 118,
   "metadata": {
    "slideshow": {
     "slide_type": "slide"
    }
   },
   "outputs": [
    {
     "name": "stdout",
     "output_type": "stream",
     "text": [
      "'source/5dc037487811dd7f2d0103f2'\n"
     ]
    }
   ],
   "source": [
    "if 'validation source' not in project_data:\n",
    "    valid_src = api.create_source(valid_filename)\n",
    "    api.ok(valid_src)\n",
    "    project_data['validation source']=valid_src['resource']\n",
    "else:\n",
    "    valid_src = api.get_source(project_data['validation source'])\n",
    "pprint(valid_src['resource'])"
   ]
  },
  {
   "cell_type": "code",
   "execution_count": 119,
   "metadata": {
    "slideshow": {
     "slide_type": "subslide"
    }
   },
   "outputs": [
    {
     "name": "stdout",
     "output_type": "stream",
     "text": [
      "'dataset/5dc0374e7811dd05540010c3'\n"
     ]
    }
   ],
   "source": [
    "if 'validation dataset' not in project_data:\n",
    "    valid_ds = api.create_dataset(valid_src)\n",
    "    api.ok(valid_ds)\n",
    "    project_data['validation dataset']=valid_ds['resource']\n",
    "else:\n",
    "    valid_ds = api.get_dataset(project_data['validation dataset'])\n",
    "pprint(valid_ds['resource'])"
   ]
  },
  {
   "cell_type": "code",
   "execution_count": 120,
   "metadata": {
    "slideshow": {
     "slide_type": "slide"
    }
   },
   "outputs": [
    {
     "name": "stdout",
     "output_type": "stream",
     "text": [
      "{'fulltrain file': 'cs-train.csv',\n",
      " 'models': {},\n",
      " 'test file': 'cs-test.csv',\n",
      " 'train datasets': {},\n",
      " 'train sources': {},\n",
      " 'validation dataset': 'dataset/5dc0374e7811dd05540010c3',\n",
      " 'validation file': 'gmsc-learning-curve-valid.csv.bz2',\n",
      " 'validation source': 'source/5dc037487811dd7f2d0103f2'}\n"
     ]
    }
   ],
   "source": [
    "pprint(project_data)"
   ]
  },
  {
   "cell_type": "code",
   "execution_count": 121,
   "metadata": {
    "slideshow": {
     "slide_type": "slide"
    }
   },
   "outputs": [],
   "source": [
    "#training_sizes=[500,2000,5000,10000,25000,50000,100000,150000]\n",
    "training_sizes=[int(120000*i/10) for i in range(1,11) ]\n",
    "models=['ensemble','deepnet']"
   ]
  },
  {
   "cell_type": "code",
   "execution_count": 124,
   "metadata": {},
   "outputs": [],
   "source": [
    "for size in training_sizes:\n",
    "    train_filename = project + '-' + version + '-train-' + str(size) + '.csv.bz2'\n",
    "    if not path.exists(train_filename):\n",
    "        #if size < 120000:\n",
    "        #    print(size)\n",
    "        train_partial = train.sample(size)\n",
    "        #else:\n",
    "        #    train_partial = train\n",
    "        train_partial.to_csv(train_filename, index_label='Id')\n",
    "        \n",
    "    if size not in project_data['train sources']:\n",
    "        train_src = api.create_source(train_filename)\n",
    "        api.ok(train_src)\n",
    "        project_data['train sources'][size]=train_src['resource']\n",
    "    else:\n",
    "        train_src = api.get_source(project_data['train sources'][size])\n",
    "        \n",
    "    if size not in project_data['train datasets']:\n",
    "        train_ds = api.create_dataset(train_src)\n",
    "        api.ok(train_ds)\n",
    "        project_data['train datasets'][size]=train_ds['resource']\n",
    "    else:\n",
    "        train_ds = api.get_dataset(project_data['train datasets'][size])"
   ]
  },
  {
   "cell_type": "code",
   "execution_count": 125,
   "metadata": {},
   "outputs": [],
   "source": [
    "data_save(project_data)"
   ]
  },
  {
   "cell_type": "code",
   "execution_count": 126,
   "metadata": {},
   "outputs": [],
   "source": [
    "for size in training_sizes:\n",
    "    for model_type in models:\n",
    "        if size not in project_data['models']:\n",
    "            project_data['models'][size]={}\n",
    "        if model_type not in project_data['models'][size]:\n",
    "            project_data['models'][size][model_type]={}\n",
    "        model = project_data['models'][size][model_type]\n",
    "        model['size'] = size\n",
    "        model['model type'] = model_type\n",
    "        model['train source'] = project_data['train sources'][size]\n",
    "        model['train dataset'] = project_data['train datasets'][size]"
   ]
  },
  {
   "cell_type": "code",
   "execution_count": 127,
   "metadata": {},
   "outputs": [
    {
     "name": "stdout",
     "output_type": "stream",
     "text": [
      "Training ensemble-12000\n",
      "Done\n",
      "Training deepnet-12000\n",
      "Done\n",
      "Training ensemble-24000\n",
      "Done\n",
      "Training deepnet-24000\n",
      "Done\n",
      "Training ensemble-36000\n",
      "Done\n",
      "Training deepnet-36000\n",
      "Done\n",
      "Training ensemble-48000\n",
      "Done\n",
      "Training deepnet-48000\n",
      "Done\n",
      "Training ensemble-60000\n",
      "Done\n",
      "Training deepnet-60000\n",
      "Done\n",
      "Training ensemble-72000\n",
      "Done\n",
      "Training deepnet-72000\n",
      "Done\n",
      "Training ensemble-84000\n",
      "Done\n",
      "Training deepnet-84000\n",
      "Done\n",
      "Training ensemble-96000\n",
      "Done\n",
      "Training deepnet-96000\n",
      "Done\n",
      "Training ensemble-108000\n",
      "Done\n",
      "Training deepnet-108000\n",
      "Done\n",
      "Training ensemble-120000\n",
      "Done\n",
      "Training deepnet-120000\n",
      "Done\n"
     ]
    }
   ],
   "source": [
    "model_args= {\"objective_field\": \"SeriousDlqin2yrs\"}\n",
    "for size in project_data['models']:\n",
    "    for model_type in project_data['models'][size]:\n",
    "        print('Training ' + model_type + '-' + str(size))\n",
    "        model_data = project_data['models'][size][model_type]\n",
    "        train_ds = model_data['train dataset']\n",
    "        if 'bigml model' not in model_data:\n",
    "            if model_type == 'ensemble':\n",
    "                model = api.create_ensemble(train_ds, model_args)\n",
    "                api.ok(model)\n",
    "                model_data['bigml model'] = model['resource']\n",
    "            elif model_type == 'deepnet':\n",
    "                model = api.create_deepnet(train_ds, model_args)\n",
    "                api.ok(model)\n",
    "                model_data['bigml model'] = model['resource']\n",
    "        print('Done')"
   ]
  },
  {
   "cell_type": "code",
   "execution_count": 128,
   "metadata": {},
   "outputs": [],
   "source": [
    "data_save(project_data)"
   ]
  },
  {
   "cell_type": "code",
   "execution_count": 129,
   "metadata": {},
   "outputs": [
    {
     "name": "stdout",
     "output_type": "stream",
     "text": [
      "Evaluating ensemble-12000\n",
      "Done\n",
      "Evaluating deepnet-12000\n",
      "Done\n",
      "Evaluating ensemble-24000\n",
      "Done\n",
      "Evaluating deepnet-24000\n",
      "Done\n",
      "Evaluating ensemble-36000\n",
      "Done\n",
      "Evaluating deepnet-36000\n",
      "Done\n",
      "Evaluating ensemble-48000\n",
      "Done\n",
      "Evaluating deepnet-48000\n",
      "Done\n",
      "Evaluating ensemble-60000\n",
      "Done\n",
      "Evaluating deepnet-60000\n",
      "Done\n",
      "Evaluating ensemble-72000\n",
      "Done\n",
      "Evaluating deepnet-72000\n",
      "Done\n",
      "Evaluating ensemble-84000\n",
      "Done\n",
      "Evaluating deepnet-84000\n",
      "Done\n",
      "Evaluating ensemble-96000\n",
      "Done\n",
      "Evaluating deepnet-96000\n",
      "Done\n",
      "Evaluating ensemble-108000\n",
      "Done\n",
      "Evaluating deepnet-108000\n",
      "Done\n",
      "Evaluating ensemble-120000\n",
      "Done\n",
      "Evaluating deepnet-120000\n",
      "Done\n"
     ]
    }
   ],
   "source": [
    "for size in project_data['models']:\n",
    "    for model_type in project_data['models'][size]:\n",
    "        print('Evaluating ' + model_type + '-' + str(size))\n",
    "        model_data = project_data['models'][size][model_type]\n",
    "        if model_type == 'ensemble':\n",
    "            model = api.get_ensemble(model_data['bigml model'])\n",
    "        if model_type == 'deepnet':\n",
    "            model = api.get_deepnet(model_data['bigml model'])\n",
    "        if 'valid evaluation' not in model_data:\n",
    "            evaluation = api.create_evaluation(model, project_data['validation dataset'])\n",
    "            api.ok(evaluation)\n",
    "            model_data['valid evaluation'] = evaluation['resource']\n",
    "        if 'train evaluation' not in model_data:\n",
    "            evaluation = api.create_evaluation(model, model_data['train dataset'])\n",
    "            api.ok(evaluation)\n",
    "            model_data['train evaluation'] = evaluation['resource']\n",
    "        print('Done')"
   ]
  },
  {
   "cell_type": "code",
   "execution_count": 130,
   "metadata": {},
   "outputs": [
    {
     "name": "stdout",
     "output_type": "stream",
     "text": [
      "{'fulltrain file': 'cs-train.csv',\n",
      " 'models': {12000: {'deepnet': {'bigml model': 'deepnet/5dc039e1e4768474680118ab',\n",
      "                                'model type': 'deepnet',\n",
      "                                'size': 12000,\n",
      "                                'train dataset': 'dataset/5dc037787811dd05540010c6',\n",
      "                                'train evaluation': 'evaluation/5dc04032e4768474680119f2',\n",
      "                                'train source': 'source/5dc037737811dd7f2d0103fb',\n",
      "                                'valid evaluation': 'evaluation/5dc04025e476847405000a12'},\n",
      "                    'ensemble': {'bigml model': 'ensemble/5dc039d6e4768474680118a8',\n",
      "                                 'model type': 'ensemble',\n",
      "                                 'size': 12000,\n",
      "                                 'train dataset': 'dataset/5dc037787811dd05540010c6',\n",
      "                                 'train evaluation': 'evaluation/5dc040197811dd01370014c9',\n",
      "                                 'train source': 'source/5dc037737811dd7f2d0103fb',\n",
      "                                 'valid evaluation': 'evaluation/5dc040077811dd7f2d0105ff'}},\n",
      "            24000: {'deepnet': {'bigml model': 'deepnet/5dc03a2c5299631c82010e42',\n",
      "                                'model type': 'deepnet',\n",
      "                                'size': 24000,\n",
      "                                'train dataset': 'dataset/5dc03785e476847468011839',\n",
      "                                'train evaluation': 'evaluation/5dc040757811dd05540010d2',\n",
      "                                'train source': 'source/5dc037805299631c82010db5',\n",
      "                                'valid evaluation': 'evaluation/5dc0406a5299631c82010f64'},\n",
      "                    'ensemble': {'bigml model': 'ensemble/5dc03a16e4768474680118b4',\n",
      "                                 'model type': 'ensemble',\n",
      "                                 'size': 24000,\n",
      "                                 'train dataset': 'dataset/5dc03785e476847468011839',\n",
      "                                 'train evaluation': 'evaluation/5dc040587811dd055c0016bb',\n",
      "                                 'train source': 'source/5dc037805299631c82010db5',\n",
      "                                 'valid evaluation': 'evaluation/5dc0403d7811dd7f2d010610'}},\n",
      "            36000: {'deepnet': {'bigml model': 'deepnet/5dc03a877811dd7f2d0104a8',\n",
      "                                'model type': 'deepnet',\n",
      "                                'size': 36000,\n",
      "                                'train dataset': 'dataset/5dc0379a5299631c82010dbb',\n",
      "                                'train evaluation': 'evaluation/5dc040b25299631c82010f6d',\n",
      "                                'train source': 'source/5dc037957811dd7f2d010404',\n",
      "                                'valid evaluation': 'evaluation/5dc040a67811dd7f2d01061f'},\n",
      "                    'ensemble': {'bigml model': 'ensemble/5dc03a79e4768474680118cc',\n",
      "                                 'model type': 'ensemble',\n",
      "                                 'size': 36000,\n",
      "                                 'train dataset': 'dataset/5dc0379a5299631c82010dbb',\n",
      "                                 'train evaluation': 'evaluation/5dc04093e476847468011a07',\n",
      "                                 'train source': 'source/5dc037957811dd7f2d010404',\n",
      "                                 'valid evaluation': 'evaluation/5dc0407f5299631c82010f67'}},\n",
      "            48000: {'deepnet': {'bigml model': 'deepnet/5dc03ad67811dd7f2d0104c6',\n",
      "                                'model type': 'deepnet',\n",
      "                                'size': 48000,\n",
      "                                'train dataset': 'dataset/5dc037b0e476847468011851',\n",
      "                                'train evaluation': 'evaluation/5dc040f47811dd7f2d010628',\n",
      "                                'train source': 'source/5dc037abe47684746801184b',\n",
      "                                'valid evaluation': 'evaluation/5dc040e6e476847468011a0d'},\n",
      "                    'ensemble': {'bigml model': 'ensemble/5dc03ac77811dd7f2d0104bd',\n",
      "                                 'model type': 'ensemble',\n",
      "                                 'size': 48000,\n",
      "                                 'train dataset': 'dataset/5dc037b0e476847468011851',\n",
      "                                 'train evaluation': 'evaluation/5dc040cfe476847468011a0a',\n",
      "                                 'train source': 'source/5dc037abe47684746801184b',\n",
      "                                 'valid evaluation': 'evaluation/5dc040bd7811dd7f2d010625'}},\n",
      "            60000: {'deepnet': {'bigml model': 'deepnet/5dc03b25e4768474680118f6',\n",
      "                                'model type': 'deepnet',\n",
      "                                'size': 60000,\n",
      "                                'train dataset': 'dataset/5dc037d8e47684746801185a',\n",
      "                                'train evaluation': 'evaluation/5dc0413f5299631c82010f76',\n",
      "                                'train source': 'source/5dc037d3e476847468011857',\n",
      "                                'valid evaluation': 'evaluation/5dc041367811dd055c0016be'},\n",
      "                    'ensemble': {'bigml model': 'ensemble/5dc03b15e4768474680118f3',\n",
      "                                 'model type': 'ensemble',\n",
      "                                 'size': 60000,\n",
      "                                 'train dataset': 'dataset/5dc037d8e47684746801185a',\n",
      "                                 'train evaluation': 'evaluation/5dc041195299631c82010f73',\n",
      "                                 'train source': 'source/5dc037d3e476847468011857',\n",
      "                                 'valid evaluation': 'evaluation/5dc041005299631c82010f70'}},\n",
      "            72000: {'deepnet': {'bigml model': 'deepnet/5dc03b787811dd7f2d0104ea',\n",
      "                                'model type': 'deepnet',\n",
      "                                'size': 72000,\n",
      "                                'train dataset': 'dataset/5dc037f9e476847468011863',\n",
      "                                'train evaluation': 'evaluation/5dc041867811dd7f2d01063a',\n",
      "                                'train source': 'source/5dc037f3e4768473b60007e7',\n",
      "                                'valid evaluation': 'evaluation/5dc0417e7811dd01370014cc'},\n",
      "                    'ensemble': {'bigml model': 'ensemble/5dc03b655299631c82010e7e',\n",
      "                                 'model type': 'ensemble',\n",
      "                                 'size': 72000,\n",
      "                                 'train dataset': 'dataset/5dc037f9e476847468011863',\n",
      "                                 'train evaluation': 'evaluation/5dc0415de4768473b60007f3',\n",
      "                                 'train source': 'source/5dc037f3e4768473b60007e7',\n",
      "                                 'valid evaluation': 'evaluation/5dc0414ce476847468011a19'}},\n",
      "            84000: {'deepnet': {'bigml model': 'deepnet/5dc03bf1e476847468011923',\n",
      "                                'model type': 'deepnet',\n",
      "                                'size': 84000,\n",
      "                                'train dataset': 'dataset/5dc0384f5299631c82010de5',\n",
      "                                'train evaluation': 'evaluation/5dc041d95299631c82010f82',\n",
      "                                'train source': 'source/5dc038495299631c82010de2',\n",
      "                                'valid evaluation': 'evaluation/5dc041d07811dd7f2d010646'},\n",
      "                    'ensemble': {'bigml model': 'ensemble/5dc03bdd7811dd7f2d010508',\n",
      "                                 'model type': 'ensemble',\n",
      "                                 'size': 84000,\n",
      "                                 'train dataset': 'dataset/5dc0384f5299631c82010de5',\n",
      "                                 'train evaluation': 'evaluation/5dc041a47811dd01370014cf',\n",
      "                                 'train source': 'source/5dc038495299631c82010de2',\n",
      "                                 'valid evaluation': 'evaluation/5dc041935299631c82010f79'}},\n",
      "            96000: {'deepnet': {'bigml model': 'deepnet/5dc03ebb7811dd7f2d010585',\n",
      "                                'model type': 'deepnet',\n",
      "                                'size': 96000,\n",
      "                                'train dataset': 'dataset/5dc038ff7811dd7f2d010459',\n",
      "                                'train evaluation': 'evaluation/5dc0422c5299631c82010f91',\n",
      "                                'train source': 'source/5dc038fa5299631c82010e09',\n",
      "                                'valid evaluation': 'evaluation/5dc042215299631c82010f8e'},\n",
      "                    'ensemble': {'bigml model': 'ensemble/5dc03ea25299631c82010eef',\n",
      "                                 'model type': 'ensemble',\n",
      "                                 'size': 96000,\n",
      "                                 'train dataset': 'dataset/5dc038ff7811dd7f2d010459',\n",
      "                                 'train evaluation': 'evaluation/5dc041fa5299631c82010f88',\n",
      "                                 'train source': 'source/5dc038fa5299631c82010e09',\n",
      "                                 'valid evaluation': 'evaluation/5dc041eb7811dd7f2d010649'}},\n",
      "            108000: {'deepnet': {'bigml model': 'deepnet/5dc03f28e4768474680119aa',\n",
      "                                 'model type': 'deepnet',\n",
      "                                 'size': 108000,\n",
      "                                 'train dataset': 'dataset/5dc0392a7811dd7f2d010462',\n",
      "                                 'train evaluation': 'evaluation/5dc04291e476847468011a3a',\n",
      "                                 'train source': 'source/5dc039245299631c82010e0f',\n",
      "                                 'valid evaluation': 'evaluation/5dc042857811dd7f2d010655'},\n",
      "                     'ensemble': {'bigml model': 'ensemble/5dc03f105299631c82010f1b',\n",
      "                                  'model type': 'ensemble',\n",
      "                                  'size': 108000,\n",
      "                                  'train dataset': 'dataset/5dc0392a7811dd7f2d010462',\n",
      "                                  'train evaluation': 'evaluation/5dc0424be476847468011a2e',\n",
      "                                  'train source': 'source/5dc039245299631c82010e0f',\n",
      "                                  'valid evaluation': 'evaluation/5dc0423a5299631c82010f94'}},\n",
      "            120000: {'deepnet': {'bigml model': 'deepnet/5dc03f997811dd7f2d0105db',\n",
      "                                 'model type': 'deepnet',\n",
      "                                 'size': 120000,\n",
      "                                 'train dataset': 'dataset/5dc039607811dd7f2d010475',\n",
      "                                 'train evaluation': 'evaluation/5dc042f2e476847468011a40',\n",
      "                                 'train source': 'source/5dc0395be476847468011890',\n",
      "                                 'valid evaluation': 'evaluation/5dc042e5c7736e051f000018'},\n",
      "                     'ensemble': {'bigml model': 'ensemble/5dc03f7f7811dd7f2d0105cc',\n",
      "                                  'model type': 'ensemble',\n",
      "                                  'size': 120000,\n",
      "                                  'train dataset': 'dataset/5dc039607811dd7f2d010475',\n",
      "                                  'train evaluation': 'evaluation/5dc042bbe47684749e001219',\n",
      "                                  'train source': 'source/5dc0395be476847468011890',\n",
      "                                  'valid evaluation': 'evaluation/5dc0429f7811dd7f2d01065e'}}},\n",
      " 'test file': 'cs-test.csv',\n",
      " 'train datasets': {12000: 'dataset/5dc037787811dd05540010c6',\n",
      "                    24000: 'dataset/5dc03785e476847468011839',\n",
      "                    36000: 'dataset/5dc0379a5299631c82010dbb',\n",
      "                    48000: 'dataset/5dc037b0e476847468011851',\n",
      "                    60000: 'dataset/5dc037d8e47684746801185a',\n",
      "                    72000: 'dataset/5dc037f9e476847468011863',\n",
      "                    84000: 'dataset/5dc0384f5299631c82010de5',\n",
      "                    96000: 'dataset/5dc038ff7811dd7f2d010459',\n",
      "                    108000: 'dataset/5dc0392a7811dd7f2d010462',\n",
      "                    120000: 'dataset/5dc039607811dd7f2d010475'},\n",
      " 'train sources': {12000: 'source/5dc037737811dd7f2d0103fb',\n",
      "                   24000: 'source/5dc037805299631c82010db5',\n",
      "                   36000: 'source/5dc037957811dd7f2d010404',\n",
      "                   48000: 'source/5dc037abe47684746801184b',\n",
      "                   60000: 'source/5dc037d3e476847468011857',\n",
      "                   72000: 'source/5dc037f3e4768473b60007e7',\n",
      "                   84000: 'source/5dc038495299631c82010de2',\n",
      "                   96000: 'source/5dc038fa5299631c82010e09',\n",
      "                   108000: 'source/5dc039245299631c82010e0f',\n",
      "                   120000: 'source/5dc0395be476847468011890'},\n",
      " 'validation dataset': 'dataset/5dc0374e7811dd05540010c3',\n",
      " 'validation file': 'gmsc-learning-curve-valid.csv.bz2',\n",
      " 'validation source': 'source/5dc037487811dd7f2d0103f2'}\n"
     ]
    }
   ],
   "source": [
    "pprint(project_data)\n",
    "data_save(project_data)"
   ]
  },
  {
   "cell_type": "code",
   "execution_count": 131,
   "metadata": {},
   "outputs": [],
   "source": [
    "deepnet_train_auc=[]\n",
    "ensemble_train_auc=[]\n",
    "deepnet_valid_auc=[]\n",
    "ensemble_valid_auc=[]\n",
    "for size in training_sizes:\n",
    "    evaluation = api.get_evaluation(project_data['models'][size]['deepnet']['train evaluation'])\n",
    "    auc = evaluation['object']['result']['model']['average_area_under_roc_curve']\n",
    "    deepnet_train_auc.append(auc)\n",
    "    \n",
    "    evaluation = api.get_evaluation(project_data['models'][size]['ensemble']['train evaluation'])\n",
    "    auc = evaluation['object']['result']['model']['average_area_under_roc_curve']\n",
    "    ensemble_train_auc.append(auc)\n",
    "    \n",
    "    evaluation = api.get_evaluation(project_data['models'][size]['deepnet']['valid evaluation'])\n",
    "    auc = evaluation['object']['result']['model']['average_area_under_roc_curve']\n",
    "    deepnet_valid_auc.append(auc)\n",
    "    \n",
    "    evaluation = api.get_evaluation(project_data['models'][size]['ensemble']['valid evaluation'])\n",
    "    auc = evaluation['object']['result']['model']['average_area_under_roc_curve']\n",
    "    ensemble_valid_auc.append(auc)"
   ]
  },
  {
   "cell_type": "code",
   "execution_count": 133,
   "metadata": {
    "scrolled": true
   },
   "outputs": [
    {
     "data": {
      "image/png": "[encoded data removed]",
      "text/plain": [
       "<Figure size 1296x936 with 3 Axes>"
      ]
     },
     "metadata": {
      "needs_background": "light"
     },
     "output_type": "display_data"
    }
   ],
   "source": [
    "plt.subplots(3,1, figsize=(18, 13))\n",
    "plt.subplots_adjust(hspace = 0.3)\n",
    "plt.subplot(3,1,1)\n",
    "plt.plot(training_sizes, deepnet_valid_auc, label=\"Deepnet\")\n",
    "plt.plot(training_sizes, ensemble_valid_auc, label=\"Ensemble\")\n",
    "plt.xlabel('training set size')\n",
    "plt.ylabel('AUC')\n",
    "plt.title('Learning Curve: Deepnet vs Ensemble')\n",
    "plt.grid()\n",
    "plt.legend()\n",
    "plt.subplot(3,1,2)\n",
    "plt.plot(training_sizes, deepnet_train_auc, label=\"training\")\n",
    "plt.plot(training_sizes, deepnet_valid_auc, label=\"dev\")\n",
    "plt.plot([0,150000],[0.87, 0.87])\n",
    "plt.xlabel('training set size')\n",
    "plt.ylabel('AUC')\n",
    "plt.title('Deepnet Learning Curve: dev vs training')\n",
    "plt.grid()\n",
    "plt.legend()\n",
    "plt.subplot(3,1,3)\n",
    "plt.plot(training_sizes, ensemble_train_auc, label=\"training\")\n",
    "plt.plot(training_sizes, ensemble_valid_auc, label=\"dev\")\n",
    "plt.plot([0,150000],[0.87, 0.87])\n",
    "plt.xlabel('training set size')\n",
    "plt.ylabel('AUC')\n",
    "plt.title('Esemble Learning Curve: dev vs training')\n",
    "plt.grid()\n",
    "plt.legend()\n",
    "plt.show()"
   ]
  },
  {
   "cell_type": "code",
   "execution_count": 134,
   "metadata": {},
   "outputs": [],
   "source": [
    "def delete_all(project_data):\n",
    "    for size in project_data['models']:\n",
    "        for model_type in project_data['models'][size]:\n",
    "            model_data = project_data['models'][size][model_type]\n",
    "            if model_type == 'ensemble':\n",
    "                api.delete_ensemble(model_data['bigml model'])\n",
    "            if model_type == 'deepnet':\n",
    "                api.delete_deepnet(model_data['bigml model'])\n",
    "            api.delete_evaluation(model_data['valid evaluation'])\n",
    "            api.delete_evaluation(model_data['train evaluation'])     \n",
    "    for size in project_data['train datasets']:\n",
    "        api.delete_dataset(project_data['train datasets'][size])\n",
    "    for size in project_data['train sources']:\n",
    "        api.delete_source(project_data['train sources'][size])\n",
    "    api.delete_dataset(project_data['validation dataset'])\n",
    "    api.delete_source(project_data['validation source'])\n",
    "    project_data={}\n",
    "    data_save(project_data)"
   ]
  },
  {
   "cell_type": "markdown",
   "metadata": {},
   "source": [
    "#delete_all(project_data)\n"
   ]
  },
  {
   "cell_type": "code",
   "execution_count": null,
   "metadata": {},
   "outputs": [],
   "source": []
  },
  {
   "cell_type": "code",
   "execution_count": null,
   "metadata": {},
   "outputs": [],
   "source": []
  }
 ],
 "metadata": {
  "celltoolbar": "Format de la Cellule Texte Brut",
  "kernelspec": {
   "display_name": "Python 3",
   "language": "python",
   "name": "python3"
  },
  "language_info": {
   "codemirror_mode": {
    "name": "ipython",
    "version": 3
   },
   "file_extension": ".py",
   "mimetype": "text/x-python",
   "name": "python",
   "nbconvert_exporter": "python",
   "pygments_lexer": "ipython3",
   "version": "3.6.9"
  }
 },
 "nbformat": 4,
 "nbformat_minor": 2
}
