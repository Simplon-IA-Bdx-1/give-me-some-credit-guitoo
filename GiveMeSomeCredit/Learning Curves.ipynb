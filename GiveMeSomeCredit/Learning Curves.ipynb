{
 "cells": [
  {
   "cell_type": "code",
   "execution_count": 51,
   "metadata": {},
   "outputs": [],
   "source": [
    "from pandas import DataFrame, read_csv, to_numeric\n",
    "from sklearn.model_selection import train_test_split\n",
    "from sklearn.metrics import roc_curve, auc, roc_auc_score\n",
    "import matplotlib.pyplot as plt\n",
    "from pickle import load, dump\n",
    "from bigml.api import BigML\n",
    "import kaggle\n",
    "from pprint import pprint\n",
    "from os import path\n",
    "\n",
    "%matplotlib inline"
   ]
  },
  {
   "cell_type": "code",
   "execution_count": 69,
   "metadata": {},
   "outputs": [],
   "source": [
    "big_ml_project = 'project/5d94a428eba31d460c00023f'\n",
    "api = BigML(project=big_ml_project)"
   ]
  },
  {
   "cell_type": "code",
   "execution_count": 8,
   "metadata": {},
   "outputs": [],
   "source": [
    "project = 'gmsc'\n",
    "version = 'learning-curve'\n",
    "jar_filename = project + '-' + version + '-picklejar'"
   ]
  },
  {
   "cell_type": "code",
   "execution_count": 10,
   "metadata": {},
   "outputs": [],
   "source": [
    "def save():\n",
    "    with open(jar_filename, 'wb') as file:\n",
    "        dump(project_data,file)\n",
    "def load():\n",
    "    if path.exists(jar_filename):\n",
    "        with open(jar_filename, 'rb') as file:\n",
    "            project_data = load(file)"
   ]
  },
  {
   "cell_type": "code",
   "execution_count": null,
   "metadata": {},
   "outputs": [],
   "source": [
    "load()"
   ]
  },
  {
   "cell_type": "code",
   "execution_count": 9,
   "metadata": {},
   "outputs": [],
   "source": [
    "project_data={}\n",
    "project_data['fulltrain file']='cs-train.csv'\n",
    "project_data['test file']='cs-test.csv'"
   ]
  },
  {
   "cell_type": "code",
   "execution_count": 11,
   "metadata": {},
   "outputs": [
    {
     "data": {
      "text/plain": [
       "150000"
      ]
     },
     "execution_count": 11,
     "metadata": {},
     "output_type": "execute_result"
    }
   ],
   "source": [
    "fulltrain=read_csv('./cs-training.csv',index_col=0)\n",
    "len(fulltrain)"
   ]
  },
  {
   "cell_type": "code",
   "execution_count": 30,
   "metadata": {},
   "outputs": [],
   "source": [
    "fixed_seed=12345\n",
    "train, valid = train_test_split(fulltrain, test_size=0.2, random_state=fixed_seed)\n",
    "valid_filename = project + '-' + version + '-valid' + '.csv.bz2'\n",
    "valid.to_csv(vaild_filename,index_label='Id')\n",
    "train_filename = project + '-' + version + '-train' + '.csv.bz2'\n",
    "train.to_csv(train_filename,index_label='Id')\n",
    "project_data['validation file'] = valid_filename"
   ]
  },
  {
   "cell_type": "code",
   "execution_count": 44,
   "metadata": {},
   "outputs": [],
   "source": [
    "if 'models' not in project_data:\n",
    "    project_data['models']={}\n",
    "if 'train sources' not in project_data:\n",
    "    project_data['train sources']={}\n",
    "if 'train datasets' not in project_data:\n",
    "    project_data['train datasets']={}"
   ]
  },
  {
   "cell_type": "code",
   "execution_count": 48,
   "metadata": {},
   "outputs": [],
   "source": [
    "save()"
   ]
  },
  {
   "cell_type": "code",
   "execution_count": 40,
   "metadata": {},
   "outputs": [
    {
     "name": "stdout",
     "output_type": "stream",
     "text": [
      "'source/5dbf01737811dd055400102d'\n"
     ]
    }
   ],
   "source": [
    "if 'validation source' not in project_data:\n",
    "    valid_src = api.create_source(valid_filename)\n",
    "    api.ok(valid_src)\n",
    "    project_data['validation source']=valid_src['resource']\n",
    "else:\n",
    "    valid_src = api.get_source(project_data['validation source'])\n",
    "pprint(valid_src['resource'])"
   ]
  },
  {
   "cell_type": "code",
   "execution_count": 42,
   "metadata": {},
   "outputs": [
    {
     "name": "stdout",
     "output_type": "stream",
     "text": [
      "'dataset/5dbf04295299631c8200fd06'\n"
     ]
    }
   ],
   "source": [
    "if 'validation dataset' not in project_data:\n",
    "    valid_ds = api.create_dataset(valid_src)\n",
    "    api.ok(valid_ds)\n",
    "    project_data['validation dataset']=valid_ds['resource']\n",
    "else:\n",
    "    valid_ds = api.get_dataset(project_data['validation dataset'])\n",
    "pprint(valid_ds['resource'])"
   ]
  },
  {
   "cell_type": "code",
   "execution_count": 31,
   "metadata": {},
   "outputs": [],
   "source": [
    "training_sizes=[5000,10000,25000,50000,100000,150000]\n",
    "models=['ensemble','deepnet']"
   ]
  },
  {
   "cell_type": "code",
   "execution_count": 46,
   "metadata": {},
   "outputs": [
    {
     "name": "stdout",
     "output_type": "stream",
     "text": [
      "{'fulltrain file': 'cs-train.csv',\n",
      " 'models': [],\n",
      " 'test file': 'cs-test.csv',\n",
      " 'train datasets': {},\n",
      " 'train sources': {},\n",
      " 'validation dataset': 'dataset/5dbf04295299631c8200fd06',\n",
      " 'validation file': 'gmsc-learning-curve-valid.csv.bz2',\n",
      " 'validation source': 'source/5dbf01737811dd055400102d'}\n"
     ]
    }
   ],
   "source": [
    "pprint(project_data)"
   ]
  },
  {
   "cell_type": "code",
   "execution_count": 52,
   "metadata": {},
   "outputs": [],
   "source": [
    "for size in training_sizes:\n",
    "    train_filename = project + '-' + version + '-train-' + str(size) + '.csv.bz2'\n",
    "    if not path.exists(train_filename):\n",
    "        if size != 150000:\n",
    "            train_partial = train.sample(size)\n",
    "        else:\n",
    "            train_partial = train\n",
    "        train_partial.to_csv(train_filename, index_label='Id')\n",
    "        \n",
    "    if size not in project_data['train sources']:\n",
    "        train_src = api.create_source(train_filename)\n",
    "        api.ok(train_src)\n",
    "        project_data['train sources'][size]=train_src['resource']\n",
    "    else:\n",
    "        train_src = api.get_source(project_data['train sources'][size])\n",
    "        \n",
    "    if size not in project_data['train datasets']:\n",
    "        train_ds = api.create_dataset(train_src)\n",
    "        api.ok(train_ds)\n",
    "        project_data['train datasets'][size]=train_ds['resource']\n",
    "    else:\n",
    "        train_ds = api.get_source(project_data['train datasets'][size])"
   ]
  },
  {
   "cell_type": "code",
   "execution_count": 53,
   "metadata": {},
   "outputs": [],
   "source": [
    "save()"
   ]
  },
  {
   "cell_type": "code",
   "execution_count": 56,
   "metadata": {},
   "outputs": [],
   "source": [
    "for size in training_sizes:\n",
    "    for model_type in models:\n",
    "        if size not in project_data['models']:\n",
    "            project_data['models'][size]={}\n",
    "        if model_type not in project_data['models'][size]:\n",
    "            project_data['models'][size][model_type]={}\n",
    "        model = project_data['models'][size][model_type]\n",
    "        model['size'] = size\n",
    "        model['model type'] = model_type\n",
    "        model['train source'] = project_data['train sources'][size]\n",
    "        model['train dataset'] = project_data['train datasets'][size]"
   ]
  },
  {
   "cell_type": "code",
   "execution_count": 76,
   "metadata": {},
   "outputs": [
    {
     "name": "stdout",
     "output_type": "stream",
     "text": [
      "Training ensemble-5000\n",
      "Done\n",
      "Training deepnet-5000\n",
      "Done\n",
      "Training ensemble-10000\n",
      "Done\n",
      "Training deepnet-10000\n",
      "Done\n",
      "Training ensemble-25000\n",
      "Done\n",
      "Training deepnet-25000\n",
      "Done\n",
      "Training ensemble-50000\n",
      "Done\n",
      "Training deepnet-50000\n",
      "Done\n",
      "Training ensemble-100000\n",
      "Done\n",
      "Training deepnet-100000\n",
      "Done\n",
      "Training ensemble-150000\n",
      "Done\n",
      "Training deepnet-150000\n",
      "Done\n"
     ]
    }
   ],
   "source": [
    "model_args= {\"objective_field\": \"SeriousDlqin2yrs\"}\n",
    "for size in project_data['models']:\n",
    "    for model_type in project_data['models'][size]:\n",
    "        print('Training ' + model_type + '-' + str(size))\n",
    "        model_data = project_data['models'][size][model_type]\n",
    "        train_ds = model_data['train dataset']\n",
    "        if 'bigml model' not in model_data:\n",
    "            if model_type == 'ensemble':\n",
    "                model = api.create_ensemble(train_ds, model_args)\n",
    "                api.ok(model)\n",
    "                model_data['bigml model'] = model['resource']\n",
    "            elif model_type == 'deepnet':\n",
    "                model = api.create_deepnet(train_ds, model_args)\n",
    "                api.ok(model)\n",
    "                model_data['bigml model'] = model['resource']\n",
    "        print('Done')"
   ]
  },
  {
   "cell_type": "code",
   "execution_count": 77,
   "metadata": {},
   "outputs": [],
   "source": [
    "save()"
   ]
  },
  {
   "cell_type": "code",
   "execution_count": 85,
   "metadata": {},
   "outputs": [
    {
     "name": "stdout",
     "output_type": "stream",
     "text": [
      "Evaluating ensemble-5000\n",
      "Done\n",
      "Evaluating deepnet-5000\n",
      "Done\n",
      "Evaluating ensemble-10000\n",
      "Done\n",
      "Evaluating deepnet-10000\n",
      "Done\n",
      "Evaluating ensemble-25000\n",
      "Done\n",
      "Evaluating deepnet-25000\n",
      "Done\n",
      "Evaluating ensemble-50000\n",
      "Done\n",
      "Evaluating deepnet-50000\n",
      "Done\n",
      "Evaluating ensemble-100000\n",
      "Done\n",
      "Evaluating deepnet-100000\n",
      "Done\n",
      "Evaluating ensemble-150000\n",
      "Done\n",
      "Evaluating deepnet-150000\n",
      "Done\n"
     ]
    }
   ],
   "source": [
    "for size in project_data['models']:\n",
    "    for model_type in project_data['models'][size]:\n",
    "        print('Evaluating ' + model_type + '-' + str(size))\n",
    "        model_data = project_data['models'][size][model_type]\n",
    "        if model_type == 'ensemble':\n",
    "            model = api.get_ensemble(model_data['bigml model'])\n",
    "        if model_type == 'deepnet':\n",
    "            model = api.get_deepnet(model_data['bigml model'])\n",
    "        if 'valid evaluation' not in model_data:\n",
    "            evaluation = api.create_evaluation(model, project_data['validation dataset'])\n",
    "            api.ok(evaluation)\n",
    "            model_data['valid evaluation'] = evaluation['resource']\n",
    "        if 'train evaluation' not in model_data:\n",
    "            evaluation = api.create_evaluation(model, model_data['train dataset'])\n",
    "            api.ok(evaluation)\n",
    "            model_data['train evaluation'] = evaluation['resource']\n",
    "        print('Done')"
   ]
  },
  {
   "cell_type": "code",
   "execution_count": 86,
   "metadata": {},
   "outputs": [],
   "source": [
    "deepnet_train_auc=[]\n",
    "ensemble_train_auc=[]\n",
    "deepnet_valid_auc=[]\n",
    "ensemble_valid_auc=[]\n",
    "for size in training_sizes:\n",
    "    evaluation = api.get_evaluation(project_data['models'][size]['deepnet']['train evaluation'])\n",
    "    auc = evaluation['object']['result']['model']['average_area_under_roc_curve']\n",
    "    deepnet_train_auc.append(auc)\n",
    "    \n",
    "    evaluation = api.get_evaluation(project_data['models'][size]['ensemble']['train evaluation'])\n",
    "    auc = evaluation['object']['result']['model']['average_area_under_roc_curve']\n",
    "    ensemble_train_auc.append(auc)\n",
    "    \n",
    "    evaluation = api.get_evaluation(project_data['models'][size]['deepnet']['valid evaluation'])\n",
    "    auc = evaluation['object']['result']['model']['average_area_under_roc_curve']\n",
    "    deepnet_valid_auc.append(auc)\n",
    "    \n",
    "    evaluation = api.get_evaluation(project_data['models'][size]['ensemble']['valid evaluation'])\n",
    "    auc = evaluation['object']['result']['model']['average_area_under_roc_curve']\n",
    "    ensemble_valid_auc.append(auc)"
   ]
  },
  {
   "cell_type": "code",
   "execution_count": 122,
   "metadata": {},
   "outputs": [
    {
     "data": {
      "image/png": "[encoded data removed]",
      "text/plain": [
       "<Figure size 1296x936 with 3 Axes>"
      ]
     },
     "metadata": {
      "needs_background": "light"
     },
     "output_type": "display_data"
    }
   ],
   "source": [
    "plt.subplots(3,1, figsize=(18, 13))\n",
    "plt.subplots_adjust(hspace = 0.3)\n",
    "plt.subplot(3,1,1)\n",
    "plt.plot(training_sizes, deepnet_valid_auc, label=\"Deepnet\")\n",
    "plt.plot(training_sizes, ensemble_valid_auc, label=\"Ensemble\")\n",
    "plt.xlabel('training set size')\n",
    "plt.ylabel('AUC')\n",
    "plt.title('Learning Curve: Deepnet vs Ensemble')\n",
    "plt.grid()\n",
    "plt.legend()\n",
    "plt.subplot(3,1,2)\n",
    "plt.plot(training_sizes, deepnet_train_auc, label=\"training\")\n",
    "plt.plot(training_sizes, deepnet_valid_auc, label=\"dev\")\n",
    "plt.xlabel('training set size')\n",
    "plt.ylabel('AUC')\n",
    "plt.title('Deepnet Learning Curve: dev vs training')\n",
    "plt.grid()\n",
    "plt.legend()\n",
    "plt.subplot(3,1,3)\n",
    "plt.plot(training_sizes, ensemble_train_auc, label=\"training\")\n",
    "plt.plot(training_sizes, ensemble_valid_auc, label=\"dev\")\n",
    "plt.xlabel('training set size')\n",
    "plt.ylabel('AUC')\n",
    "plt.title('Esemble Learning Curve: dev vs training')\n",
    "plt.grid()\n",
    "plt.legend()\n",
    "plt.show()"
   ]
  },
  {
   "cell_type": "code",
   "execution_count": null,
   "metadata": {},
   "outputs": [],
   "source": []
  }
 ],
 "metadata": {
  "kernelspec": {
   "display_name": "Python 3",
   "language": "python",
   "name": "python3"
  },
  "language_info": {
   "codemirror_mode": {
    "name": "ipython",
    "version": 3
   },
   "file_extension": ".py",
   "mimetype": "text/x-python",
   "name": "python",
   "nbconvert_exporter": "python",
   "pygments_lexer": "ipython3",
   "version": "3.7.4"
  }
 },
 "nbformat": 4,
 "nbformat_minor": 2
}
