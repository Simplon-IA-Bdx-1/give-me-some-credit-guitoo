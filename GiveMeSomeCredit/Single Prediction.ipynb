{
 "cells": [
  {
   "cell_type": "code",
   "execution_count": 4,
   "metadata": {},
   "outputs": [],
   "source": [
    "from bigml.api import BigML\n",
    "from pandas import DataFrame, to_numeric\n",
    "import numpy\n",
    "from pprint import pprint\n",
    "from math import isnan"
   ]
  },
  {
   "cell_type": "code",
   "execution_count": 5,
   "metadata": {},
   "outputs": [],
   "source": [
    "big_ml_project = 'project/5d94a428eba31d460c00023f'\n",
    "api = BigML(project=big_ml_project)"
   ]
  },
  {
   "cell_type": "code",
   "execution_count": 6,
   "metadata": {},
   "outputs": [],
   "source": [
    "model_id = 'ensemble/5db3a3a55299631c8200a5ed'"
   ]
  },
  {
   "cell_type": "code",
   "execution_count": 7,
   "metadata": {},
   "outputs": [],
   "source": [
    "input = {\n",
    "    \"RevolvingUtilizationOfUnsecuredLines\": 0.01703559,\n",
    "    \"NumberOfDependents\": 1,\n",
    "    \"DebtRatio\": 0,\n",
    "    \"age\": 42,\n",
    "    \"NumberOfOpenCreditLinesAndLoans\": 6,\n",
    "    \"NumberRealEstateLoansOrLines\": 1,\n",
    "    \"NumberOfTime30-59DaysPastDueNotWorse\": 1,\n",
    "    \"NumberOfTime60-89DaysPastDueNotWorse\": 0,\n",
    "    \"NumberOfTimes90DaysLate\": 0\n",
    "}"
   ]
  },
  {
   "cell_type": "code",
   "execution_count": 8,
   "metadata": {},
   "outputs": [],
   "source": [
    "if 'MonthlyIncome' not in input:\n",
    "    input['MonthlyIncome'] = None"
   ]
  },
  {
   "cell_type": "markdown",
   "metadata": {},
   "source": [
    "Apply all feature mods."
   ]
  },
  {
   "cell_type": "code",
   "execution_count": 9,
   "metadata": {},
   "outputs": [
    {
     "data": {
      "text/plain": [
       "{'mods': ['monthly_income_fillna'],\n",
       " 'fulltrain_csv': 'cs-training.csv',\n",
       " 'test_csv': 'cs-test.csv'}"
      ]
     },
     "execution_count": 9,
     "metadata": {},
     "output_type": "execute_result"
    }
   ],
   "source": [
    "from tools import json_save_project, json_load_project\n",
    "project = 'gmsc'\n",
    "version = 'v1.3'\n",
    "project_data = json_load_project(project, version)\n",
    "project_data"
   ]
  },
  {
   "cell_type": "code",
   "execution_count": 20,
   "metadata": {},
   "outputs": [],
   "source": [
    "import import_ipynb\n",
    "import features"
   ]
  },
  {
   "cell_type": "code",
   "execution_count": 21,
   "metadata": {},
   "outputs": [],
   "source": [
    "df  = DataFrame(input, index=[0])"
   ]
  },
  {
   "cell_type": "code",
   "execution_count": 22,
   "metadata": {},
   "outputs": [],
   "source": [
    "function='monthly_income_fillna'\n",
    "getattr(features, function)(df)"
   ]
  },
  {
   "cell_type": "code",
   "execution_count": 7,
   "metadata": {},
   "outputs": [
    {
     "data": {
      "text/html": [
       "<div>\n",
       "<style scoped>\n",
       "    .dataframe tbody tr th:only-of-type {\n",
       "        vertical-align: middle;\n",
       "    }\n",
       "\n",
       "    .dataframe tbody tr th {\n",
       "        vertical-align: top;\n",
       "    }\n",
       "\n",
       "    .dataframe thead th {\n",
       "        text-align: right;\n",
       "    }\n",
       "</style>\n",
       "<table border=\"1\" class=\"dataframe\">\n",
       "  <thead>\n",
       "    <tr style=\"text-align: right;\">\n",
       "      <th></th>\n",
       "      <th>RevolvingUtilizationOfUnsecuredLines</th>\n",
       "      <th>DebtRatio</th>\n",
       "      <th>age</th>\n",
       "      <th>NumberOfOpenCreditLinesAndLoans</th>\n",
       "      <th>NumberRealEstateLoansOrLines</th>\n",
       "      <th>MonthlyIncome</th>\n",
       "      <th>MonthlyDebt</th>\n",
       "      <th>BalancedIncome</th>\n",
       "      <th>IncomePerHouseholdMember</th>\n",
       "      <th>LateCategory</th>\n",
       "      <th>LateScore</th>\n",
       "    </tr>\n",
       "  </thead>\n",
       "  <tbody>\n",
       "    <tr>\n",
       "      <th>0</th>\n",
       "      <td>0.017036</td>\n",
       "      <td>0</td>\n",
       "      <td>42</td>\n",
       "      <td>6</td>\n",
       "      <td>1</td>\n",
       "      <td>0</td>\n",
       "      <td>0</td>\n",
       "      <td>NaN</td>\n",
       "      <td>NaN</td>\n",
       "      <td>L0</td>\n",
       "      <td>1.0</td>\n",
       "    </tr>\n",
       "  </tbody>\n",
       "</table>\n",
       "</div>"
      ],
      "text/plain": [
       "   RevolvingUtilizationOfUnsecuredLines  DebtRatio  age  \\\n",
       "0                              0.017036          0   42   \n",
       "\n",
       "   NumberOfOpenCreditLinesAndLoans  NumberRealEstateLoansOrLines  \\\n",
       "0                                6                             1   \n",
       "\n",
       "   MonthlyIncome  MonthlyDebt  BalancedIncome  IncomePerHouseholdMember  \\\n",
       "0              0            0             NaN                       NaN   \n",
       "\n",
       "  LateCategory  LateScore  \n",
       "0           L0        1.0  "
      ]
     },
     "execution_count": 7,
     "metadata": {},
     "output_type": "execute_result"
    }
   ],
   "source": [
    "mode_debt_ratio=0.062488\n",
    "df.loc[:,'MonthlyIncome'].fillna(0, inplace=True)\n",
    "df.loc[:,'DebtRatio'].fillna(mode_debt_ratio, inplace=True)\n",
    "df.loc[:,'MonthlyDebt']=df['DebtRatio']*df['MonthlyIncome']\n",
    "df.loc[df['MonthlyIncome'] == 0,'MonthlyDebt']=df.loc[df['MonthlyIncome'] == 0,'DebtRatio']\n",
    "df.loc[df['MonthlyIncome'] == 0,'DebtRatio']=0\n",
    "income_positive = df['MonthlyIncome'] > df['MonthlyDebt']\n",
    "df.loc[income_positive,'BalancedIncome']= df.loc[income_positive,'MonthlyIncome'] - df.loc[income_positive,'MonthlyDebt']\n",
    "df.loc[:,'NumberOfDependents'].fillna(0, inplace=True)\n",
    "df.loc[:,'NumberOfDependents']=to_numeric(df['NumberOfDependents'],downcast='integer')\n",
    "df.loc[:,'IncomePerHouseholdMember']= df['BalancedIncome'] / (df['NumberOfDependents']+1)\n",
    "df.loc[:,'LateCategory']=\"L0\"\n",
    "df.loc[df['NumberOfTimes90DaysLate'] == 98,'LateCategory']=\"L98\"\n",
    "df.loc[df['NumberOfTimes90DaysLate'] == 96,'LateCategory']=\"L96\"\n",
    "df.loc[(df['NumberOfTimes90DaysLate'] == 98) | (df['NumberOfTimes90DaysLate'] == 96),\n",
    "        ['NumberOfTime30-59DaysPastDueNotWorse','NumberOfTime60-89DaysPastDueNotWorse','NumberOfTimes90DaysLate']]=None\n",
    "weight=[1,2,3]\n",
    "df.loc[:,'LateScore']=weight[2]*df['NumberOfTimes90DaysLate']+weight[1]*df['NumberOfTime60-89DaysPastDueNotWorse']+weight[0]*df['NumberOfTime30-59DaysPastDueNotWorse']\n",
    "df.drop('NumberOfTime30-59DaysPastDueNotWorse', axis=1, inplace=True)\n",
    "df.drop('NumberOfTime60-89DaysPastDueNotWorse', axis=1, inplace=True)\n",
    "df.drop('NumberOfTimes90DaysLate', axis=1, inplace=True)\n",
    "df.drop('NumberOfDependents', axis=1, inplace=True)\n",
    "\n",
    "df"
   ]
  },
  {
   "cell_type": "code",
   "execution_count": 8,
   "metadata": {},
   "outputs": [
    {
     "name": "stdout",
     "output_type": "stream",
     "text": [
      "{'DebtRatio': 0,\n",
      " 'MonthlyIncome': None,\n",
      " 'NumberOfDependents': 1,\n",
      " 'NumberOfOpenCreditLinesAndLoans': 6,\n",
      " 'NumberOfTime30-59DaysPastDueNotWorse': 1,\n",
      " 'NumberOfTime60-89DaysPastDueNotWorse': 0,\n",
      " 'NumberOfTimes90DaysLate': 0,\n",
      " 'NumberRealEstateLoansOrLines': 1,\n",
      " 'RevolvingUtilizationOfUnsecuredLines': 0.01703559,\n",
      " 'age': 42}\n"
     ]
    }
   ],
   "source": [
    "input2 = df.iloc[0].to_dict()\n",
    "pprint(input)"
   ]
  },
  {
   "cell_type": "code",
   "execution_count": 9,
   "metadata": {},
   "outputs": [
    {
     "name": "stdout",
     "output_type": "stream",
     "text": [
      "{'BalancedIncome': 'NA',\n",
      " 'DebtRatio': 0,\n",
      " 'IncomePerHouseholdMember': 'NA',\n",
      " 'LateCategory': 'L0',\n",
      " 'LateScore': 1.0,\n",
      " 'MonthlyDebt': 0,\n",
      " 'MonthlyIncome': 0,\n",
      " 'NumberOfOpenCreditLinesAndLoans': 6,\n",
      " 'NumberRealEstateLoansOrLines': 1,\n",
      " 'RevolvingUtilizationOfUnsecuredLines': 0.01703559,\n",
      " 'age': 42}\n"
     ]
    }
   ],
   "source": [
    "for key in input2:\n",
    "    if isinstance(input2[key], numpy.int64):\n",
    "        input2[key] = int(input2[key])\n",
    "    if isinstance(input2[key], numpy.float64):\n",
    "        input2[key] = float(input2[key])\n",
    "    if isinstance(input2[key], int) or isinstance(input2[key], float):\n",
    "        if isnan(input2[key]):\n",
    "            input2[key]= 'NA'\n",
    "#    print(type(input2[key]))\n",
    "pprint(input2)"
   ]
  },
  {
   "cell_type": "code",
   "execution_count": 10,
   "metadata": {},
   "outputs": [],
   "source": [
    "model = api.get_ensemble(model_id)"
   ]
  },
  {
   "cell_type": "code",
   "execution_count": 13,
   "metadata": {},
   "outputs": [],
   "source": [
    "prediction = api.create_prediction(model, input2)\n",
    "#prediction"
   ]
  },
  {
   "cell_type": "code",
   "execution_count": 12,
   "metadata": {},
   "outputs": [
    {
     "name": "stdout",
     "output_type": "stream",
     "text": [
      "prediction: 0\n",
      "prediction: 0.9487\n"
     ]
    }
   ],
   "source": [
    "print(f\"prediction: {prediction['object']['output']}\")\n",
    "print(f\"prediction: {prediction['object']['confidence']}\")"
   ]
  }
 ],
 "metadata": {
  "kernelspec": {
   "display_name": "Python 3",
   "language": "python",
   "name": "python3"
  },
  "language_info": {
   "codemirror_mode": {
    "name": "ipython",
    "version": 3
   },
   "file_extension": ".py",
   "mimetype": "text/x-python",
   "name": "python",
   "nbconvert_exporter": "python",
   "pygments_lexer": "ipython3",
   "version": "3.7.4"
  }
 },
 "nbformat": 4,
 "nbformat_minor": 2
}
