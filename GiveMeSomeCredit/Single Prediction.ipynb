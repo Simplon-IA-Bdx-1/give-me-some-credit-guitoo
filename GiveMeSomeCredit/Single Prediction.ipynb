{
 "cells": [
  {
   "cell_type": "code",
   "execution_count": 116,
   "metadata": {},
   "outputs": [],
   "source": [
    "from bigml.api import BigML\n",
    "from pandas import DataFrame, to_numeric\n",
    "import numpy"
   ]
  },
  {
   "cell_type": "code",
   "execution_count": 98,
   "metadata": {},
   "outputs": [],
   "source": [
    "big_ml_project = 'project/5d94a428eba31d460c00023f'\n",
    "api = BigML(project=big_ml_project)"
   ]
  },
  {
   "cell_type": "code",
   "execution_count": 99,
   "metadata": {},
   "outputs": [],
   "source": [
    "model_id = 'ensemble/5db3a3a55299631c8200a5ed'"
   ]
  },
  {
   "cell_type": "code",
   "execution_count": 100,
   "metadata": {},
   "outputs": [],
   "source": [
    "input = {\n",
    "    \"RevolvingUtilizationOfUnsecuredLines\": 0.01703559,\n",
    "    \"NumberOfDependents\": 1,\n",
    "    \"DebtRatio\": 0,\n",
    "    \"age\": 42,\n",
    "    \"NumberOfOpenCreditLinesAndLoans\": 6,\n",
    "    \"NumberRealEstateLoansOrLines\": 1,\n",
    "    \"NumberOfTime30-59DaysPastDueNotWorse\": 1,\n",
    "    \"NumberOfTime60-89DaysPastDueNotWorse\": 0,\n",
    "    \"NumberOfTimes90DaysLate\": 0\n",
    "}"
   ]
  },
  {
   "cell_type": "code",
   "execution_count": 101,
   "metadata": {},
   "outputs": [],
   "source": [
    "if 'MonthlyIncome' not in input:\n",
    "    input['MonthlyIncome'] = None"
   ]
  },
  {
   "cell_type": "markdown",
   "metadata": {},
   "source": [
    "Apply all feature mods."
   ]
  },
  {
   "cell_type": "code",
   "execution_count": 102,
   "metadata": {},
   "outputs": [
    {
     "data": {
      "text/html": [
       "<div>\n",
       "<style scoped>\n",
       "    .dataframe tbody tr th:only-of-type {\n",
       "        vertical-align: middle;\n",
       "    }\n",
       "\n",
       "    .dataframe tbody tr th {\n",
       "        vertical-align: top;\n",
       "    }\n",
       "\n",
       "    .dataframe thead th {\n",
       "        text-align: right;\n",
       "    }\n",
       "</style>\n",
       "<table border=\"1\" class=\"dataframe\">\n",
       "  <thead>\n",
       "    <tr style=\"text-align: right;\">\n",
       "      <th></th>\n",
       "      <th>RevolvingUtilizationOfUnsecuredLines</th>\n",
       "      <th>DebtRatio</th>\n",
       "      <th>age</th>\n",
       "      <th>NumberOfOpenCreditLinesAndLoans</th>\n",
       "      <th>NumberRealEstateLoansOrLines</th>\n",
       "      <th>MonthlyIncome</th>\n",
       "      <th>MonthlyDebt</th>\n",
       "      <th>BalancedIncome</th>\n",
       "      <th>IncomePerHouseholdMember</th>\n",
       "      <th>LateCategory</th>\n",
       "      <th>LateScore</th>\n",
       "    </tr>\n",
       "  </thead>\n",
       "  <tbody>\n",
       "    <tr>\n",
       "      <th>0</th>\n",
       "      <td>0.017036</td>\n",
       "      <td>NaN</td>\n",
       "      <td>42</td>\n",
       "      <td>6</td>\n",
       "      <td>1</td>\n",
       "      <td>0</td>\n",
       "      <td>0</td>\n",
       "      <td>NaN</td>\n",
       "      <td>NaN</td>\n",
       "      <td>L0</td>\n",
       "      <td>1.0</td>\n",
       "    </tr>\n",
       "  </tbody>\n",
       "</table>\n",
       "</div>"
      ],
      "text/plain": [
       "   RevolvingUtilizationOfUnsecuredLines  DebtRatio  age  \\\n",
       "0                              0.017036        NaN   42   \n",
       "\n",
       "   NumberOfOpenCreditLinesAndLoans  NumberRealEstateLoansOrLines  \\\n",
       "0                                6                             1   \n",
       "\n",
       "   MonthlyIncome  MonthlyDebt  BalancedIncome  IncomePerHouseholdMember  \\\n",
       "0              0            0             NaN                       NaN   \n",
       "\n",
       "  LateCategory  LateScore  \n",
       "0           L0        1.0  "
      ]
     },
     "execution_count": 102,
     "metadata": {},
     "output_type": "execute_result"
    }
   ],
   "source": [
    "df  = DataFrame(input, index=[0])\n",
    "\n",
    "mode_debt_ratio=0.062488\n",
    "df.loc[:,'MonthlyIncome'].fillna(0, inplace=True)\n",
    "df.loc[:,'DebtRatio'].fillna(mode_debt_ratio, inplace=True)\n",
    "df.loc[:,'MonthlyDebt']=df['DebtRatio']*df['MonthlyIncome']\n",
    "df.loc[df['MonthlyIncome'] == 0,'MonthlyDebt']=df.loc[df['MonthlyIncome'] == 0,'DebtRatio']\n",
    "df.loc[df['MonthlyIncome'] == 0,'DebtRatio']=None\n",
    "income_positive = df['MonthlyIncome'] > df['MonthlyDebt']\n",
    "df.loc[income_positive,'BalancedIncome']= df.loc[income_positive,'MonthlyIncome'] - df.loc[income_positive,'MonthlyDebt']\n",
    "df.loc[:,'NumberOfDependents'].fillna(0, inplace=True)\n",
    "#df.loc[:,'NumberOfDependents']=to_numeric(df['NumberOfDependents'],downcast='integer')\n",
    "df.loc[:,'IncomePerHouseholdMember']= df['BalancedIncome'] / (df['NumberOfDependents']+1)\n",
    "df.loc[:,'LateCategory']=\"L0\"\n",
    "df.loc[df['NumberOfTimes90DaysLate'] == 98,'LateCategory']=\"L98\"\n",
    "df.loc[df['NumberOfTimes90DaysLate'] == 96,'LateCategory']=\"L96\"\n",
    "df.loc[(df['NumberOfTimes90DaysLate'] == 98) | (df['NumberOfTimes90DaysLate'] == 96),\n",
    "        ['NumberOfTime30-59DaysPastDueNotWorse','NumberOfTime60-89DaysPastDueNotWorse','NumberOfTimes90DaysLate']]=None\n",
    "weight=[1,2,3]\n",
    "df.loc[:,'LateScore']=weight[2]*df['NumberOfTimes90DaysLate']+weight[1]*df['NumberOfTime60-89DaysPastDueNotWorse']+weight[0]*df['NumberOfTime30-59DaysPastDueNotWorse']\n",
    "df.drop('NumberOfTime30-59DaysPastDueNotWorse', axis=1, inplace=True)\n",
    "df.drop('NumberOfTime60-89DaysPastDueNotWorse', axis=1, inplace=True)\n",
    "df.drop('NumberOfTimes90DaysLate', axis=1, inplace=True)\n",
    "df.drop('NumberOfDependents', axis=1, inplace=True)\n",
    "\n",
    "df"
   ]
  },
  {
   "cell_type": "code",
   "execution_count": 103,
   "metadata": {},
   "outputs": [
    {
     "data": {
      "text/plain": [
       "{'RevolvingUtilizationOfUnsecuredLines': 0.01703559,\n",
       " 'DebtRatio': nan,\n",
       " 'age': 42,\n",
       " 'NumberOfOpenCreditLinesAndLoans': 6,\n",
       " 'NumberRealEstateLoansOrLines': 1,\n",
       " 'MonthlyIncome': 0,\n",
       " 'MonthlyDebt': 0,\n",
       " 'BalancedIncome': nan,\n",
       " 'IncomePerHouseholdMember': nan,\n",
       " 'LateCategory': 'L0',\n",
       " 'LateScore': 1.0}"
      ]
     },
     "execution_count": 103,
     "metadata": {},
     "output_type": "execute_result"
    }
   ],
   "source": [
    "input = df.iloc[0].to_dict()\n",
    "input"
   ]
  },
  {
   "cell_type": "code",
   "execution_count": 117,
   "metadata": {},
   "outputs": [
    {
     "name": "stdout",
     "output_type": "stream",
     "text": [
      "<class 'numpy.float64'>\n",
      "<class 'numpy.float64'>\n",
      "<class 'int'>\n",
      "<class 'int'>\n",
      "<class 'int'>\n",
      "<class 'int'>\n",
      "<class 'int'>\n",
      "<class 'numpy.float64'>\n",
      "<class 'numpy.float64'>\n",
      "<class 'str'>\n",
      "<class 'numpy.float64'>\n"
     ]
    }
   ],
   "source": [
    "for key in input:\n",
    "    if isinstance(input[key], numpy.int64):\n",
    "        input[key] = int(input[key])\n",
    "        \n",
    "        input[key] = int(input[key])\n",
    "    print(type(input[key]))"
   ]
  },
  {
   "cell_type": "code",
   "execution_count": 118,
   "metadata": {},
   "outputs": [],
   "source": [
    "model = api.get_ensemble(model_id)"
   ]
  },
  {
   "cell_type": "code",
   "execution_count": 119,
   "metadata": {},
   "outputs": [
    {
     "name": "stderr",
     "output_type": "stream",
     "text": [
      "Unexpected error (500)\n"
     ]
    },
    {
     "name": "stdout",
     "output_type": "stream",
     "text": [
      "2019-11-07 17:08:21,499: Unexpected error (500)\n"
     ]
    }
   ],
   "source": [
    "prediction = api.create_prediction(model, input)"
   ]
  },
  {
   "cell_type": "code",
   "execution_count": null,
   "metadata": {},
   "outputs": [],
   "source": [
    "print(f\"prediction: {prediction['object']['output']}\")\n",
    "print(f\"prediction: {prediction['object']['confidence']}\")"
   ]
  },
  {
   "cell_type": "markdown",
   "metadata": {},
   "source": [
    "0.93267"
   ]
  }
 ],
 "metadata": {
  "kernelspec": {
   "display_name": "Python 3",
   "language": "python",
   "name": "python3"
  },
  "language_info": {
   "codemirror_mode": {
    "name": "ipython",
    "version": 3
   },
   "file_extension": ".py",
   "mimetype": "text/x-python",
   "name": "python",
   "nbconvert_exporter": "python",
   "pygments_lexer": "ipython3",
   "version": "3.7.4"
  }
 },
 "nbformat": 4,
 "nbformat_minor": 2
}
