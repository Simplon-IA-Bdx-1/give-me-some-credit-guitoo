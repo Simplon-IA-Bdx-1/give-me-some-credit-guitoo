{
 "cells": [
  {
   "cell_type": "code",
   "execution_count": 48,
   "metadata": {},
   "outputs": [],
   "source": [
    "from bigml.api import BigML\n",
    "from pandas import DataFrame, to_numeric\n",
    "import numpy\n",
    "from pprint import pprint\n",
    "from math import isnan\n",
    "import dataprocessing"
   ]
  },
  {
   "cell_type": "code",
   "execution_count": 49,
   "metadata": {},
   "outputs": [],
   "source": [
    "big_ml_project = 'project/5d94a428eba31d460c00023f'\n",
    "api = BigML(project=big_ml_project)"
   ]
  },
  {
   "cell_type": "code",
   "execution_count": 50,
   "metadata": {},
   "outputs": [],
   "source": [
    "model_id = 'ensemble/5db3a3a55299631c8200a5ed'"
   ]
  },
  {
   "cell_type": "code",
   "execution_count": 51,
   "metadata": {},
   "outputs": [],
   "source": [
    "input = {\n",
    "    \"RevolvingUtilizationOfUnsecuredLines\": 0.01703559,\n",
    "    \"NumberOfDependents\": 1,\n",
    "    \"DebtRatio\": 0,\n",
    "    \"age\": 42,\n",
    "    \"NumberOfOpenCreditLinesAndLoans\": 6,\n",
    "    \"NumberRealEstateLoansOrLines\": 1,\n",
    "    \"NumberOfTime30-59DaysPastDueNotWorse\": 1,\n",
    "    \"NumberOfTime60-89DaysPastDueNotWorse\": 0,\n",
    "    \"NumberOfTimes90DaysLate\": 0\n",
    "}"
   ]
  },
  {
   "cell_type": "code",
   "execution_count": 52,
   "metadata": {},
   "outputs": [],
   "source": [
    "if 'MonthlyIncome' not in input:\n",
    "    input['MonthlyIncome'] = None"
   ]
  },
  {
   "cell_type": "markdown",
   "metadata": {},
   "source": [
    "Apply all feature mods."
   ]
  },
  {
   "cell_type": "code",
   "execution_count": 53,
   "metadata": {},
   "outputs": [
    {
     "name": "stdout",
     "output_type": "stream",
     "text": [
      "{'fulltrain_csv': 'cs-training.csv',\n",
      " 'mods': ['monthly_income_fillna'],\n",
      " 'processing': [{'arguments': {'column': 'MonthlyIncome', 'value': 0},\n",
      "                 'function': 'process_fillna'},\n",
      "                {'arguments': {'column': 'DebtRatio', 'value': 0.0},\n",
      "                 'function': 'process_fillna'},\n",
      "                {'arguments': {'debt_ratio_fill_value': None},\n",
      "                 'function': 'monthly_debt'},\n",
      "                {'arguments': {}, 'function': 'balanced_income'},\n",
      "                {'arguments': {'column': 'NumberOfDependents', 'value': 0},\n",
      "                 'function': 'process_fillna'},\n",
      "                {'arguments': {}, 'function': 'income_per_hm'},\n",
      "                {'arguments': {}, 'function': 'late_category'},\n",
      "                {'arguments': {'weight': [1, 2, 3]}, 'function': 'late_score'},\n",
      "                {'arguments': {'columns': ['NumberOfTime30-59DaysPastDueNotWorse',\n",
      "                                           'NumberOfTime60-89DaysPastDueNotWorse',\n",
      "                                           'NumberOfTimes90DaysLate',\n",
      "                                           'NumberOfDependents']},\n",
      "                 'function': 'drop_columns'}],\n",
      " 'test_csv': 'cs-test.csv'}\n"
     ]
    }
   ],
   "source": [
    "from tools import json_save_project, json_load_project\n",
    "project = 'gmsc'\n",
    "version = 'v1.3'\n",
    "project_data = json_load_project(project, version)\n",
    "pprint(project_data)"
   ]
  },
  {
   "cell_type": "code",
   "execution_count": 54,
   "metadata": {},
   "outputs": [],
   "source": [
    "# import import_ipynb\n",
    "# import features"
   ]
  },
  {
   "cell_type": "code",
   "execution_count": 55,
   "metadata": {},
   "outputs": [],
   "source": [
    "df  = DataFrame(input, index=[0])"
   ]
  },
  {
   "cell_type": "code",
   "execution_count": 56,
   "metadata": {},
   "outputs": [],
   "source": [
    "for process in project_data['processing']:\n",
    "    getattr(dataprocessing, process['function'])(df, **process['arguments'])"
   ]
  },
  {
   "cell_type": "code",
   "execution_count": 57,
   "metadata": {},
   "outputs": [
    {
     "name": "stdout",
     "output_type": "stream",
     "text": [
      "{'DebtRatio': 0,\n",
      " 'MonthlyIncome': None,\n",
      " 'NumberOfDependents': 1,\n",
      " 'NumberOfOpenCreditLinesAndLoans': 6,\n",
      " 'NumberOfTime30-59DaysPastDueNotWorse': 1,\n",
      " 'NumberOfTime60-89DaysPastDueNotWorse': 0,\n",
      " 'NumberOfTimes90DaysLate': 0,\n",
      " 'NumberRealEstateLoansOrLines': 1,\n",
      " 'RevolvingUtilizationOfUnsecuredLines': 0.01703559,\n",
      " 'age': 42}\n"
     ]
    }
   ],
   "source": [
    "input2 = df.iloc[0].to_dict()\n",
    "pprint(input)"
   ]
  },
  {
   "cell_type": "code",
   "execution_count": 58,
   "metadata": {},
   "outputs": [
    {
     "name": "stdout",
     "output_type": "stream",
     "text": [
      "{'BalancedIncome': 'NA',\n",
      " 'DebtRatio': 'NA',\n",
      " 'IncomePerHouseholdMember': 'NA',\n",
      " 'LateCategory': 'L0',\n",
      " 'LateScore': 1.0,\n",
      " 'MonthlyDebt': 0,\n",
      " 'MonthlyIncome': 0,\n",
      " 'NumberOfOpenCreditLinesAndLoans': 6,\n",
      " 'NumberRealEstateLoansOrLines': 1,\n",
      " 'RevolvingUtilizationOfUnsecuredLines': 0.01703559,\n",
      " 'age': 42}\n"
     ]
    }
   ],
   "source": [
    "for key in input2:\n",
    "    if isinstance(input2[key], numpy.int64):\n",
    "        input2[key] = int(input2[key])\n",
    "    if isinstance(input2[key], numpy.float64):\n",
    "        input2[key] = float(input2[key])\n",
    "    if isinstance(input2[key], int) or isinstance(input2[key], float):\n",
    "        if isnan(input2[key]):\n",
    "            input2[key]= 'NA'\n",
    "#    print(type(input2[key]))\n",
    "pprint(input2)"
   ]
  },
  {
   "cell_type": "code",
   "execution_count": 59,
   "metadata": {},
   "outputs": [],
   "source": [
    "model = api.get_ensemble(model_id)"
   ]
  },
  {
   "cell_type": "code",
   "execution_count": 60,
   "metadata": {},
   "outputs": [],
   "source": [
    "prediction = api.create_prediction(model, input2)\n",
    "#prediction"
   ]
  },
  {
   "cell_type": "code",
   "execution_count": 61,
   "metadata": {},
   "outputs": [
    {
     "name": "stdout",
     "output_type": "stream",
     "text": [
      "prediction: 0\n",
      "confidence: 0.9477\n"
     ]
    }
   ],
   "source": [
    "print(f\"prediction: {prediction['object']['output']}\")\n",
    "print(f\"confidence: {prediction['object']['confidence']}\")"
   ]
  },
  {
   "cell_type": "code",
   "execution_count": null,
   "metadata": {},
   "outputs": [],
   "source": []
  }
 ],
 "metadata": {
  "kernelspec": {
   "display_name": "Python 3",
   "language": "python",
   "name": "python3"
  },
  "language_info": {
   "codemirror_mode": {
    "name": "ipython",
    "version": 3
   },
   "file_extension": ".py",
   "mimetype": "text/x-python",
   "name": "python",
   "nbconvert_exporter": "python",
   "pygments_lexer": "ipython3",
   "version": "3.7.4"
  }
 },
 "nbformat": 4,
 "nbformat_minor": 2
}
