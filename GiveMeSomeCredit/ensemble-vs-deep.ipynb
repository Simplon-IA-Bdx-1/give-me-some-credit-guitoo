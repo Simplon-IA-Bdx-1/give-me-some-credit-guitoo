{
 "cells": [
  {
   "cell_type": "code",
   "execution_count": 64,
   "metadata": {},
   "outputs": [],
   "source": [
    "from pandas import DataFrame, read_csv, to_numeric, Series\n",
    "from sklearn.model_selection import train_test_split\n",
    "from sklearn.metrics import roc_curve, auc, roc_auc_score\n",
    "import matplotlib.pyplot as plt\n",
    "from bigml.api import BigML\n",
    "import kaggle\n",
    "from pprint import pprint\n",
    "\n",
    "%matplotlib inline"
   ]
  },
  {
   "cell_type": "code",
   "execution_count": 65,
   "metadata": {},
   "outputs": [],
   "source": [
    "ensemble_prediction_file = 'gmsc-valid-pred-v1.3.csv'\n",
    "deepnet_prediction_file = 'gmsc-valid-pred-v1.3-deep.csv'"
   ]
  },
  {
   "cell_type": "code",
   "execution_count": 66,
   "metadata": {},
   "outputs": [],
   "source": [
    "deepnet_prediction=read_csv(deepnet_prediction_file, index_col='Id')\n",
    "ensemble_prediction=read_csv(ensemble_prediction_file, index_col='Id')"
   ]
  },
  {
   "cell_type": "code",
   "execution_count": 67,
   "metadata": {},
   "outputs": [
    {
     "name": "stdout",
     "output_type": "stream",
     "text": [
      "Deep Net auc: 0.8510255923768169\n",
      "Ensemble auc: 0.8555263502630377\n"
     ]
    }
   ],
   "source": [
    "deepnet_score = roc_auc_score(deepnet_prediction['SeriousDlqin2yrs'].values,deepnet_prediction['1 probability'].values)\n",
    "ensemble_score = roc_auc_score(ensemble_prediction['SeriousDlqin2yrs'].values,ensemble_prediction['1 probability'].values)\n",
    "print(f\"Deep Net auc: {deepnet_score}\")\n",
    "print(f\"Ensemble auc: {ensemble_score}\")"
   ]
  },
  {
   "cell_type": "code",
   "execution_count": 68,
   "metadata": {},
   "outputs": [
    {
     "data": {
      "image/png": "[encoded data removed]",
      "text/plain": [
       "<Figure size 432x288 with 1 Axes>"
      ]
     },
     "metadata": {
      "needs_background": "light"
     },
     "output_type": "display_data"
    }
   ],
   "source": [
    "deep_fpr, deep_tpr, deep_thresholds = roc_curve(deepnet_prediction['SeriousDlqin2yrs'], deepnet_prediction['1 probability'])\n",
    "ens_fpr, ens_tpr, ens_thresholds = roc_curve(ensemble_prediction['SeriousDlqin2yrs'], ensemble_prediction['1 probability'])\n",
    "\n",
    "plt.plot(deep_fpr, deep_tpr, label=\"Deep Net\")\n",
    "plt.plot(ens_fpr, ens_tpr, label=\"Ensemble\")\n",
    "#plt.plot( 'x', 'y3', data=df, marker='', color='olive', linewidth=2, linestyle='dashed', label=\"toto\")\n",
    "plt.legend()\n",
    "plt.show()"
   ]
  },
  {
   "cell_type": "code",
   "execution_count": 69,
   "metadata": {},
   "outputs": [],
   "source": [
    "TP_cost = 0\n",
    "FN_cost = -2500\n",
    "FP_cost = -500\n",
    "TN_cost = 500"
   ]
  },
  {
   "cell_type": "code",
   "execution_count": 70,
   "metadata": {},
   "outputs": [],
   "source": [
    "ensemble_is_positive = (ensemble_prediction['SeriousDlqin2yrs'] == 1)\n",
    "ensemble_nb_positive = len(ensemble_prediction.loc[ensemble_is_positive])\n",
    "ensemble_nb_negative = len(ensemble_prediction.loc[~ensemble_is_positive])"
   ]
  },
  {
   "cell_type": "code",
   "execution_count": 71,
   "metadata": {},
   "outputs": [],
   "source": [
    "deepnet_is_positive = (deepnet_prediction['SeriousDlqin2yrs'] == 1)\n",
    "deepnet_nb_positive = len(deepnet_prediction.loc[deepnet_is_positive])\n",
    "deepnet_nb_negative = len(deepnet_prediction.loc[~deepnet_is_positive])"
   ]
  },
  {
   "cell_type": "code",
   "execution_count": 72,
   "metadata": {},
   "outputs": [],
   "source": [
    "ensemble_cost = ensemble_prediction[['SeriousDlqin2yrs','1 probability']]\n",
    "ensemble_cost = ensemble_cost.sort_values(by='1 probability',ascending=False)\n",
    "\n",
    "ensemble_cost['nb_TP'] = ensemble_cost['SeriousDlqin2yrs'].cumsum()\n",
    "ensemble_cost['nb_TN'] = ensemble_nb_negative - (1-ensemble_cost['SeriousDlqin2yrs']).cumsum() # inverted cumulative sum of negative cases\n",
    "ensemble_cost['nb_FP'] = ensemble_nb_negative - ensemble_cost['nb_TN']\n",
    "ensemble_cost['nb_FN'] = ensemble_nb_positive - ensemble_cost['nb_TP']\n",
    "\n",
    "ensemble_cost['cost'] = ensemble_cost['nb_TP']*TP_cost+ensemble_cost['nb_TN']*TN_cost+ensemble_cost['nb_FP']*FP_cost+ensemble_cost['nb_FN']*FN_cost"
   ]
  },
  {
   "cell_type": "code",
   "execution_count": 73,
   "metadata": {},
   "outputs": [],
   "source": [
    "deepnet_cost = deepnet_prediction[['SeriousDlqin2yrs','1 probability']]\n",
    "deepnet_cost = deepnet_cost.sort_values(by='1 probability',ascending=False)\n",
    "\n",
    "deepnet_cost['nb_TP'] = deepnet_cost['SeriousDlqin2yrs'].cumsum()\n",
    "deepnet_cost['nb_TN'] = deepnet_nb_negative - (1-deepnet_cost['SeriousDlqin2yrs']).cumsum() # inverted cumulative sum of negative cases\n",
    "deepnet_cost['nb_FP'] = deepnet_nb_negative - deepnet_cost['nb_TN']\n",
    "deepnet_cost['nb_FN'] = deepnet_nb_positive - deepnet_cost['nb_TP']\n",
    "\n",
    "deepnet_cost['cost'] = deepnet_cost['nb_TP']*TP_cost+deepnet_cost['nb_TN']*TN_cost+deepnet_cost['nb_FP']*FP_cost+deepnet_cost['nb_FN']*FN_cost"
   ]
  },
  {
   "cell_type": "code",
   "execution_count": 75,
   "metadata": {},
   "outputs": [
    {
     "name": "stdout",
     "output_type": "stream",
     "text": [
      "Deepnet: Le gain maximum est 10084500.0 et il est obtenu avec un seuil de 0.35502\n",
      "Ensemble: Le gain maximum est 9828500.0 et il est obtenu avec un seuil de 0.24536999999999998\n"
     ]
    },
    {
     "data": {
      "image/png": "[encoded data removed]",
      "text/plain": [
       "<Figure size 432x288 with 2 Axes>"
      ]
     },
     "metadata": {
      "needs_background": "light"
     },
     "output_type": "display_data"
    }
   ],
   "source": [
    "deepnet_max_index = deepnet_cost['cost'].idxmax()\n",
    "deepnet_max_gain = deepnet_cost.loc[deepnet_max_index]['cost']\n",
    "deepnet_max_threshold = deepnet_cost.loc[deepnet_max_index]['1 probability']\n",
    "\n",
    "ensemble_max_index = ensemble_cost['cost'].idxmax()\n",
    "ensemble_max_gain = ensemble_cost.loc[ensemble_max_index]['cost']\n",
    "ensemble_max_threshold = ensemble_cost.loc[ensemble_max_index]['1 probability']\n",
    "\n",
    "print(f'Deepnet: Le gain maximum est {deepnet_max_gain} et il est obtenu avec un seuil de {deepnet_max_threshold}')\n",
    "print(f'Ensemble: Le gain maximum est {ensemble_max_gain} et il est obtenu avec un seuil de {ensemble_max_threshold}')\n",
    "\n",
    "plt.subplot(1,2,1)\n",
    "plt.plot(deepnet_cost['1 probability'],deepnet_cost['cost'].values, label='Deep Net')\n",
    "plt.legend()\n",
    "plt.subplot(1,2,2)\n",
    "plt.plot(ensemble_cost['1 probability'],ensemble_cost['cost'].values, label='Ensemble')\n",
    "plt.legend()\n",
    "plt.show()"
   ]
  },
  {
   "cell_type": "code",
   "execution_count": null,
   "metadata": {},
   "outputs": [],
   "source": []
  },
  {
   "cell_type": "code",
   "execution_count": null,
   "metadata": {},
   "outputs": [],
   "source": []
  }
 ],
 "metadata": {
  "kernelspec": {
   "display_name": "Python 3",
   "language": "python",
   "name": "python3"
  },
  "language_info": {
   "codemirror_mode": {
    "name": "ipython",
    "version": 3
   },
   "file_extension": ".py",
   "mimetype": "text/x-python",
   "name": "python",
   "nbconvert_exporter": "python",
   "pygments_lexer": "ipython3",
   "version": "3.7.3"
  }
 },
 "nbformat": 4,
 "nbformat_minor": 2
}
