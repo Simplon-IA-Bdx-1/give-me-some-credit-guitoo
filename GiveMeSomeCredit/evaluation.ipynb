{
 "cells": [
  {
   "cell_type": "code",
   "execution_count": 1,
   "metadata": {},
   "outputs": [],
   "source": [
    "from pandas import DataFrame, read_csv, to_numeric\n",
    "from pandas_ml import ConfusionMatrix\n",
    "from sklearn.model_selection import train_test_split\n",
    "from sklearn.metrics import roc_curve, auc, roc_auc_score\n",
    "import matplotlib.pyplot as plt\n",
    "from bigml.api import BigML\n",
    "import kaggle\n",
    "\n",
    "%matplotlib inline"
   ]
  },
  {
   "cell_type": "code",
   "execution_count": 4,
   "metadata": {},
   "outputs": [],
   "source": [
    "compression = True  #Do we compress the csv files?\n",
    "\n",
    "version='v1.3'\n",
    "\n",
    "big_ml_project = 'project/5d94a428eba31d460c00023f'"
   ]
  },
  {
   "cell_type": "code",
   "execution_count": 5,
   "metadata": {},
   "outputs": [],
   "source": [
    "if compression:\n",
    "    compress='.bz2'\n",
    "else:\n",
    "    compress=''\n",
    "\n",
    "filenames = [\"\",\"\"]\n",
    "  \n",
    "filename_fulltrain = 'gmsc-fulltrain-' + version + '.csv'+ compress\n",
    "filename_train = 'gmsc-train80-' + version + '.csv'+ compress\n",
    "filename_valid = 'gmsc-valid20-' + version + '.csv'+ compress\n",
    "filename_test = 'gmsc-test-' + version + '.csv'+ compress\n",
    "filename_valid_prediction = 'gmsc-valid-pred-' + version + '.csv'\n",
    "filename_test_prediction = 'gmsc-test-pred-' + version + '.csv'\n",
    "\n",
    "filename_bigml_ids = 'bigml-' + version + '.csv'+ compress"
   ]
  },
  {
   "cell_type": "markdown",
   "metadata": {},
   "source": [
    "## Big ML evaluation"
   ]
  },
  {
   "cell_type": "code",
   "execution_count": 5,
   "metadata": {},
   "outputs": [
    {
     "ename": "AttributeError",
     "evalue": "Cannot find BIGML_USERNAME in your environment",
     "output_type": "error",
     "traceback": [
      "\u001b[0;31m---------------------------------------------------------------------------\u001b[0m",
      "\u001b[0;31mKeyError\u001b[0m                                  Traceback (most recent call last)",
      "\u001b[0;32m~/.virtualenvs/ML-notebooks/lib/python3.7/site-packages/bigml/bigmlconnection.py\u001b[0m in \u001b[0;36m__init__\u001b[0;34m(self, username, api_key, dev_mode, debug, set_locale, storage, domain, project, organization)\u001b[0m\n\u001b[1;32m    214\u001b[0m             \u001b[0;32mtry\u001b[0m\u001b[0;34m:\u001b[0m\u001b[0;34m\u001b[0m\u001b[0;34m\u001b[0m\u001b[0m\n\u001b[0;32m--> 215\u001b[0;31m                 \u001b[0musername\u001b[0m \u001b[0;34m=\u001b[0m \u001b[0mos\u001b[0m\u001b[0;34m.\u001b[0m\u001b[0menviron\u001b[0m\u001b[0;34m[\u001b[0m\u001b[0;34m'BIGML_USERNAME'\u001b[0m\u001b[0;34m]\u001b[0m\u001b[0;34m\u001b[0m\u001b[0;34m\u001b[0m\u001b[0m\n\u001b[0m\u001b[1;32m    216\u001b[0m             \u001b[0;32mexcept\u001b[0m \u001b[0mKeyError\u001b[0m\u001b[0;34m:\u001b[0m\u001b[0;34m\u001b[0m\u001b[0;34m\u001b[0m\u001b[0m\n",
      "\u001b[0;32m~/.virtualenvs/ML-notebooks/lib/python3.7/os.py\u001b[0m in \u001b[0;36m__getitem__\u001b[0;34m(self, key)\u001b[0m\n\u001b[1;32m    677\u001b[0m             \u001b[0;31m# raise KeyError with the original key value\u001b[0m\u001b[0;34m\u001b[0m\u001b[0;34m\u001b[0m\u001b[0;34m\u001b[0m\u001b[0m\n\u001b[0;32m--> 678\u001b[0;31m             \u001b[0;32mraise\u001b[0m \u001b[0mKeyError\u001b[0m\u001b[0;34m(\u001b[0m\u001b[0mkey\u001b[0m\u001b[0;34m)\u001b[0m \u001b[0;32mfrom\u001b[0m \u001b[0;32mNone\u001b[0m\u001b[0;34m\u001b[0m\u001b[0;34m\u001b[0m\u001b[0m\n\u001b[0m\u001b[1;32m    679\u001b[0m         \u001b[0;32mreturn\u001b[0m \u001b[0mself\u001b[0m\u001b[0;34m.\u001b[0m\u001b[0mdecodevalue\u001b[0m\u001b[0;34m(\u001b[0m\u001b[0mvalue\u001b[0m\u001b[0;34m)\u001b[0m\u001b[0;34m\u001b[0m\u001b[0;34m\u001b[0m\u001b[0m\n",
      "\u001b[0;31mKeyError\u001b[0m: 'BIGML_USERNAME'",
      "\nDuring handling of the above exception, another exception occurred:\n",
      "\u001b[0;31mAttributeError\u001b[0m                            Traceback (most recent call last)",
      "\u001b[0;32m<ipython-input-5-4ea8da917c89>\u001b[0m in \u001b[0;36m<module>\u001b[0;34m\u001b[0m\n\u001b[0;32m----> 1\u001b[0;31m \u001b[0mapi\u001b[0m \u001b[0;34m=\u001b[0m \u001b[0mBigML\u001b[0m\u001b[0;34m(\u001b[0m\u001b[0mproject\u001b[0m\u001b[0;34m=\u001b[0m\u001b[0mbig_ml_project\u001b[0m\u001b[0;34m)\u001b[0m\u001b[0;34m\u001b[0m\u001b[0;34m\u001b[0m\u001b[0m\n\u001b[0m\u001b[1;32m      2\u001b[0m \u001b[0;34m\u001b[0m\u001b[0m\n\u001b[1;32m      3\u001b[0m \u001b[0mbigml_ids\u001b[0m \u001b[0;34m=\u001b[0m \u001b[0mread_csv\u001b[0m\u001b[0;34m(\u001b[0m\u001b[0mfilename_bigml_ids\u001b[0m\u001b[0;34m,\u001b[0m \u001b[0msqueeze\u001b[0m\u001b[0;34m=\u001b[0m\u001b[0;32mTrue\u001b[0m\u001b[0;34m,\u001b[0m \u001b[0mindex_col\u001b[0m\u001b[0;34m=\u001b[0m\u001b[0;36m0\u001b[0m\u001b[0;34m)\u001b[0m\u001b[0;34m\u001b[0m\u001b[0;34m\u001b[0m\u001b[0m\n\u001b[1;32m      4\u001b[0m \u001b[0;34m\u001b[0m\u001b[0m\n\u001b[1;32m      5\u001b[0m \u001b[0mmodel\u001b[0m \u001b[0;34m=\u001b[0m \u001b[0mapi\u001b[0m\u001b[0;34m.\u001b[0m\u001b[0mget_ensemble\u001b[0m\u001b[0;34m(\u001b[0m\u001b[0mbigml_ids\u001b[0m\u001b[0;34m[\u001b[0m\u001b[0;34m'model'\u001b[0m\u001b[0;34m]\u001b[0m\u001b[0;34m)\u001b[0m\u001b[0;34m\u001b[0m\u001b[0;34m\u001b[0m\u001b[0m\n",
      "\u001b[0;32m~/.virtualenvs/ML-notebooks/lib/python3.7/site-packages/bigml/api.py\u001b[0m in \u001b[0;36m__init__\u001b[0;34m(self, username, api_key, dev_mode, debug, set_locale, storage, domain, project, organization)\u001b[0m\n\u001b[1;32m    259\u001b[0m                                  \u001b[0mset_locale\u001b[0m\u001b[0;34m=\u001b[0m\u001b[0mset_locale\u001b[0m\u001b[0;34m,\u001b[0m \u001b[0mstorage\u001b[0m\u001b[0;34m=\u001b[0m\u001b[0mstorage\u001b[0m\u001b[0;34m,\u001b[0m\u001b[0;34m\u001b[0m\u001b[0;34m\u001b[0m\u001b[0m\n\u001b[1;32m    260\u001b[0m                                  \u001b[0mdomain\u001b[0m\u001b[0;34m=\u001b[0m\u001b[0mdomain\u001b[0m\u001b[0;34m,\u001b[0m \u001b[0mproject\u001b[0m\u001b[0;34m=\u001b[0m\u001b[0mproject\u001b[0m\u001b[0;34m,\u001b[0m\u001b[0;34m\u001b[0m\u001b[0;34m\u001b[0m\u001b[0m\n\u001b[0;32m--> 261\u001b[0;31m                                  organization=organization)\n\u001b[0m\u001b[1;32m    262\u001b[0m         \u001b[0mResourceHandler\u001b[0m\u001b[0;34m.\u001b[0m\u001b[0m__init__\u001b[0m\u001b[0;34m(\u001b[0m\u001b[0mself\u001b[0m\u001b[0;34m)\u001b[0m\u001b[0;34m\u001b[0m\u001b[0;34m\u001b[0m\u001b[0m\n\u001b[1;32m    263\u001b[0m         \u001b[0mSourceHandler\u001b[0m\u001b[0;34m.\u001b[0m\u001b[0m__init__\u001b[0m\u001b[0;34m(\u001b[0m\u001b[0mself\u001b[0m\u001b[0;34m)\u001b[0m\u001b[0;34m\u001b[0m\u001b[0;34m\u001b[0m\u001b[0m\n",
      "\u001b[0;32m~/.virtualenvs/ML-notebooks/lib/python3.7/site-packages/bigml/bigmlconnection.py\u001b[0m in \u001b[0;36m__init__\u001b[0;34m(self, username, api_key, dev_mode, debug, set_locale, storage, domain, project, organization)\u001b[0m\n\u001b[1;32m    215\u001b[0m                 \u001b[0musername\u001b[0m \u001b[0;34m=\u001b[0m \u001b[0mos\u001b[0m\u001b[0;34m.\u001b[0m\u001b[0menviron\u001b[0m\u001b[0;34m[\u001b[0m\u001b[0;34m'BIGML_USERNAME'\u001b[0m\u001b[0;34m]\u001b[0m\u001b[0;34m\u001b[0m\u001b[0;34m\u001b[0m\u001b[0m\n\u001b[1;32m    216\u001b[0m             \u001b[0;32mexcept\u001b[0m \u001b[0mKeyError\u001b[0m\u001b[0;34m:\u001b[0m\u001b[0;34m\u001b[0m\u001b[0;34m\u001b[0m\u001b[0m\n\u001b[0;32m--> 217\u001b[0;31m                 raise AttributeError(\"Cannot find BIGML_USERNAME in\"\n\u001b[0m\u001b[1;32m    218\u001b[0m                                      \" your environment\")\n\u001b[1;32m    219\u001b[0m \u001b[0;34m\u001b[0m\u001b[0m\n",
      "\u001b[0;31mAttributeError\u001b[0m: Cannot find BIGML_USERNAME in your environment"
     ]
    }
   ],
   "source": [
    "api = BigML(project=big_ml_project)\n",
    "\n",
    "bigml_ids = read_csv(filename_bigml_ids, squeeze=True, index_col=0)\n",
    "\n",
    "model = api.get_ensemble(bigml_ids['model'])\n",
    "valid_ds = api.get_dataset(bigml_ids['validation dataset'])"
   ]
  },
  {
   "cell_type": "markdown",
   "metadata": {},
   "source": [
    "### Big ML batch prediction"
   ]
  },
  {
   "cell_type": "code",
   "execution_count": null,
   "metadata": {},
   "outputs": [],
   "source": [
    "try:\n",
    "    batch_prediction = api.get_batch_prediction(bigml_ids['validation prediction'])\n",
    "except:\n",
    "    do_prediction = True\n",
    "else:\n",
    "    ds_changed = batch_prediction['object']['dataset'] != bigml_ids['validation dataset']\n",
    "    model_changed = batch_prediction['object']['ensemble'] != bigml_ids['model']\n",
    "    do_prediction = ds_changed or model_changed"
   ]
  },
  {
   "cell_type": "code",
   "execution_count": null,
   "metadata": {},
   "outputs": [],
   "source": [
    "if do_prediction:\n",
    "    batch_prediction = api.create_batch_prediction(model, valid_ds, {\n",
    "        \"name\": \"my batch prediction\" + version,\n",
    "        \"all_fields\": True,\n",
    "        \"header\": True,\n",
    "        \"confidence\": True,\n",
    "        \"probabilities\": True}                      )\n",
    "    api.ok(batch_prediction)\n",
    "    api.download_batch_prediction(batch_prediction,\n",
    "                                filename=filename_valid_prediction)\n",
    "    bigml_ids['validation prediction']=batch_prediction['resource']\n",
    "    bigml_ids.to_csv(filename_bigml_ids, header=False)\n",
    "print(bigml_ids['validation prediction'])"
   ]
  },
  {
   "cell_type": "markdown",
   "metadata": {},
   "source": [
    "Open BigML predictions"
   ]
  },
  {
   "cell_type": "code",
   "execution_count": 6,
   "metadata": {},
   "outputs": [],
   "source": [
    "prediction=read_csv(filename_valid_prediction, index_col='Id')"
   ]
  },
  {
   "cell_type": "markdown",
   "metadata": {},
   "source": [
    "scikit learn auc"
   ]
  },
  {
   "cell_type": "code",
   "execution_count": 30,
   "metadata": {},
   "outputs": [
    {
     "name": "stdout",
     "output_type": "stream",
     "text": [
      "5.5 ms ± 39.7 µs per loop (mean ± std. dev. of 7 runs, 100 loops each)\n"
     ]
    }
   ],
   "source": [
    "#%%timeit -n100\n",
    "score = roc_auc_score(prediction['SeriousDlqin2yrs'].values,prediction['1 probability'].values)\n",
    "print(score)"
   ]
  },
  {
   "cell_type": "markdown",
   "metadata": {},
   "source": [
    "scikit learn roc curve"
   ]
  },
  {
   "cell_type": "code",
   "execution_count": 8,
   "metadata": {},
   "outputs": [
    {
     "data": {
      "image/png": "[encoded data removed]",
      "text/plain": [
       "<Figure size 432x288 with 1 Axes>"
      ]
     },
     "metadata": {
      "needs_background": "light"
     },
     "output_type": "display_data"
    }
   ],
   "source": [
    "fpr, tpr, thresholds = roc_curve(prediction['SeriousDlqin2yrs'],prediction['1 probability'])\n",
    "plt.plot(fpr, tpr)\n",
    "plt.show()"
   ]
  },
  {
   "cell_type": "markdown",
   "metadata": {},
   "source": [
    "### Big ML evaluation"
   ]
  },
  {
   "cell_type": "code",
   "execution_count": 9,
   "metadata": {},
   "outputs": [],
   "source": [
    "try:\n",
    "    evaluation = api.get_evaluation(bigml_ids['evaluation'])\n",
    "except:\n",
    "    do_prediction = True\n",
    "else:\n",
    "    ds_changed = batch_prediction['object']['dataset'] != bigml_ids['validation dataset']\n",
    "    model_changed = batch_prediction['object']['ensemble'] != bigml_ids['model']\n",
    "    do_prediction = ds_changed or model_changed"
   ]
  },
  {
   "cell_type": "code",
   "execution_count": 10,
   "metadata": {},
   "outputs": [
    {
     "ename": "NameError",
     "evalue": "name 'api' is not defined",
     "output_type": "error",
     "traceback": [
      "\u001b[0;31m---------------------------------------------------------------------------\u001b[0m",
      "\u001b[0;31mNameError\u001b[0m                                 Traceback (most recent call last)",
      "\u001b[0;32m<ipython-input-10-6c9ee91f62c7>\u001b[0m in \u001b[0;36m<module>\u001b[0;34m\u001b[0m\n\u001b[1;32m      1\u001b[0m \u001b[0;32mif\u001b[0m \u001b[0mdo_prediction\u001b[0m\u001b[0;34m:\u001b[0m\u001b[0;34m\u001b[0m\u001b[0;34m\u001b[0m\u001b[0m\n\u001b[0;32m----> 2\u001b[0;31m     \u001b[0mevaluation\u001b[0m \u001b[0;34m=\u001b[0m \u001b[0mapi\u001b[0m\u001b[0;34m.\u001b[0m\u001b[0mcreate_evaluation\u001b[0m\u001b[0;34m(\u001b[0m\u001b[0mmodel\u001b[0m\u001b[0;34m,\u001b[0m \u001b[0mvalid_ds\u001b[0m\u001b[0;34m)\u001b[0m\u001b[0;34m\u001b[0m\u001b[0;34m\u001b[0m\u001b[0m\n\u001b[0m\u001b[1;32m      3\u001b[0m     \u001b[0mapi\u001b[0m\u001b[0;34m.\u001b[0m\u001b[0mok\u001b[0m\u001b[0;34m(\u001b[0m\u001b[0mevaluation\u001b[0m\u001b[0;34m)\u001b[0m\u001b[0;34m\u001b[0m\u001b[0;34m\u001b[0m\u001b[0m\n\u001b[1;32m      4\u001b[0m     \u001b[0mbigml_ids\u001b[0m\u001b[0;34m[\u001b[0m\u001b[0;34m'evaluation'\u001b[0m\u001b[0;34m]\u001b[0m\u001b[0;34m=\u001b[0m\u001b[0mevaluation\u001b[0m\u001b[0;34m[\u001b[0m\u001b[0;34m'resource'\u001b[0m\u001b[0;34m]\u001b[0m\u001b[0;34m\u001b[0m\u001b[0;34m\u001b[0m\u001b[0m\n\u001b[1;32m      5\u001b[0m     \u001b[0mbigml_ids\u001b[0m\u001b[0;34m.\u001b[0m\u001b[0mto_csv\u001b[0m\u001b[0;34m(\u001b[0m\u001b[0mfilename_bigml_ids\u001b[0m\u001b[0;34m,\u001b[0m \u001b[0mheader\u001b[0m\u001b[0;34m=\u001b[0m\u001b[0;32mFalse\u001b[0m\u001b[0;34m)\u001b[0m\u001b[0;34m\u001b[0m\u001b[0;34m\u001b[0m\u001b[0m\n",
      "\u001b[0;31mNameError\u001b[0m: name 'api' is not defined"
     ]
    }
   ],
   "source": [
    "if do_prediction:\n",
    "    evaluation = api.create_evaluation(model, valid_ds)\n",
    "    api.ok(evaluation)\n",
    "    bigml_ids['evaluation']=evaluation['resource']\n",
    "    bigml_ids.to_csv(filename_bigml_ids, header=False)\n",
    "    \n",
    "#api.pprint(evaluation['object']['result'])\n",
    "print('evaluation id:', evaluation['resource'])"
   ]
  },
  {
   "cell_type": "markdown",
   "metadata": {},
   "source": [
    "Big ML auc and confusion matrix"
   ]
  },
  {
   "cell_type": "code",
   "execution_count": null,
   "metadata": {},
   "outputs": [],
   "source": [
    "print('auc:', evaluation['object']['result']['model']['average_area_under_roc_curve'])\n",
    "DataFrame(evaluation['object']['result']['model']['confusion_matrix'])"
   ]
  },
  {
   "cell_type": "markdown",
   "metadata": {},
   "source": [
    "### Plot the cost as a function of the threshold using BigML evaluation"
   ]
  },
  {
   "cell_type": "code",
   "execution_count": 11,
   "metadata": {},
   "outputs": [
    {
     "ename": "NameError",
     "evalue": "name 'evaluation' is not defined",
     "output_type": "error",
     "traceback": [
      "\u001b[0;31m---------------------------------------------------------------------------\u001b[0m",
      "\u001b[0;31mNameError\u001b[0m                                 Traceback (most recent call last)",
      "\u001b[0;32m<ipython-input-11-6e1e05399912>\u001b[0m in \u001b[0;36m<module>\u001b[0;34m\u001b[0m\n\u001b[0;32m----> 1\u001b[0;31m \u001b[0mper_thres_conf_matrix\u001b[0m \u001b[0;34m=\u001b[0m \u001b[0mevaluation\u001b[0m\u001b[0;34m[\u001b[0m\u001b[0;34m'object'\u001b[0m\u001b[0;34m]\u001b[0m\u001b[0;34m[\u001b[0m\u001b[0;34m'result'\u001b[0m\u001b[0;34m]\u001b[0m\u001b[0;34m[\u001b[0m\u001b[0;34m'model'\u001b[0m\u001b[0;34m]\u001b[0m\u001b[0;34m[\u001b[0m\u001b[0;34m'per_class_statistics'\u001b[0m\u001b[0;34m]\u001b[0m\u001b[0;34m[\u001b[0m\u001b[0;36m1\u001b[0m\u001b[0;34m]\u001b[0m\u001b[0;34m[\u001b[0m\u001b[0;34m'per_threshold_confusion_matrices'\u001b[0m\u001b[0;34m]\u001b[0m\u001b[0;34m\u001b[0m\u001b[0;34m\u001b[0m\u001b[0m\n\u001b[0m",
      "\u001b[0;31mNameError\u001b[0m: name 'evaluation' is not defined"
     ]
    }
   ],
   "source": [
    "per_thres_conf_matrix = evaluation['object']['result']['model']['per_class_statistics'][1]['per_threshold_confusion_matrices']"
   ]
  },
  {
   "cell_type": "code",
   "execution_count": 9,
   "metadata": {},
   "outputs": [
    {
     "ename": "NameError",
     "evalue": "name 'per_thres_conf_matrix' is not defined",
     "output_type": "error",
     "traceback": [
      "\u001b[0;31m---------------------------------------------------------------------------\u001b[0m",
      "\u001b[0;31mNameError\u001b[0m                                 Traceback (most recent call last)",
      "\u001b[0;32m<ipython-input-9-27a54ebafbbd>\u001b[0m in \u001b[0;36m<module>\u001b[0;34m\u001b[0m\n\u001b[1;32m      3\u001b[0m \u001b[0mper_thres_cost_BigML\u001b[0m\u001b[0;34m=\u001b[0m\u001b[0;34m[\u001b[0m\u001b[0;34m]\u001b[0m\u001b[0;34m\u001b[0m\u001b[0;34m\u001b[0m\u001b[0m\n\u001b[1;32m      4\u001b[0m \u001b[0mthreshold_BigML\u001b[0m\u001b[0;34m=\u001b[0m\u001b[0;34m[\u001b[0m\u001b[0;34m]\u001b[0m\u001b[0;34m\u001b[0m\u001b[0;34m\u001b[0m\u001b[0m\n\u001b[0;32m----> 5\u001b[0;31m \u001b[0;32mfor\u001b[0m \u001b[0mtable\u001b[0m \u001b[0;32min\u001b[0m \u001b[0mper_thres_conf_matrix\u001b[0m\u001b[0;34m:\u001b[0m\u001b[0;34m\u001b[0m\u001b[0;34m\u001b[0m\u001b[0m\n\u001b[0m\u001b[1;32m      6\u001b[0m     \u001b[0mmatrix\u001b[0m \u001b[0;34m=\u001b[0m \u001b[0mDataFrame\u001b[0m\u001b[0;34m(\u001b[0m\u001b[0mtable\u001b[0m\u001b[0;34m[\u001b[0m\u001b[0;36m0\u001b[0m\u001b[0;34m]\u001b[0m\u001b[0;34m)\u001b[0m\u001b[0;34m\u001b[0m\u001b[0;34m\u001b[0m\u001b[0m\n\u001b[1;32m      7\u001b[0m     \u001b[0mthreshold_BigML\u001b[0m\u001b[0;34m.\u001b[0m\u001b[0mappend\u001b[0m\u001b[0;34m(\u001b[0m\u001b[0mtable\u001b[0m\u001b[0;34m[\u001b[0m\u001b[0;36m1\u001b[0m\u001b[0;34m]\u001b[0m\u001b[0;34m)\u001b[0m\u001b[0;34m\u001b[0m\u001b[0;34m\u001b[0m\u001b[0m\n",
      "\u001b[0;31mNameError\u001b[0m: name 'per_thres_conf_matrix' is not defined"
     ]
    }
   ],
   "source": [
    "#TP, FP, TN ,FN\n",
    "cost_matrix = DataFrame([0,-500,500,-2500])\n",
    "per_thres_cost_BigML=[]\n",
    "threshold_BigML=[]\n",
    "for table in per_thres_conf_matrix:\n",
    "    matrix = DataFrame(table[0])\n",
    "    threshold_BigML.append(table[1])\n",
    "    per_thres_cost_BigML.append((cost_matrix * matrix).sum())\n",
    "plt.plot(threshold_BigML, per_thres_cost_BigML)\n",
    "plt.show()"
   ]
  },
  {
   "cell_type": "markdown",
   "metadata": {},
   "source": [
    "## Error analysis"
   ]
  },
  {
   "cell_type": "code",
   "execution_count": 10,
   "metadata": {},
   "outputs": [],
   "source": [
    "is_positive = (prediction['SeriousDlqin2yrs'] == 1)\n",
    "is_predicted_positive = (prediction['SeriousDlqin2yrs.1'] == 1)\n",
    "\n",
    "nb_positive = len(prediction.loc[is_positive])\n",
    "nb_negative = len(prediction.loc[~is_positive])\n",
    "\n",
    "total = len(prediction)\n",
    "\n",
    "is_true_positive = is_positive & is_predicted_positive\n",
    "is_true_negative = ~is_positive & ~is_predicted_positive\n",
    "is_false_positive = ~is_positive & is_predicted_positive\n",
    "is_false_negative = is_positive & ~is_predicted_positive\n",
    "\n",
    "prediction.loc[is_true_positive,'prediction_class']='TP'\n",
    "prediction.loc[is_true_negative,'prediction_class']='TN'\n",
    "prediction.loc[is_false_positive,'prediction_class']='FP'\n",
    "prediction.loc[is_false_negative,'prediction_class']='FN'"
   ]
  },
  {
   "cell_type": "markdown",
   "metadata": {},
   "source": [
    "### Take the 100 biggest errors"
   ]
  },
  {
   "cell_type": "code",
   "execution_count": 11,
   "metadata": {},
   "outputs": [],
   "source": [
    "prediction['absolute_error']=(prediction['1 probability']-prediction['SeriousDlqin2yrs']).abs()\n",
    "prediction_errors = prediction.sort_values(by='absolute_error', ascending=False).head(100)"
   ]
  },
  {
   "cell_type": "markdown",
   "metadata": {},
   "source": [
    "### Confusion matrix"
   ]
  },
  {
   "cell_type": "code",
   "execution_count": 20,
   "metadata": {},
   "outputs": [
    {
     "data": {
      "text/html": [
       "<div>\n",
       "<style scoped>\n",
       "    .dataframe tbody tr th:only-of-type {\n",
       "        vertical-align: middle;\n",
       "    }\n",
       "\n",
       "    .dataframe tbody tr th {\n",
       "        vertical-align: top;\n",
       "    }\n",
       "\n",
       "    .dataframe thead th {\n",
       "        text-align: right;\n",
       "    }\n",
       "</style>\n",
       "<table border=\"1\" class=\"dataframe\">\n",
       "  <thead>\n",
       "    <tr style=\"text-align: right;\">\n",
       "      <th></th>\n",
       "      <th>P̂</th>\n",
       "      <th>N̂</th>\n",
       "      <th>Recall</th>\n",
       "    </tr>\n",
       "  </thead>\n",
       "  <tbody>\n",
       "    <tr>\n",
       "      <th>P</th>\n",
       "      <td>361.000000</td>\n",
       "      <td>1720.000000</td>\n",
       "      <td>0.173474</td>\n",
       "    </tr>\n",
       "    <tr>\n",
       "      <th>N</th>\n",
       "      <td>251.000000</td>\n",
       "      <td>27668.000000</td>\n",
       "      <td>0.991010</td>\n",
       "    </tr>\n",
       "    <tr>\n",
       "      <th>Precision</th>\n",
       "      <td>0.589869</td>\n",
       "      <td>0.941473</td>\n",
       "      <td>0.934300</td>\n",
       "    </tr>\n",
       "  </tbody>\n",
       "</table>\n",
       "</div>"
      ],
      "text/plain": [
       "                   P̂            N̂    Recall\n",
       "P          361.000000   1720.000000  0.173474\n",
       "N          251.000000  27668.000000  0.991010\n",
       "Precision    0.589869      0.941473  0.934300"
      ]
     },
     "execution_count": 20,
     "metadata": {},
     "output_type": "execute_result"
    }
   ],
   "source": [
    "confusion_matrix = ConfusionMatrix(prediction['SeriousDlqin2yrs'],prediction['SeriousDlqin2yrs.1'])\n",
    "\n",
    "\n",
    "d = {'P\\u0302': [confusion_matrix.TP, confusion_matrix.FP, confusion_matrix.PPV],\n",
    "     'N\\u0302': [confusion_matrix.FN, confusion_matrix.TN, confusion_matrix.NPV],\n",
    "     'Recall': [confusion_matrix.TPR, confusion_matrix.TNR, confusion_matrix.ACC]}\n",
    "confusion_matrix_df = DataFrame(data=d,index=['P','N', 'Precision'])\n",
    "confusion_matrix_df\n"
   ]
  },
  {
   "cell_type": "code",
   "execution_count": 12,
   "metadata": {},
   "outputs": [
    {
     "data": {
      "text/html": [
       "<div>\n",
       "<style scoped>\n",
       "    .dataframe tbody tr th:only-of-type {\n",
       "        vertical-align: middle;\n",
       "    }\n",
       "\n",
       "    .dataframe tbody tr th {\n",
       "        vertical-align: top;\n",
       "    }\n",
       "\n",
       "    .dataframe thead th {\n",
       "        text-align: right;\n",
       "    }\n",
       "</style>\n",
       "<table border=\"1\" class=\"dataframe\">\n",
       "  <thead>\n",
       "    <tr style=\"text-align: right;\">\n",
       "      <th></th>\n",
       "      <th>P̂</th>\n",
       "      <th>N̂</th>\n",
       "      <th>Recall</th>\n",
       "    </tr>\n",
       "  </thead>\n",
       "  <tbody>\n",
       "    <tr>\n",
       "      <th>P</th>\n",
       "      <td>361.000000</td>\n",
       "      <td>1720.000000</td>\n",
       "      <td>0.173474</td>\n",
       "    </tr>\n",
       "    <tr>\n",
       "      <th>N</th>\n",
       "      <td>251.000000</td>\n",
       "      <td>27668.000000</td>\n",
       "      <td>0.991010</td>\n",
       "    </tr>\n",
       "    <tr>\n",
       "      <th>Precision</th>\n",
       "      <td>0.589869</td>\n",
       "      <td>0.941473</td>\n",
       "      <td>0.934300</td>\n",
       "    </tr>\n",
       "  </tbody>\n",
       "</table>\n",
       "</div>"
      ],
      "text/plain": [
       "                   P̂            N̂    Recall\n",
       "P          361.000000   1720.000000  0.173474\n",
       "N          251.000000  27668.000000  0.991010\n",
       "Precision    0.589869      0.941473  0.934300"
      ]
     },
     "execution_count": 12,
     "metadata": {},
     "output_type": "execute_result"
    }
   ],
   "source": [
    "TP = len(prediction.loc[is_true_positive])\n",
    "TN = len(prediction.loc[is_true_negative])\n",
    "FP = len(prediction.loc[is_false_positive])\n",
    "FN = len(prediction.loc[is_false_negative])\n",
    "\n",
    "TPR=TP/(TP+FN)\n",
    "TNR=TN/(TN+FP)\n",
    "PPV=TP/(TP+FP)\n",
    "NPV=TN/(TN+FN)\n",
    "accuracy=(TP+TN)/(TP+TN+FP+FN)\n",
    "\n",
    "d = {'P\\u0302': [TP, FP, PPV], 'N\\u0302': [FN, TN, NPV], 'Recall': [TPR, TNR, accuracy]}\n",
    "confusion_matrix = DataFrame(data=d,index=['P','N', 'Precision'])\n",
    "confusion_matrix"
   ]
  },
  {
   "cell_type": "markdown",
   "metadata": {},
   "source": [
    "### Cost optimization"
   ]
  },
  {
   "cell_type": "code",
   "execution_count": null,
   "metadata": {},
   "outputs": [],
   "source": [
    "def cost_threshold(threshold):\n",
    "    prediction_threshold = prediction['1 probability'] > threshold\n",
    "\n",
    "    is_P_pred = prediction_threshold\n",
    "    is_N_pred = ~prediction_threshold\n",
    "\n",
    "    is_P_real = (prediction['SeriousDlqin2yrs'] == 1)\n",
    "    is_N_real = (prediction['SeriousDlqin2yrs'] == 0)\n",
    "\n",
    "    TP = len(prediction.loc[is_P_pred & is_P_real])\n",
    "    TN = len(prediction.loc[is_N_pred & is_N_real])\n",
    "    FP = len(prediction.loc[is_P_pred & is_N_real])\n",
    "    FN = len(prediction.loc[is_N_pred & is_P_real])\n",
    "\n",
    "    TP_cost = 0\n",
    "    FN_cost = -2500\n",
    "    FP_cost = -500\n",
    "    TN_cost = 500\n",
    "\n",
    "    cost = TP * TP_cost\n",
    "    cost += TN * TN_cost\n",
    "    cost += FP * FP_cost\n",
    "    cost += FN * FN_cost\n",
    "\n",
    "    return cost"
   ]
  },
  {
   "cell_type": "code",
   "execution_count": null,
   "metadata": {},
   "outputs": [],
   "source": [
    "table = [cost_threshold(n/1000) for n in range(0,1000)]\n",
    "threshold = [n/1000 for n in range(0,1000)]\n",
    "plt.axis([0, 1,min(table),1.2*max(table)])\n",
    "plt.plot(threshold, table)\n",
    "plt.show()"
   ]
  },
  {
   "cell_type": "markdown",
   "metadata": {},
   "source": [
    "### Compute the maximum gain from a sample of threshold"
   ]
  },
  {
   "cell_type": "code",
   "execution_count": null,
   "metadata": {},
   "outputs": [],
   "source": [
    "max_val = max(table)\n",
    "max_threshold = table.index(max_val)/1000\n",
    "print(f'Le gain maximum est {max_val} et il est obtenu avec un seuil de {max_threshold}')"
   ]
  },
  {
   "cell_type": "markdown",
   "metadata": {},
   "source": [
    "### Compute the cost for all thresholds"
   ]
  },
  {
   "cell_type": "code",
   "execution_count": null,
   "metadata": {},
   "outputs": [],
   "source": [
    "threshold_list = prediction['1 probability'].sort_values().values\n",
    "threshold_intervals = []\n",
    "for i in range(len(threshold_list)-1):\n",
    "    midpoint=(threshold_list[i]+threshold_list[i+1])/2\n",
    "    threshold_intervals.append(midpoint)\n",
    "table = [cost_threshold(t) for t in threshold_intervals]"
   ]
  },
  {
   "cell_type": "code",
   "execution_count": null,
   "metadata": {},
   "outputs": [],
   "source": [
    "max_val = max(table)\n",
    "max_threshold = threshold_intervals[table.index(max_val)]\n",
    "print(f'Le gain maximum est {max_val} et il est obtenu avec un seuil de {max_threshold}')"
   ]
  },
  {
   "cell_type": "markdown",
   "metadata": {},
   "source": [
    "### faster cost computation"
   ]
  },
  {
   "cell_type": "code",
   "execution_count": 35,
   "metadata": {},
   "outputs": [],
   "source": [
    "#%%timeit -n20\n",
    "df_cost = prediction[['SeriousDlqin2yrs','1 probability']]\n",
    "df_cost = df_cost.sort_values(by='1 probability',ascending=False)\n",
    "\n",
    "df_cost['nb_TP'] = df_cost['SeriousDlqin2yrs'].cumsum()\n",
    "df_cost['nb_FP'] = (1-df_cost['SeriousDlqin2yrs']).cumsum()\n",
    "df_cost['nb_TN'] = nb_negative - df_cost['nb_FP']\n",
    "df_cost['nb_FN'] = nb_positive - df_cost['nb_TP']\n",
    "\n",
    "TP_cost = 0\n",
    "FN_cost = -2500\n",
    "FP_cost = -500\n",
    "TN_cost = 500\n",
    "\n",
    "df_cost['cost'] = df_cost['nb_TP']*TP_cost+df_cost['nb_TN']*TN_cost+df_cost['nb_FP']*FP_cost+df_cost['nb_FN']*FN_cost"
   ]
  },
  {
   "cell_type": "code",
   "execution_count": 36,
   "metadata": {},
   "outputs": [
    {
     "name": "stdout",
     "output_type": "stream",
     "text": [
      "Le gain maximum est 9828500.0 et il est obtenu avec un seuil de 0.24536999999999998\n"
     ]
    },
    {
     "data": {
      "image/png": "[encoded data removed]",
      "text/plain": [
       "<Figure size 432x288 with 1 Axes>"
      ]
     },
     "metadata": {
      "needs_background": "light"
     },
     "output_type": "display_data"
    }
   ],
   "source": [
    "max_index = df_cost['cost'].idxmax()\n",
    "max_gain = df_cost.loc[max_index]['cost']\n",
    "max_threshold = df_cost.loc[max_index]['1 probability']\n",
    "print(f'Le gain maximum est {max_gain} et il est obtenu avec un seuil de {max_threshold}')\n",
    "plt.plot(df_cost['1 probability'],df_cost['cost'].values)\n",
    "plt.show()"
   ]
  },
  {
   "cell_type": "markdown",
   "metadata": {},
   "source": [
    "## AUC computation by hand\n",
    "### The algorithm with a for loop\n",
    "The ROC is a staircase curve. Each step down the threshold list, the curve move either by $1/P$ up or $1/N$ right.\n",
    "* Each time it goes up (Real positive), you increment the $height$ by $1/P$\n",
    "* Each time it goes right (Real negative), you add the rectangular area ($height \\times 1/N$) to the auc\n",
    "\n",
    "You can optimize by incrementing by 1 in each direction and dividing by $N \\times P$ at the end "
   ]
  },
  {
   "cell_type": "code",
   "execution_count": 25,
   "metadata": {},
   "outputs": [],
   "source": [
    "is_positive = (prediction['SeriousDlqin2yrs'] == 1)\n",
    "is_negative = (prediction['SeriousDlqin2yrs'] == 0)\n",
    "positives = prediction[is_positive]\n",
    "negatives = prediction[is_negative]\n",
    "\n",
    "nb_positive=len(positives)\n",
    "nb_negative=len(negatives)\n",
    "#nb_positive=positives.shape[0]\n",
    "#nb_negative=negatives.shape[0]\n"
   ]
  },
  {
   "cell_type": "markdown",
   "metadata": {},
   "source": [
    "```\n",
    "score=0\n",
    "c=0\n",
    "for p in positives['1 probability']:\n",
    "    for n in negatives['1 probability']:\n",
    "        if p > n:\n",
    "            c+=1\n",
    "auc=c/(nb_positive*nb_negative)\n",
    "print(auc)\n",
    "```"
   ]
  },
  {
   "cell_type": "code",
   "execution_count": null,
   "metadata": {},
   "outputs": [],
   "source": [
    "#%%timeit -n20\n",
    "#threshold_list = prediction.sort_values(by='1 probability',ascending=False)['SeriousDlqin2yrs'].values\n",
    "result = prediction[['SeriousDlqin2yrs','1 probability']]\n",
    "threshold_list = result.sort_values(by='1 probability',ascending=False)['SeriousDlqin2yrs'].values\n",
    "\n",
    "auc = 0\n",
    "P_cumul = 0\n",
    "for i in range(len(threshold_list)):\n",
    "    if threshold_list[i] == 1:\n",
    "        P_cumul += 1\n",
    "    else:\n",
    "        auc += P_cumul\n",
    "        \n",
    "auc = auc/(nb_positive*nb_negative)"
   ]
  },
  {
   "cell_type": "code",
   "execution_count": null,
   "metadata": {},
   "outputs": [],
   "source": [
    "print(f'AUC={auc}')"
   ]
  },
  {
   "cell_type": "markdown",
   "metadata": {},
   "source": [
    "### Computing the auc with pandas and no for loops\n",
    "4 time faster."
   ]
  },
  {
   "cell_type": "code",
   "execution_count": 29,
   "metadata": {},
   "outputs": [
    {
     "name": "stdout",
     "output_type": "stream",
     "text": [
      "4.5 ms ± 78.1 µs per loop (mean ± std. dev. of 7 runs, 100 loops each)\n"
     ]
    }
   ],
   "source": [
    "#%%timeit -n100\n",
    "df_threshold=DataFrame(index=prediction['1 probability'])\n",
    "df_threshold['positive'] = positive.values\n",
    "df_threshold.sort_index(inplace=True, ascending=False)\n",
    "\n",
    "df_threshold['positive_sum'] =  df_threshold['positive'].cumsum()\n",
    "auc=df_threshold.loc[~df_threshold['positive']]['positive_sum'].sum()/(nb_positive*nb_negative)"
   ]
  },
  {
   "cell_type": "code",
   "execution_count": null,
   "metadata": {},
   "outputs": [],
   "source": [
    "print(f'AUC={auc}')"
   ]
  },
  {
   "cell_type": "markdown",
   "metadata": {},
   "source": [
    "### Drawing the ROC by hand"
   ]
  },
  {
   "cell_type": "code",
   "execution_count": null,
   "metadata": {},
   "outputs": [],
   "source": [
    "threshold_list = prediction.sort_values(by='1 probability',ascending=False)['SeriousDlqin2yrs'].values\n",
    "\n",
    "tpr = []\n",
    "fpr = []\n",
    "\n",
    "positive_sum = 0\n",
    "negative_sum = 0\n",
    "for i in range(len(threshold_list)):\n",
    "    if threshold_list[i] == 1:\n",
    "        positive_sum += 1\n",
    "    else:\n",
    "        negative_sum += 1\n",
    "    tpr.append(positive_sum/nb_positive)\n",
    "    fpr.append(negative_sum/nb_negative)\n"
   ]
  },
  {
   "cell_type": "code",
   "execution_count": null,
   "metadata": {},
   "outputs": [],
   "source": [
    "plt.plot(fpr,tpr)\n",
    "plt.show()"
   ]
  },
  {
   "cell_type": "code",
   "execution_count": null,
   "metadata": {},
   "outputs": [],
   "source": []
  }
 ],
 "metadata": {
  "kernelspec": {
   "display_name": "Python 3",
   "language": "python",
   "name": "python3"
  },
  "language_info": {
   "codemirror_mode": {
    "name": "ipython",
    "version": 3
   },
   "file_extension": ".py",
   "mimetype": "text/x-python",
   "name": "python",
   "nbconvert_exporter": "python",
   "pygments_lexer": "ipython3",
   "version": "3.7.4"
  }
 },
 "nbformat": 4,
 "nbformat_minor": 4
}
