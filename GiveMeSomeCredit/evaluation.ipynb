{
 "cells": [
  {
   "cell_type": "markdown",
   "metadata": {},
   "source": [
    "# Cleaning data and creating custom features for Give Me Some Credit Kaggle Challenge\n",
    "\n",
    "1. Cleaning the monthly income from NA values\n",
    "2. Clean the debt ratio by replacing NA by the mean (Should ideally be done after splitting and the mean should be calculated on the training set if you want to do an evaluation)\n",
    "3. Creating a montlhy debt feature\n",
    "    * monthly income multiplied by debt ratio if income is not 0\n",
    "    * debt ratio if income is 0\n",
    "4. Create a Balanced Income feature that take into account Income and debt ratio\n",
    "    * Set income to 0 when negative.\n",
    "5. Clean the number of dependents feature\n",
    "    * set NA to zero\n",
    "6. Create a Blanced Income per household members feature\n",
    "7. Cleaning the Number of Times Late feature\n",
    "    * Create a custom categorical feature that contains 2 different tags for each row that contains a Number of time late of either 96 or 98\n",
    "    * Remove the 96 and 98 values (Replacing those values by NA or some other justifiable value)\n",
    "8. Add a feature that compute the weighted sum of the number of time late per duration\n",
    "    * weight of 3 for 90 days and more\n",
    "    * weight of 2 for 60 to 89 days\n",
    "    * weight of 1 for 30 to 59 days\n"
   ]
  },
  {
   "cell_type": "code",
   "execution_count": 3,
   "metadata": {},
   "outputs": [],
   "source": [
    "from pandas import DataFrame, read_csv, to_numeric\n",
    "from sklearn.model_selection import train_test_split\n",
    "from sklearn.metrics import roc_curve, auc, roc_auc_score\n",
    "import matplotlib.pyplot as plt\n",
    "from bigml.api import BigML\n",
    "import kaggle\n",
    "\n",
    "%matplotlib inline"
   ]
  },
  {
   "cell_type": "code",
   "execution_count": 4,
   "metadata": {},
   "outputs": [],
   "source": [
    "validation = True   #Do we split the data?\n",
    "compression = True  #Do we compress the csv files?\n",
    "send_to_BigML = True\n",
    "build_model = True\n",
    "\n",
    "version='v1.3'\n"
   ]
  },
  {
   "cell_type": "markdown",
   "metadata": {},
   "source": [
    "## Loading csv files as data frames\n",
    "\n",
    "Files must be placed in the same directory as this file. Alternatively, modify the relative path to those files."
   ]
  },
  {
   "cell_type": "code",
   "execution_count": null,
   "metadata": {},
   "outputs": [],
   "source": [
    "!pwd\n",
    "!ls\n",
    "fulltrain=read_csv('./cs-training.csv',index_col=0)\n",
    "test=read_csv('./cs-test.csv',index_col=0)"
   ]
  },
  {
   "cell_type": "markdown",
   "metadata": {},
   "source": [
    "## Reordering the objective field column to the end"
   ]
  },
  {
   "cell_type": "code",
   "execution_count": null,
   "metadata": {},
   "outputs": [],
   "source": [
    "print(list(fulltrain))\n",
    "fulltrain=fulltrain[[c for c in fulltrain if c != 'SeriousDlqin2yrs']+['SeriousDlqin2yrs']]\n",
    "print(list(fulltrain))\n",
    "if not validation:\n",
    "    test=test[[c for c in fulltrain if c != 'SeriousDlqin2yrs']+['SeriousDlqin2yrs']]"
   ]
  },
  {
   "cell_type": "code",
   "execution_count": null,
   "metadata": {},
   "outputs": [],
   "source": [
    "if(validation==True):\n",
    "    train80, test20 = train_test_split(fulltrain, test_size=0.2)\n",
    "    data_sets=[train80,test20]\n",
    "else:\n",
    "    data_sets=[fulltrain,test]"
   ]
  },
  {
   "cell_type": "markdown",
   "metadata": {},
   "source": [
    "## Correcting the values in monthly income\n",
    "Set NaN to 0 in the monthly income column"
   ]
  },
  {
   "cell_type": "code",
   "execution_count": null,
   "metadata": {
    "scrolled": true
   },
   "outputs": [],
   "source": [
    "help(DataFrame.fillna)"
   ]
  },
  {
   "cell_type": "code",
   "execution_count": null,
   "metadata": {},
   "outputs": [],
   "source": [
    "for df in data_sets:\n",
    "    df.loc[:,'MonthlyIncome'].fillna(0, inplace=True)\n",
    "    \n",
    "data_sets[0].head(10)"
   ]
  },
  {
   "cell_type": "markdown",
   "metadata": {},
   "source": [
    "## Cleaning Debt ratio\n",
    "Set NA values to the mode from the training set"
   ]
  },
  {
   "cell_type": "code",
   "execution_count": null,
   "metadata": {
    "scrolled": true
   },
   "outputs": [],
   "source": [
    "mode_debt_ratio=data_sets[0]['DebtRatio'].mode\n",
    "\n",
    "for df in data_sets:\n",
    "    df.loc[:,'DebtRatio'].fillna(mode_debt_ratio, inplace=True)\n",
    "    \n",
    "data_sets[0].head(20)"
   ]
  },
  {
   "cell_type": "markdown",
   "metadata": {},
   "source": [
    "## Creating a new column for monthly debt."
   ]
  },
  {
   "cell_type": "code",
   "execution_count": null,
   "metadata": {},
   "outputs": [],
   "source": [
    "help(DataFrame.insert)"
   ]
  },
  {
   "cell_type": "code",
   "execution_count": null,
   "metadata": {
    "scrolled": true
   },
   "outputs": [],
   "source": [
    "for df in data_sets:\n",
    "    df.insert(5,\"MonthlyDebt\",0)\n",
    "data_sets[0].head(10)"
   ]
  },
  {
   "cell_type": "markdown",
   "metadata": {},
   "source": [
    "If there is no income set DebtRatio to the mean debt ratio."
   ]
  },
  {
   "cell_type": "code",
   "execution_count": null,
   "metadata": {},
   "outputs": [],
   "source": [
    "for df in data_sets:\n",
    "    df.loc[:,'MonthlyDebt']=df['DebtRatio']*df['MonthlyIncome']\n",
    "    df.loc[df['MonthlyIncome'] == 0,'MonthlyDebt']=df.loc[df['MonthlyIncome'] == 0,'DebtRatio']\n",
    "    #df.loc[df['MonthlyIncome'] == 0,'AbsoluteDebt']=df.loc[df['MonthlyIncome'] == 0,'DebtRatio'] #0.86222\n",
    "    \n",
    "    #df.loc[df['MonthlyIncome'] == 0,'DebtRatio']=0 #0.85533\n",
    "    df.loc[df['MonthlyIncome'] == 0,'DebtRatio']=None #0.8610\n",
    "    #df.loc[df['MonthlyIncome'] == 0,'DebtRatio']=mode_debt_ratio #0.8517\n",
    "\n",
    "data_sets[0][['MonthlyDebt','DebtRatio','MonthlyIncome']].head(10)"
   ]
  },
  {
   "cell_type": "markdown",
   "metadata": {},
   "source": [
    "## Creating a balanced Income feature"
   ]
  },
  {
   "cell_type": "code",
   "execution_count": null,
   "metadata": {},
   "outputs": [],
   "source": [
    "for df in data_sets:\n",
    "    #df.insert(6,'BalancedIncome',0)\n",
    "    df.insert(6,'BalancedIncome',None)"
   ]
  },
  {
   "cell_type": "code",
   "execution_count": null,
   "metadata": {
    "scrolled": true
   },
   "outputs": [],
   "source": [
    "for df in data_sets:\n",
    "    income_positive = df['MonthlyIncome'] > df['MonthlyDebt']\n",
    "    df.loc[income_positive,'BalancedIncome']= df.loc[income_positive,'MonthlyIncome'] - df.loc[income_positive,'MonthlyDebt']\n",
    "\n",
    "data_sets[0].head(20)"
   ]
  },
  {
   "cell_type": "markdown",
   "metadata": {},
   "source": [
    "## Cleaning the number of dependents column\n",
    "Set to 0 the number of dependents when not available."
   ]
  },
  {
   "cell_type": "code",
   "execution_count": null,
   "metadata": {},
   "outputs": [],
   "source": [
    "for df in data_sets:\n",
    "    df.loc[:,'NumberOfDependents'].fillna(0, inplace=True)\n",
    "    df.loc[:,'NumberOfDependents']=to_numeric(df['NumberOfDependents'],downcast='integer')\n",
    "    \n",
    "data_sets[0][['NumberOfDependents']].head(10)"
   ]
  },
  {
   "cell_type": "markdown",
   "metadata": {},
   "source": [
    "## Add a balanced income per household members feature"
   ]
  },
  {
   "cell_type": "code",
   "execution_count": null,
   "metadata": {},
   "outputs": [],
   "source": [
    "for df in data_sets:\n",
    "    df.insert(7,'IncomePerHouseholdMember',0)"
   ]
  },
  {
   "cell_type": "code",
   "execution_count": null,
   "metadata": {},
   "outputs": [],
   "source": [
    "for df in data_sets:\n",
    "    df.loc[:,'IncomePerHouseholdMember']= df['BalancedIncome'] / (df['NumberOfDependents']+1)\n",
    "data_sets[0][['IncomePerHouseholdMember']].head(20)"
   ]
  },
  {
   "cell_type": "markdown",
   "metadata": {},
   "source": [
    "## Adding a \"number of times late\" categorical feature"
   ]
  },
  {
   "cell_type": "code",
   "execution_count": null,
   "metadata": {},
   "outputs": [],
   "source": [
    "for df in data_sets:\n",
    "    df.insert(8,'LateCategory',0)"
   ]
  },
  {
   "cell_type": "code",
   "execution_count": null,
   "metadata": {
    "scrolled": true
   },
   "outputs": [],
   "source": [
    "data_sets[0].loc[data_sets[0]['NumberOfTimes90DaysLate']==98,['LateCategory','NumberOfTimes90DaysLate']].head(20)"
   ]
  },
  {
   "cell_type": "code",
   "execution_count": null,
   "metadata": {
    "scrolled": true
   },
   "outputs": [],
   "source": [
    "for df in data_sets:\n",
    "    df.loc[:,'LateCategory']=\"L0\"\n",
    "    df.loc[df['NumberOfTimes90DaysLate'] == 98,'LateCategory']=\"L98\"\n",
    "    df.loc[df['NumberOfTimes90DaysLate'] == 96,'LateCategory']=\"L96\"\n",
    "    df.loc[(df['NumberOfTimes90DaysLate'] == 98) | (df['NumberOfTimes90DaysLate'] == 96),\n",
    "              ['NumberOfTime30-59DaysPastDueNotWorse','NumberOfTime60-89DaysPastDueNotWorse','NumberOfTimes90DaysLate']]=None\n",
    "              \n",
    "data_sets[0].loc[(data_sets[0]['LateCategory']=='L96') | (data_sets[0]['LateCategory']=='L98'),['LateCategory','NumberOfTimes90DaysLate']].head(20)"
   ]
  },
  {
   "cell_type": "markdown",
   "metadata": {},
   "source": [
    "## Add a \"Late score\" feature"
   ]
  },
  {
   "cell_type": "code",
   "execution_count": null,
   "metadata": {},
   "outputs": [],
   "source": [
    "for df in data_sets:\n",
    "    df.insert(0,'LateScore',0)"
   ]
  },
  {
   "cell_type": "code",
   "execution_count": null,
   "metadata": {},
   "outputs": [],
   "source": [
    "weight=[1,2,3]\n",
    "#weight=[1,2,4]\n",
    "for df in data_sets:\n",
    "    df.loc[:,'LateScore']=weight[2]*df['NumberOfTimes90DaysLate']+weight[1]*df['NumberOfTime60-89DaysPastDueNotWorse']+weight[0]*df['NumberOfTime30-59DaysPastDueNotWorse']\n",
    "    \n",
    "data_sets[0][['LateScore']].head(10) "
   ]
  },
  {
   "cell_type": "markdown",
   "metadata": {},
   "source": [
    "## Remove the features we don't need"
   ]
  },
  {
   "cell_type": "code",
   "execution_count": null,
   "metadata": {
    "scrolled": true
   },
   "outputs": [],
   "source": [
    "print(list(data_sets[0]))"
   ]
  },
  {
   "cell_type": "code",
   "execution_count": null,
   "metadata": {},
   "outputs": [],
   "source": [
    "for df in data_sets:\n",
    "    df.drop('NumberOfTime30-59DaysPastDueNotWorse', axis=1, inplace=True)\n",
    "    df.drop('NumberOfTime60-89DaysPastDueNotWorse', axis=1, inplace=True)\n",
    "    df.drop('NumberOfTimes90DaysLate', axis=1, inplace=True)\n",
    "    df.drop('NumberOfDependents', axis=1, inplace=True)"
   ]
  },
  {
   "cell_type": "code",
   "execution_count": null,
   "metadata": {},
   "outputs": [],
   "source": [
    "print(list(data_sets[0]))"
   ]
  },
  {
   "cell_type": "markdown",
   "metadata": {},
   "source": [
    "## Save the data frames as csv files"
   ]
  },
  {
   "cell_type": "code",
   "execution_count": null,
   "metadata": {},
   "outputs": [],
   "source": [
    "if compression:\n",
    "    compress='.bz2'\n",
    "else:\n",
    "    compress=''\n",
    "\n",
    "filenames = [\"\",\"\"]\n",
    "    \n",
    "if validation:\n",
    "    filenames[0]= 'gmsc-train80-' + version + '.csv'+ compress\n",
    "    filenames[1]= 'gmsc-valid20-' + version + '.csv'+ compress\n",
    "else:\n",
    "    filenames[0]= 'gmsc-fulltrain-' + version + '.csv'+ compress\n",
    "    filenames[1]= 'gmsc-test-' + version + '.csv'+ compress\n",
    "\n",
    "for i in range(0,2):\n",
    "    data_sets[i].to_csv(filenames[i],index_label='Id')\n",
    "                        \n",
    "print(\"Done\")"
   ]
  },
  {
   "cell_type": "markdown",
   "metadata": {},
   "source": [
    "## Send the data to BigML and create an ensemble model"
   ]
  },
  {
   "cell_type": "code",
   "execution_count": null,
   "metadata": {},
   "outputs": [],
   "source": [
    "if send_to_BigML:\n",
    "    api = BigML(project='project/5d94a428eba31d460c00023f')\n",
    "\n",
    "    if validation:\n",
    "        train_src = api.create_source('gmsc-train80-' + str(version) + '.csv'+ compress)\n",
    "        api.ok(train_src)\n",
    "        test_src = api.create_source('gmsc-valid20-' + str(version) + '.csv'+ compress)\n",
    "        api.ok(test_src)\n",
    "    else:\n",
    "        train_src = api.create_source('gmsc-fulltrain-' + str(version) + '.csv' + compress)\n",
    "        api.ok(train_src)\n",
    "        test_src = api.create_source('gmsc-test-' + str(version) + '.csv' + compress)\n",
    "        api.ok(test_src)\n",
    "\n",
    "    print(\"Sources created\")"
   ]
  },
  {
   "cell_type": "code",
   "execution_count": null,
   "metadata": {},
   "outputs": [],
   "source": [
    "if send_to_BigML:\n",
    "    train_ds = api.create_dataset(train_src)\n",
    "    api.ok(train_ds)\n",
    "    test_ds = api.create_dataset(test_src)\n",
    "    api.ok(test_ds)\n",
    "    print(\"Data sets created\")\n",
    "    model_args= {\"objective_field\": \"SeriousDlqin2yrs\"}\n",
    "    model = api.create_ensemble(train_ds, model_args)\n",
    "    api.ok(model)\n",
    "    print(\"Model created\")"
   ]
  },
  {
   "cell_type": "markdown",
   "metadata": {},
   "source": [
    "## Validation or test batch prediction"
   ]
  },
  {
   "cell_type": "code",
   "execution_count": null,
   "metadata": {},
   "outputs": [],
   "source": [
    "if validation and send_to_BigML:\n",
    "    evaluation = api.create_evaluation(model, test_ds)\n",
    "    api.ok(evaluation)\n",
    "    api.pprint(evaluation['object']['result'])\n",
    "#else:"
   ]
  },
  {
   "cell_type": "code",
   "execution_count": 5,
   "metadata": {},
   "outputs": [],
   "source": [
    "prediction_file='./gsmc_predictions-{}.csv'.format(version)"
   ]
  },
  {
   "cell_type": "code",
   "execution_count": null,
   "metadata": {},
   "outputs": [],
   "source": [
    "\n",
    "if send_to_BigML:\n",
    "    batch_prediction = api.create_batch_prediction(model, test_ds, {\n",
    "        \"name\": \"my batch prediction\" + version,\n",
    "        \"all_fields\": True,\n",
    "        \"header\": True,\n",
    "        \"confidence\": True,\n",
    "        \"probabilities\": True}                      )\n",
    "    api.ok(batch_prediction)\n",
    "    api.download_batch_prediction(batch_prediction,\n",
    "                                filename=prediction_file)\n",
    "    print('batch prediction:Done')"
   ]
  },
  {
   "cell_type": "markdown",
   "metadata": {},
   "source": [
    "Open BigML predictions"
   ]
  },
  {
   "cell_type": "code",
   "execution_count": 6,
   "metadata": {},
   "outputs": [],
   "source": [
    "prediction=read_csv(prediction_file,index_col=False)"
   ]
  },
  {
   "cell_type": "code",
   "execution_count": 7,
   "metadata": {},
   "outputs": [
    {
     "name": "stdout",
     "output_type": "stream",
     "text": [
      "0.8535801266514811\n"
     ]
    }
   ],
   "source": [
    "if validation and send_to_BigML:\n",
    "    score = roc_auc_score(prediction['SeriousDlqin2yrs'].values,prediction['1 probability'].values)\n",
    "    print(score)"
   ]
  },
  {
   "cell_type": "code",
   "execution_count": 8,
   "metadata": {},
   "outputs": [
    {
     "data": {
      "image/png": "[encoded data removed]",
      "text/plain": [
       "<Figure size 432x288 with 1 Axes>"
      ]
     },
     "metadata": {
      "needs_background": "light"
     },
     "output_type": "display_data"
    }
   ],
   "source": [
    "if validation and send_to_BigML:\n",
    "    fpr, tpr, thresholds = roc_curve(prediction['SeriousDlqin2yrs'],prediction['1 probability'])\n",
    "    plt.plot(fpr, tpr)    "
   ]
  },
  {
   "cell_type": "markdown",
   "metadata": {},
   "source": [
    "## Validation analysis"
   ]
  },
  {
   "cell_type": "code",
   "execution_count": 9,
   "metadata": {},
   "outputs": [],
   "source": [
    "prediction['absolute_error']=(prediction['1 probability']-prediction['SeriousDlqin2yrs']).abs()\n",
    "prediction = prediction.sort_values(by='absolute_error', ascending=False).head(100)\n"
   ]
  },
  {
   "cell_type": "code",
   "execution_count": 10,
   "metadata": {},
   "outputs": [
    {
     "name": "stdout",
     "output_type": "stream",
     "text": [
      "TP=0\n",
      "TN=0\n",
      "FP=0\n",
      "FN=100\n"
     ]
    }
   ],
   "source": [
    "    TP_lines = (prediction['SeriousDlqin2yrs']==1) & (prediction['SeriousDlqin2yrs.1']==1)\n",
    "    TN_lines = ~(prediction['SeriousDlqin2yrs']==1) & ~(prediction['SeriousDlqin2yrs.1']==1)\n",
    "    FP_lines = ~(prediction['SeriousDlqin2yrs']==1) & (prediction['SeriousDlqin2yrs.1']==1)\n",
    "    FN_lines = (prediction['SeriousDlqin2yrs']==1) & ~(prediction['SeriousDlqin2yrs.1']==1)\n",
    "\n",
    "    TP = len(prediction.loc[TP_lines])\n",
    "    TN = len(prediction.loc[TN_lines])\n",
    "    FP = len(prediction.loc[FP_lines])\n",
    "    FN = len(prediction.loc[FN_lines])\n",
    "    print(f'TP={TP}')\n",
    "    print(f'TN={TN}')\n",
    "    print(f'FP={FP}')\n",
    "    print(f'FN={FN}')\n"
   ]
  },
  {
   "cell_type": "code",
   "execution_count": 11,
   "metadata": {},
   "outputs": [],
   "source": [
    "def cost_threshold(threshold):\n",
    "    prediction_threshold = prediction['1 probability'] > threshold\n",
    "\n",
    "    #~ = \"not\" pour les tableaux / & = \"and\" pour les tableaux / | = \"or\" pour les tableaux\n",
    "\n",
    "    P_pred = prediction_threshold\n",
    "    N_pred = ~prediction_threshold\n",
    "\n",
    "    P_real = (prediction['SeriousDlqin2yrs'] == 1)\n",
    "    N_real = (prediction['SeriousDlqin2yrs'] == 0)\n",
    "\n",
    "    TP = len(prediction.loc[P_pred & P_real])\n",
    "    TN = len(prediction.loc[N_pred & N_real])\n",
    "    FP = len(prediction.loc[P_pred & N_real])\n",
    "    FN = len(prediction.loc[N_pred & P_real])\n",
    "\n",
    "    TP_cost = 0\n",
    "    FN_cost = -2500\n",
    "    FP_cost = -500\n",
    "    TN_cost = 500\n",
    "\n",
    "    cost = TP * TP_cost\n",
    "    cost += TN * TN_cost\n",
    "    cost += FP * FP_cost\n",
    "    cost += FN * FN_cost\n",
    "\n",
    "    return cost"
   ]
  },
  {
   "cell_type": "code",
   "execution_count": 12,
   "metadata": {},
   "outputs": [
    {
     "data": {
      "image/png": "[encoded data removed]",
      "text/plain": [
       "<Figure size 432x288 with 1 Axes>"
      ]
     },
     "metadata": {
      "needs_background": "light"
     },
     "output_type": "display_data"
    }
   ],
   "source": [
    "table = [cost_threshold(n/1000) for n in range(0,1000)]\n",
    "threshold = [n/1000 for n in range(0,1000)]\n",
    "plt.axis([0, 1,min(table),1.2*max(table)])\n",
    "plt.plot(threshold, table)\n",
    "plt.show()"
   ]
  },
  {
   "cell_type": "code",
   "execution_count": 561,
   "metadata": {},
   "outputs": [
    {
     "name": "stdout",
     "output_type": "stream",
     "text": [
      "Le gain maximum est 9834500 et il est obtenu avec un seuil de 0.277\n"
     ]
    }
   ],
   "source": [
    "max_val = max(table)\n",
    "max_threshold = table.index(max_val)/1000\n",
    "print(f'Le gain maximum est {max_val} et il est obtenu avec un seuil de {max_threshold}')"
   ]
  },
  {
   "cell_type": "code",
   "execution_count": 1,
   "metadata": {},
   "outputs": [
    {
     "ename": "NameError",
     "evalue": "name 'prediction' is not defined",
     "output_type": "error",
     "traceback": [
      "\u001b[0;31m---------------------------------------------------------------------------\u001b[0m",
      "\u001b[0;31mNameError\u001b[0m                                 Traceback (most recent call last)",
      "\u001b[0;32m<ipython-input-1-acfe684ad202>\u001b[0m in \u001b[0;36m<module>\u001b[0;34m\u001b[0m\n\u001b[0;32m----> 1\u001b[0;31m \u001b[0mthreshold_list\u001b[0m \u001b[0;34m=\u001b[0m \u001b[0mprediction\u001b[0m\u001b[0;34m[\u001b[0m\u001b[0;34m'1 probability'\u001b[0m\u001b[0;34m]\u001b[0m\u001b[0;34m.\u001b[0m\u001b[0msort_values\u001b[0m\u001b[0;34m(\u001b[0m\u001b[0mby\u001b[0m\u001b[0;34m=\u001b[0m\u001b[0;34m'1 probability'\u001b[0m\u001b[0;34m)\u001b[0m\u001b[0;34m.\u001b[0m\u001b[0mvalues\u001b[0m\u001b[0;34m\u001b[0m\u001b[0;34m\u001b[0m\u001b[0m\n\u001b[0m\u001b[1;32m      2\u001b[0m \u001b[0;34m\u001b[0m\u001b[0m\n\u001b[1;32m      3\u001b[0m \u001b[0mthreshold_intervals\u001b[0m \u001b[0;34m=\u001b[0m \u001b[0;34m[\u001b[0m\u001b[0;34m]\u001b[0m\u001b[0;34m\u001b[0m\u001b[0;34m\u001b[0m\u001b[0m\n\u001b[1;32m      4\u001b[0m \u001b[0;32mfor\u001b[0m \u001b[0mi\u001b[0m \u001b[0;32min\u001b[0m \u001b[0mrange\u001b[0m\u001b[0;34m(\u001b[0m\u001b[0mlen\u001b[0m\u001b[0;34m(\u001b[0m\u001b[0mthreshold_list\u001b[0m\u001b[0;34m)\u001b[0m\u001b[0;34m-\u001b[0m\u001b[0;36m1\u001b[0m\u001b[0;34m)\u001b[0m\u001b[0;34m:\u001b[0m\u001b[0;34m\u001b[0m\u001b[0;34m\u001b[0m\u001b[0m\n\u001b[1;32m      5\u001b[0m     \u001b[0mmidpoint\u001b[0m\u001b[0;34m=\u001b[0m\u001b[0;34m(\u001b[0m\u001b[0mthreshold_list\u001b[0m\u001b[0;34m[\u001b[0m\u001b[0mi\u001b[0m\u001b[0;34m]\u001b[0m\u001b[0;34m+\u001b[0m\u001b[0mthreshold_list\u001b[0m\u001b[0;34m[\u001b[0m\u001b[0mi\u001b[0m\u001b[0;34m+\u001b[0m\u001b[0;36m1\u001b[0m\u001b[0;34m]\u001b[0m\u001b[0;34m)\u001b[0m\u001b[0;34m/\u001b[0m\u001b[0;36m2\u001b[0m\u001b[0;34m\u001b[0m\u001b[0;34m\u001b[0m\u001b[0m\n",
      "\u001b[0;31mNameError\u001b[0m: name 'prediction' is not defined"
     ]
    }
   ],
   "source": [
    "threshold_list = prediction.sort_values(by='1 probability')['1 probability'].values\n",
    "\n",
    "threshold_intervals = []\n",
    "for i in range(len(threshold_list)-1):\n",
    "    midpoint=(threshold_list[i]+threshold_list[i+1])/2\n",
    "    threshold_intervals.append(midpoint)\n",
    "table = [cost_threshold(t/1000) for t in threshold_intervals]"
   ]
  },
  {
   "cell_type": "code",
   "execution_count": null,
   "metadata": {},
   "outputs": [],
   "source": [
    "max_val = max(table)\n",
    "max_threshold = table.index(max_val)/1000\n",
    "print(f'Le gain maximum est {max_val} et il est obtenu avec un seuil de {max_threshold}')"
   ]
  },
  {
   "cell_type": "markdown",
   "metadata": {},
   "source": []
  },
  {
   "cell_type": "code",
   "execution_count": null,
   "metadata": {
    "scrolled": true
   },
   "outputs": [],
   "source": [
    "prediction"
   ]
  },
  {
   "cell_type": "markdown",
   "metadata": {},
   "source": [
    "## Send prediction to Kaggle"
   ]
  },
  {
   "cell_type": "code",
   "execution_count": null,
   "metadata": {},
   "outputs": [],
   "source": [
    "kaggle_prediction=DataFrame()\n",
    "if not validation:\n",
    "    kaggle_prediction['Id']=prediction['Id']\n",
    "    kaggle_prediction['Probability']=prediction['1 probability']\n",
    "    kaggle_prediction_file=\"kaggleprediction.csv\"\n",
    "    kaggle_prediction.to_csv(kaggle_prediction_file,index=False)\n",
    "    kaggle.api.competition_submit(kaggle_prediction_file, \"Ensemble-\" + str(version), \"GiveMeSomeCredit\")"
   ]
  },
  {
   "cell_type": "code",
   "execution_count": null,
   "metadata": {},
   "outputs": [],
   "source": [
    "kaggle.api.competitions_submissions_list(\"GiveMeSomeCredit\")[0]['publicScore']"
   ]
  },
  {
   "cell_type": "code",
   "execution_count": null,
   "metadata": {},
   "outputs": [],
   "source": []
  },
  {
   "cell_type": "code",
   "execution_count": null,
   "metadata": {},
   "outputs": [],
   "source": []
  }
 ],
 "metadata": {
  "kernelspec": {
   "display_name": "Python 3",
   "language": "python",
   "name": "python3"
  },
  "language_info": {
   "codemirror_mode": {
    "name": "ipython",
    "version": 3
   },
   "file_extension": ".py",
   "mimetype": "text/x-python",
   "name": "python",
   "nbconvert_exporter": "python",
   "pygments_lexer": "ipython3",
   "version": "3.7.3"
  }
 },
 "nbformat": 4,
 "nbformat_minor": 4
}
