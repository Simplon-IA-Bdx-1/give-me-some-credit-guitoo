{
 "cells": [
  {
   "cell_type": "code",
   "execution_count": 25,
   "metadata": {},
   "outputs": [],
   "source": [
    "from pandas import DataFrame, read_csv, to_numeric\n",
    "from sklearn.model_selection import train_test_split\n",
    "from sklearn.metrics import roc_curve, auc, roc_auc_score\n",
    "import matplotlib.pyplot as plt\n",
    "from bigml.api import BigML\n",
    "import kaggle\n",
    "\n",
    "%matplotlib inline"
   ]
  },
  {
   "cell_type": "code",
   "execution_count": 17,
   "metadata": {},
   "outputs": [],
   "source": [
    "compression = True  #Do we compress the csv files?\n",
    "\n",
    "version='v1.3'\n",
    "\n",
    "big_ml_project = 'project/5d94a428eba31d460c00023f'"
   ]
  },
  {
   "cell_type": "code",
   "execution_count": 41,
   "metadata": {},
   "outputs": [],
   "source": [
    "if compression:\n",
    "    compress='.bz2'\n",
    "else:\n",
    "    compress=''\n",
    "\n",
    "filenames = [\"\",\"\"]\n",
    "  \n",
    "filename_fulltrain = 'gmsc-fulltrain-' + version + '.csv'+ compress\n",
    "filename_train = 'gmsc-train80-' + version + '.csv'+ compress\n",
    "filename_valid = 'gmsc-valid20-' + version + '.csv'+ compress\n",
    "filename_test = 'gmsc-test-' + version + '.csv'+ compress\n",
    "filename_valid_prediction = 'gmsc-valid-pred-' + version + '.csv'\n",
    "filename_test_prediction = 'gmsc-test-pred-' + version + '.csv'\n",
    "\n",
    "filename_bigml_ids = 'bigml-' + version + '.csv'+ compress"
   ]
  },
  {
   "cell_type": "markdown",
   "metadata": {},
   "source": [
    "## Big ML evaluation"
   ]
  },
  {
   "cell_type": "code",
   "execution_count": 36,
   "metadata": {},
   "outputs": [],
   "source": [
    "api = BigML(project=big_ml_project)\n",
    "\n",
    "bigml_ids = read_csv(filename_bigml_ids, squeeze=True, index_col=0)\n",
    "\n",
    "model = api.get_ensemble(bigml_ids['model'])\n",
    "valid_ds = api.get_dataset(bigml_ids['validation dataset'])"
   ]
  },
  {
   "cell_type": "code",
   "execution_count": 37,
   "metadata": {},
   "outputs": [],
   "source": [
    "try:\n",
    "    batch_prediction = api.get_batch_prediction(bigml_ids['validation prediction'])\n",
    "except:\n",
    "    do_prediction = True\n",
    "else:\n",
    "    ds_changed = batch_prediction['object']['dataset'] != bigml_ids['validation dataset']\n",
    "    model_changed = batch_prediction['object']['ensemble'] != bigml_ids['model']\n",
    "    do_prediction = ds_changed or model_changed"
   ]
  },
  {
   "cell_type": "code",
   "execution_count": 38,
   "metadata": {},
   "outputs": [
    {
     "name": "stdout",
     "output_type": "stream",
     "text": [
      "prediction up to date\n"
     ]
    }
   ],
   "source": [
    "if do_prediction:\n",
    "    batch_prediction = api.create_batch_prediction(model, valid_ds, {\n",
    "        \"name\": \"my batch prediction\" + version,\n",
    "        \"all_fields\": True,\n",
    "        \"header\": True,\n",
    "        \"confidence\": True,\n",
    "        \"probabilities\": True}                      )\n",
    "    api.ok(batch_prediction)\n",
    "    api.download_batch_prediction(batch_prediction,\n",
    "                                filename=filename_valid_prediction)\n",
    "    bigml_ids['validation prediction']=batch_prediction['resource']\n",
    "    bigml_ids.to_csv(filename_bigml_ids, header=False)\n",
    "    print(bigml_ids['validation prediction'])\n",
    "else:\n",
    "    print('prediction up to date')"
   ]
  },
  {
   "cell_type": "markdown",
   "metadata": {},
   "source": [
    "Open BigML predictions"
   ]
  },
  {
   "cell_type": "code",
   "execution_count": 54,
   "metadata": {},
   "outputs": [],
   "source": [
    "prediction=read_csv(filename_valid_prediction, index_col='Id')"
   ]
  },
  {
   "cell_type": "code",
   "execution_count": 55,
   "metadata": {},
   "outputs": [
    {
     "name": "stdout",
     "output_type": "stream",
     "text": [
      "0.8555263502630377\n"
     ]
    }
   ],
   "source": [
    "score = roc_auc_score(prediction['SeriousDlqin2yrs'].values,prediction['1 probability'].values)\n",
    "print(score)"
   ]
  },
  {
   "cell_type": "code",
   "execution_count": 56,
   "metadata": {},
   "outputs": [
    {
     "data": {
      "text/plain": [
       "[<matplotlib.lines.Line2D at 0x7fab6818cac8>]"
      ]
     },
     "execution_count": 56,
     "metadata": {},
     "output_type": "execute_result"
    },
    {
     "data": {
      "image/png": "[encoded data removed]",
      "text/plain": [
       "<Figure size 432x288 with 1 Axes>"
      ]
     },
     "metadata": {
      "needs_background": "light"
     },
     "output_type": "display_data"
    }
   ],
   "source": [
    "fpr, tpr, thresholds = roc_curve(prediction['SeriousDlqin2yrs'],prediction['1 probability'])\n",
    "plt.plot(fpr, tpr)"
   ]
  },
  {
   "cell_type": "markdown",
   "metadata": {},
   "source": [
    "## Error analysis"
   ]
  },
  {
   "cell_type": "markdown",
   "metadata": {},
   "source": [
    "### Take the 100 biggest errors"
   ]
  },
  {
   "cell_type": "code",
   "execution_count": 46,
   "metadata": {},
   "outputs": [],
   "source": [
    "prediction['absolute_error']=(prediction['1 probability']-prediction['SeriousDlqin2yrs']).abs()\n",
    "prediction = prediction.sort_values(by='absolute_error', ascending=False).head(100)"
   ]
  },
  {
   "cell_type": "markdown",
   "metadata": {},
   "source": [
    "### Confusion matrix"
   ]
  },
  {
   "cell_type": "code",
   "execution_count": 77,
   "metadata": {},
   "outputs": [
    {
     "data": {
      "text/html": [
       "<div>\n",
       "<style scoped>\n",
       "    .dataframe tbody tr th:only-of-type {\n",
       "        vertical-align: middle;\n",
       "    }\n",
       "\n",
       "    .dataframe tbody tr th {\n",
       "        vertical-align: top;\n",
       "    }\n",
       "\n",
       "    .dataframe thead th {\n",
       "        text-align: right;\n",
       "    }\n",
       "</style>\n",
       "<table border=\"1\" class=\"dataframe\">\n",
       "  <thead>\n",
       "    <tr style=\"text-align: right;\">\n",
       "      <th></th>\n",
       "      <th>P̂</th>\n",
       "      <th>N̂</th>\n",
       "      <th>Recall</th>\n",
       "    </tr>\n",
       "  </thead>\n",
       "  <tbody>\n",
       "    <tr>\n",
       "      <th>P</th>\n",
       "      <td>361.000000</td>\n",
       "      <td>1720.000000</td>\n",
       "      <td>0.173474</td>\n",
       "    </tr>\n",
       "    <tr>\n",
       "      <th>N</th>\n",
       "      <td>251.000000</td>\n",
       "      <td>27668.000000</td>\n",
       "      <td>0.991010</td>\n",
       "    </tr>\n",
       "    <tr>\n",
       "      <th>Precision</th>\n",
       "      <td>0.589869</td>\n",
       "      <td>0.941473</td>\n",
       "      <td>0.934300</td>\n",
       "    </tr>\n",
       "  </tbody>\n",
       "</table>\n",
       "</div>"
      ],
      "text/plain": [
       "                   P̂            N̂    Recall\n",
       "P          361.000000   1720.000000  0.173474\n",
       "N          251.000000  27668.000000  0.991010\n",
       "Precision    0.589869      0.941473  0.934300"
      ]
     },
     "execution_count": 77,
     "metadata": {},
     "output_type": "execute_result"
    }
   ],
   "source": [
    "TP_lines = (prediction['SeriousDlqin2yrs']==1) & (prediction['SeriousDlqin2yrs.1']==1)\n",
    "TN_lines = ~(prediction['SeriousDlqin2yrs']==1) & ~(prediction['SeriousDlqin2yrs.1']==1)\n",
    "FP_lines = ~(prediction['SeriousDlqin2yrs']==1) & (prediction['SeriousDlqin2yrs.1']==1)\n",
    "FN_lines = (prediction['SeriousDlqin2yrs']==1) & ~(prediction['SeriousDlqin2yrs.1']==1)\n",
    "\n",
    "TP = len(prediction.loc[TP_lines])\n",
    "TN = len(prediction.loc[TN_lines])\n",
    "FP = len(prediction.loc[FP_lines])\n",
    "FN = len(prediction.loc[FN_lines])\n",
    "\n",
    "TPR=TP/(TP+FN)\n",
    "TNR=TN/(TN+FP)\n",
    "PPV=TP/(TP+FP)\n",
    "NPV=TN/(TN+FN)\n",
    "accuracy=(TP+TN)/(TP+TN+FP+FN)\n",
    "\n",
    "d = {'P\\u0302': [TP, FP, PPV], 'N\\u0302': [FN, TN, NPV], 'Recall': [TPR, TNR, accuracy]}\n",
    "confusion_matrix = DataFrame(data=d,index=['P','N', 'Precision'])\n",
    "confusion_matrix"
   ]
  },
  {
   "cell_type": "markdown",
   "metadata": {},
   "source": [
    "### Cost optimization"
   ]
  },
  {
   "cell_type": "code",
   "execution_count": 58,
   "metadata": {},
   "outputs": [],
   "source": [
    "def cost_threshold(threshold):\n",
    "    prediction_threshold = prediction['1 probability'] > threshold\n",
    "\n",
    "    P_pred = prediction_threshold\n",
    "    N_pred = ~prediction_threshold\n",
    "\n",
    "    P_real = (prediction['SeriousDlqin2yrs'] == 1)\n",
    "    N_real = (prediction['SeriousDlqin2yrs'] == 0)\n",
    "\n",
    "    TP = len(prediction.loc[P_pred & P_real])\n",
    "    TN = len(prediction.loc[N_pred & N_real])\n",
    "    FP = len(prediction.loc[P_pred & N_real])\n",
    "    FN = len(prediction.loc[N_pred & P_real])\n",
    "\n",
    "    TP_cost = 0\n",
    "    FN_cost = -2500\n",
    "    FP_cost = -500\n",
    "    TN_cost = 500\n",
    "\n",
    "    cost = TP * TP_cost\n",
    "    cost += TN * TN_cost\n",
    "    cost += FP * FP_cost\n",
    "    cost += FN * FN_cost\n",
    "\n",
    "    return cost"
   ]
  },
  {
   "cell_type": "code",
   "execution_count": 59,
   "metadata": {},
   "outputs": [
    {
     "data": {
      "image/png": "[encoded data removed]",
      "text/plain": [
       "<Figure size 432x288 with 1 Axes>"
      ]
     },
     "metadata": {
      "needs_background": "light"
     },
     "output_type": "display_data"
    }
   ],
   "source": [
    "table = [cost_threshold(n/1000) for n in range(0,1000)]\n",
    "threshold = [n/1000 for n in range(0,1000)]\n",
    "plt.axis([0, 1,min(table),1.2*max(table)])\n",
    "plt.plot(threshold, table)\n",
    "plt.show()"
   ]
  },
  {
   "cell_type": "code",
   "execution_count": 60,
   "metadata": {},
   "outputs": [
    {
     "name": "stdout",
     "output_type": "stream",
     "text": [
      "Le gain maximum est 9825500 et il est obtenu avec un seuil de 0.245\n"
     ]
    }
   ],
   "source": [
    "max_val = max(table)\n",
    "max_threshold = table.index(max_val)/1000\n",
    "print(f'Le gain maximum est {max_val} et il est obtenu avec un seuil de {max_threshold}')"
   ]
  },
  {
   "cell_type": "markdown",
   "metadata": {},
   "source": [
    "Compute the cost for all thresholds"
   ]
  },
  {
   "cell_type": "code",
   "execution_count": 61,
   "metadata": {},
   "outputs": [],
   "source": [
    "threshold_list = prediction['1 probability'].sort_values().values\n",
    "threshold_intervals = []\n",
    "for i in range(len(threshold_list)-1):\n",
    "    midpoint=(threshold_list[i]+threshold_list[i+1])/2\n",
    "    threshold_intervals.append(midpoint)\n",
    "table = [cost_threshold(t) for t in threshold_intervals]"
   ]
  },
  {
   "cell_type": "code",
   "execution_count": 63,
   "metadata": {},
   "outputs": [
    {
     "name": "stdout",
     "output_type": "stream",
     "text": [
      "Le gain maximum est -13959500 et il est obtenu avec un seuil de 0.00133\n"
     ]
    }
   ],
   "source": [
    "max_val = max(table)\n",
    "max_threshold = threshold_intervals[table.index(max_val)]\n",
    "print(f'Le gain maximum est {max_val} et il est obtenu avec un seuil de {max_threshold}')"
   ]
  },
  {
   "cell_type": "markdown",
   "metadata": {},
   "source": [
    "## AUC computation by hand\n",
    "### The naive way: fast to implement and slow to run.\n",
    "\n",
    "Don't mind the limit case."
   ]
  },
  {
   "cell_type": "code",
   "execution_count": null,
   "metadata": {},
   "outputs": [],
   "source": [
    "TPR=[]\n",
    "FPR=[]\n",
    "\n",
    "threshold_list = prediction['1 probability'].sort_values().values\n",
    "\n",
    "P_real = (prediction['SeriousDlqin2yrs'] == 1)\n",
    "N_real = (prediction['SeriousDlqin2yrs'] == 0)\n",
    "nb_P_real=len(prediction.loc[P_real])\n",
    "nb_N_real=len(prediction.loc[N_real])\n",
    "\n",
    "for t in threshold_list:\n",
    "    prediction_threshold = prediction['1 probability'] > t\n",
    "\n",
    "    P_pred = prediction_threshold\n",
    "    N_pred = ~prediction_threshold\n",
    "\n",
    "    TP = len(prediction.loc[P_pred & P_real])\n",
    "    FP = len(prediction.loc[P_pred & N_real])\n",
    "\n",
    "    TPR.append(TP/(nb_P_real))\n",
    "    FPR.append(FP/(nb_N_real))\n",
    "\n",
    "AUC=0\n",
    "for i in range(len(TPR)-1):\n",
    "    AUC+=(FPR[i]-FPR[i+1])*(TPR[i+1]+TPR[i])/2\n",
    "print(AUC)"
   ]
  },
  {
   "cell_type": "markdown",
   "metadata": {},
   "source": [
    "### Computing the auc by hand the pandas way"
   ]
  },
  {
   "cell_type": "code",
   "execution_count": 64,
   "metadata": {},
   "outputs": [
    {
     "name": "stdout",
     "output_type": "stream",
     "text": [
      "AUC=0.8555285533824173\n"
     ]
    }
   ],
   "source": [
    "P_real = (prediction['SeriousDlqin2yrs'] == 1)\n",
    "N_real = (prediction['SeriousDlqin2yrs'] == 0)\n",
    "nb_P_real=len(prediction.loc[P_real])\n",
    "nb_N_real=len(prediction.loc[N_real])\n",
    "\n",
    "total=len(prediction)\n",
    "\n",
    "df_threshold=DataFrame(index=prediction['1 probability'])\n",
    "df_threshold['P_real'] = P_real.values\n",
    "df_threshold['N_real'] = N_real.values\n",
    "df_threshold['P']=prediction['SeriousDlqin2yrs'].values\n",
    "df_threshold.sort_index(inplace=True, ascending=False)\n",
    "\n",
    "TP_cumsum =  df_threshold['P_real'].cumsum()\n",
    "TPR_next = TP_cumsum/nb_P_real #TPR right after threshold\n",
    "TPR_prev = TPR_next.shift(1,fill_value=0) #TPR right before threshold\n",
    "\n",
    "FP_cumsum =  df_threshold['N_real'].cumsum()\n",
    "FPR_next = FP_cumsum/nb_N_real #FPR right after threshold\n",
    "FPR_prev = FPR_next.shift(1,fill_value=0) #FPR right before threshold\n",
    "\n",
    "auc = ((FPR_next-FPR_prev)*(TPR_prev+TPR_next)/2).sum()\n",
    "\n",
    "print(f'AUC={auc}')\n",
    "#df_threshold"
   ]
  },
  {
   "cell_type": "code",
   "execution_count": 65,
   "metadata": {},
   "outputs": [
    {
     "data": {
      "image/png": "[encoded data removed]",
      "text/plain": [
       "<Figure size 432x288 with 1 Axes>"
      ]
     },
     "metadata": {
      "needs_background": "light"
     },
     "output_type": "display_data"
    }
   ],
   "source": [
    "plt.plot(FPR_next,TPR_next)\n",
    "plt.show()"
   ]
  },
  {
   "cell_type": "code",
   "execution_count": null,
   "metadata": {},
   "outputs": [],
   "source": []
  }
 ],
 "metadata": {
  "kernelspec": {
   "display_name": "Python 3",
   "language": "python",
   "name": "python3"
  },
  "language_info": {
   "codemirror_mode": {
    "name": "ipython",
    "version": 3
   },
   "file_extension": ".py",
   "mimetype": "text/x-python",
   "name": "python",
   "nbconvert_exporter": "python",
   "pygments_lexer": "ipython3",
   "version": "3.7.3"
  }
 },
 "nbformat": 4,
 "nbformat_minor": 4
}
