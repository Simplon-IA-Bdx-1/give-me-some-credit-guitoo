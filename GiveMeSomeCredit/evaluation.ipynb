{
 "cells": [
  {
   "cell_type": "code",
   "execution_count": 26,
   "metadata": {},
   "outputs": [],
   "source": [
    "from pandas import DataFrame, read_csv, to_numeric\n",
    "from sklearn.model_selection import train_test_split\n",
    "from sklearn.metrics import roc_curve, auc, roc_auc_score\n",
    "import matplotlib.pyplot as plt\n",
    "from bigml.api import BigML\n",
    "import kaggle\n",
    "\n",
    "%matplotlib inline"
   ]
  },
  {
   "cell_type": "code",
   "execution_count": 27,
   "metadata": {},
   "outputs": [],
   "source": [
    "compression = True  #Do we compress the csv files?\n",
    "\n",
    "version='v1.3'\n",
    "\n",
    "big_ml_project = 'project/5d94a428eba31d460c00023f'"
   ]
  },
  {
   "cell_type": "code",
   "execution_count": 28,
   "metadata": {},
   "outputs": [],
   "source": [
    "if compression:\n",
    "    compress='.bz2'\n",
    "else:\n",
    "    compress=''\n",
    "\n",
    "filenames = [\"\",\"\"]\n",
    "  \n",
    "filename_fulltrain = 'gmsc-fulltrain-' + version + '.csv'+ compress\n",
    "filename_train = 'gmsc-train80-' + version + '.csv'+ compress\n",
    "filename_valid = 'gmsc-valid20-' + version + '.csv'+ compress\n",
    "filename_test = 'gmsc-test-' + version + '.csv'+ compress\n",
    "filename_valid_prediction = 'gmsc-valid-pred-' + version + '.csv'\n",
    "filename_test_prediction = 'gmsc-test-pred-' + version + '.csv'\n",
    "\n",
    "filename_bigml_ids = 'bigml-' + version + '.csv'+ compress"
   ]
  },
  {
   "cell_type": "markdown",
   "metadata": {},
   "source": [
    "## Big ML evaluation"
   ]
  },
  {
   "cell_type": "code",
   "execution_count": 29,
   "metadata": {},
   "outputs": [],
   "source": [
    "api = BigML(project=big_ml_project)\n",
    "\n",
    "bigml_ids = read_csv(filename_bigml_ids, squeeze=True, index_col=0)\n",
    "\n",
    "model = api.get_ensemble(bigml_ids['model'])\n",
    "valid_ds = api.get_dataset(bigml_ids['validation dataset'])"
   ]
  },
  {
   "cell_type": "markdown",
   "metadata": {},
   "source": [
    "### Big ML batch prediction"
   ]
  },
  {
   "cell_type": "code",
   "execution_count": 30,
   "metadata": {},
   "outputs": [],
   "source": [
    "try:\n",
    "    batch_prediction = api.get_batch_prediction(bigml_ids['validation prediction'])\n",
    "except:\n",
    "    do_prediction = True\n",
    "else:\n",
    "    ds_changed = batch_prediction['object']['dataset'] != bigml_ids['validation dataset']\n",
    "    model_changed = batch_prediction['object']['ensemble'] != bigml_ids['model']\n",
    "    do_prediction = ds_changed or model_changed"
   ]
  },
  {
   "cell_type": "code",
   "execution_count": 31,
   "metadata": {},
   "outputs": [
    {
     "name": "stdout",
     "output_type": "stream",
     "text": [
      "batchprediction/5db3a8597811dd7f2d00a030\n"
     ]
    }
   ],
   "source": [
    "if do_prediction:\n",
    "    batch_prediction = api.create_batch_prediction(model, valid_ds, {\n",
    "        \"name\": \"my batch prediction\" + version,\n",
    "        \"all_fields\": True,\n",
    "        \"header\": True,\n",
    "        \"confidence\": True,\n",
    "        \"probabilities\": True}                      )\n",
    "    api.ok(batch_prediction)\n",
    "    api.download_batch_prediction(batch_prediction,\n",
    "                                filename=filename_valid_prediction)\n",
    "    bigml_ids['validation prediction']=batch_prediction['resource']\n",
    "    bigml_ids.to_csv(filename_bigml_ids, header=False)\n",
    "print(bigml_ids['validation prediction'])"
   ]
  },
  {
   "cell_type": "markdown",
   "metadata": {},
   "source": [
    "Open BigML predictions"
   ]
  },
  {
   "cell_type": "code",
   "execution_count": 76,
   "metadata": {},
   "outputs": [],
   "source": [
    "prediction=read_csv(filename_valid_prediction, index_col='Id')"
   ]
  },
  {
   "cell_type": "markdown",
   "metadata": {},
   "source": [
    "scikit learn auc"
   ]
  },
  {
   "cell_type": "code",
   "execution_count": 44,
   "metadata": {},
   "outputs": [
    {
     "name": "stdout",
     "output_type": "stream",
     "text": [
      "0.8555263502630377\n"
     ]
    }
   ],
   "source": [
    "score = roc_auc_score(prediction['SeriousDlqin2yrs'].values,prediction['1 probability'].values)\n",
    "print(score)"
   ]
  },
  {
   "cell_type": "markdown",
   "metadata": {},
   "source": [
    "scikit learn roc curve"
   ]
  },
  {
   "cell_type": "code",
   "execution_count": 34,
   "metadata": {},
   "outputs": [
    {
     "data": {
      "image/png": "[encoded data removed]",
      "text/plain": [
       "<Figure size 432x288 with 1 Axes>"
      ]
     },
     "metadata": {
      "needs_background": "light"
     },
     "output_type": "display_data"
    }
   ],
   "source": [
    "fpr, tpr, thresholds = roc_curve(prediction['SeriousDlqin2yrs'],prediction['1 probability'])\n",
    "plt.plot(fpr, tpr)\n",
    "plt.show()"
   ]
  },
  {
   "cell_type": "markdown",
   "metadata": {},
   "source": [
    "### Big ML evaluation"
   ]
  },
  {
   "cell_type": "code",
   "execution_count": 35,
   "metadata": {},
   "outputs": [],
   "source": [
    "try:\n",
    "    evaluation = api.get_evaluation(bigml_ids['evaluation'])\n",
    "except:\n",
    "    do_prediction = True\n",
    "else:\n",
    "    ds_changed = batch_prediction['object']['dataset'] != bigml_ids['validation dataset']\n",
    "    model_changed = batch_prediction['object']['ensemble'] != bigml_ids['model']\n",
    "    do_prediction = ds_changed or model_changed"
   ]
  },
  {
   "cell_type": "code",
   "execution_count": 36,
   "metadata": {},
   "outputs": [
    {
     "name": "stdout",
     "output_type": "stream",
     "text": [
      "evaluation id: evaluation/5db470615299631c8200aac3\n"
     ]
    }
   ],
   "source": [
    "if do_prediction:\n",
    "    evaluation = api.create_evaluation(model, valid_ds)\n",
    "    api.ok(evaluation)\n",
    "    bigml_ids['evaluation']=evaluation['resource']\n",
    "    bigml_ids.to_csv(filename_bigml_ids, header=False)\n",
    "    \n",
    "#api.pprint(evaluation['object']['result'])\n",
    "print('evaluation id:', evaluation['resource'])"
   ]
  },
  {
   "cell_type": "markdown",
   "metadata": {},
   "source": [
    "Big ML auc and confusion matrix"
   ]
  },
  {
   "cell_type": "code",
   "execution_count": 37,
   "metadata": {},
   "outputs": [
    {
     "name": "stdout",
     "output_type": "stream",
     "text": [
      "auc: 0.85554\n"
     ]
    },
    {
     "data": {
      "text/html": [
       "<div>\n",
       "<style scoped>\n",
       "    .dataframe tbody tr th:only-of-type {\n",
       "        vertical-align: middle;\n",
       "    }\n",
       "\n",
       "    .dataframe tbody tr th {\n",
       "        vertical-align: top;\n",
       "    }\n",
       "\n",
       "    .dataframe thead th {\n",
       "        text-align: right;\n",
       "    }\n",
       "</style>\n",
       "<table border=\"1\" class=\"dataframe\">\n",
       "  <thead>\n",
       "    <tr style=\"text-align: right;\">\n",
       "      <th></th>\n",
       "      <th>0</th>\n",
       "      <th>1</th>\n",
       "    </tr>\n",
       "  </thead>\n",
       "  <tbody>\n",
       "    <tr>\n",
       "      <th>0</th>\n",
       "      <td>27668</td>\n",
       "      <td>251</td>\n",
       "    </tr>\n",
       "    <tr>\n",
       "      <th>1</th>\n",
       "      <td>1720</td>\n",
       "      <td>361</td>\n",
       "    </tr>\n",
       "  </tbody>\n",
       "</table>\n",
       "</div>"
      ],
      "text/plain": [
       "       0    1\n",
       "0  27668  251\n",
       "1   1720  361"
      ]
     },
     "execution_count": 37,
     "metadata": {},
     "output_type": "execute_result"
    }
   ],
   "source": [
    "print('auc:', evaluation['object']['result']['model']['average_area_under_roc_curve'])\n",
    "DataFrame(evaluation['object']['result']['model']['confusion_matrix'])"
   ]
  },
  {
   "cell_type": "markdown",
   "metadata": {},
   "source": [
    "### Plot the cost as a function of the threshold using BigML evaluation"
   ]
  },
  {
   "cell_type": "code",
   "execution_count": 38,
   "metadata": {},
   "outputs": [],
   "source": [
    "per_thres_conf_matrix = evaluation['object']['result']['model']['per_class_statistics'][1]['per_threshold_confusion_matrices']"
   ]
  },
  {
   "cell_type": "code",
   "execution_count": 39,
   "metadata": {},
   "outputs": [
    {
     "data": {
      "image/png": "[encoded data removed]",
      "text/plain": [
       "<Figure size 432x288 with 1 Axes>"
      ]
     },
     "metadata": {
      "needs_background": "light"
     },
     "output_type": "display_data"
    }
   ],
   "source": [
    "#TP, FP, TN ,FN\n",
    "cost_matrix = DataFrame([0,-500,500,-2500])\n",
    "per_thres_cost_BigML=[]\n",
    "threshold_BigML=[]\n",
    "for table in per_thres_conf_matrix:\n",
    "    matrix = DataFrame(table[0])\n",
    "    threshold_BigML.append(table[1])\n",
    "    per_thres_cost_BigML.append((cost_matrix * matrix).sum())\n",
    "plt.plot(threshold_BigML, per_thres_cost_BigML)\n",
    "plt.show()"
   ]
  },
  {
   "cell_type": "markdown",
   "metadata": {},
   "source": [
    "## Error analysis"
   ]
  },
  {
   "cell_type": "code",
   "execution_count": 99,
   "metadata": {},
   "outputs": [],
   "source": [
    "is_positive = (prediction['SeriousDlqin2yrs'] == 1)\n",
    "is_predicted_positive = (prediction['SeriousDlqin2yrs.1'] == 1)\n",
    "\n",
    "nb_positive = len(prediction.loc[is_positive])\n",
    "nb_negative = len(prediction.loc[~is_positive])\n",
    "\n",
    "total = len(prediction)\n",
    "\n",
    "is_true_positive = is_positive & is_predicted_positive\n",
    "is_true_negative = ~is_positive & ~is_predicted_positive\n",
    "is_false_positive = ~is_positive & is_predicted_positive\n",
    "is_false_negative = is_positive & ~is_predicted_positive\n",
    "\n",
    "prediction.loc[is_true_positive,'prediction_class']='TP'\n",
    "prediction.loc[is_true_negative,'prediction_class']='TN'\n",
    "prediction.loc[is_false_positive,'prediction_class']='FP'\n",
    "prediction.loc[is_false_negative,'prediction_class']='FN'"
   ]
  },
  {
   "cell_type": "markdown",
   "metadata": {},
   "source": [
    "### Take the 100 biggest errors"
   ]
  },
  {
   "cell_type": "code",
   "execution_count": 79,
   "metadata": {},
   "outputs": [],
   "source": [
    "prediction['absolute_error']=(prediction['1 probability']-prediction['SeriousDlqin2yrs']).abs()\n",
    "prediction_errors = prediction.sort_values(by='absolute_error', ascending=False).head(100)"
   ]
  },
  {
   "cell_type": "markdown",
   "metadata": {},
   "source": [
    "### Confusion matrix"
   ]
  },
  {
   "cell_type": "code",
   "execution_count": 80,
   "metadata": {},
   "outputs": [
    {
     "data": {
      "text/html": [
       "<div>\n",
       "<style scoped>\n",
       "    .dataframe tbody tr th:only-of-type {\n",
       "        vertical-align: middle;\n",
       "    }\n",
       "\n",
       "    .dataframe tbody tr th {\n",
       "        vertical-align: top;\n",
       "    }\n",
       "\n",
       "    .dataframe thead th {\n",
       "        text-align: right;\n",
       "    }\n",
       "</style>\n",
       "<table border=\"1\" class=\"dataframe\">\n",
       "  <thead>\n",
       "    <tr style=\"text-align: right;\">\n",
       "      <th></th>\n",
       "      <th>P̂</th>\n",
       "      <th>N̂</th>\n",
       "      <th>Recall</th>\n",
       "    </tr>\n",
       "  </thead>\n",
       "  <tbody>\n",
       "    <tr>\n",
       "      <th>P</th>\n",
       "      <td>361.000000</td>\n",
       "      <td>1720.000000</td>\n",
       "      <td>0.173474</td>\n",
       "    </tr>\n",
       "    <tr>\n",
       "      <th>N</th>\n",
       "      <td>251.000000</td>\n",
       "      <td>27668.000000</td>\n",
       "      <td>0.991010</td>\n",
       "    </tr>\n",
       "    <tr>\n",
       "      <th>Precision</th>\n",
       "      <td>0.589869</td>\n",
       "      <td>0.941473</td>\n",
       "      <td>0.934300</td>\n",
       "    </tr>\n",
       "  </tbody>\n",
       "</table>\n",
       "</div>"
      ],
      "text/plain": [
       "                   P̂            N̂    Recall\n",
       "P          361.000000   1720.000000  0.173474\n",
       "N          251.000000  27668.000000  0.991010\n",
       "Precision    0.589869      0.941473  0.934300"
      ]
     },
     "execution_count": 80,
     "metadata": {},
     "output_type": "execute_result"
    }
   ],
   "source": [
    "TP = len(prediction.loc[is_true_positive])\n",
    "TN = len(prediction.loc[is_true_negative])\n",
    "FP = len(prediction.loc[is_false_positive])\n",
    "FN = len(prediction.loc[is_false_negative])\n",
    "\n",
    "TPR=TP/(TP+FN)\n",
    "TNR=TN/(TN+FP)\n",
    "PPV=TP/(TP+FP)\n",
    "NPV=TN/(TN+FN)\n",
    "accuracy=(TP+TN)/(TP+TN+FP+FN)\n",
    "\n",
    "d = {'P\\u0302': [TP, FP, PPV], 'N\\u0302': [FN, TN, NPV], 'Recall': [TPR, TNR, accuracy]}\n",
    "confusion_matrix = DataFrame(data=d,index=['P','N', 'Precision'])\n",
    "confusion_matrix"
   ]
  },
  {
   "cell_type": "markdown",
   "metadata": {},
   "source": [
    "### Cost optimization"
   ]
  },
  {
   "cell_type": "code",
   "execution_count": 81,
   "metadata": {},
   "outputs": [],
   "source": [
    "def cost_threshold(threshold):\n",
    "    prediction_threshold = prediction['1 probability'] > threshold\n",
    "\n",
    "    is_P_pred = prediction_threshold\n",
    "    is_N_pred = ~prediction_threshold\n",
    "\n",
    "    is_P_real = (prediction['SeriousDlqin2yrs'] == 1)\n",
    "    is_N_real = (prediction['SeriousDlqin2yrs'] == 0)\n",
    "\n",
    "    TP = len(prediction.loc[is_P_pred & is_P_real])\n",
    "    TN = len(prediction.loc[is_N_pred & is_N_real])\n",
    "    FP = len(prediction.loc[is_P_pred & is_N_real])\n",
    "    FN = len(prediction.loc[is_N_pred & is_P_real])\n",
    "\n",
    "    TP_cost = 0\n",
    "    FN_cost = -2500\n",
    "    FP_cost = -500\n",
    "    TN_cost = 500\n",
    "\n",
    "    cost = TP * TP_cost\n",
    "    cost += TN * TN_cost\n",
    "    cost += FP * FP_cost\n",
    "    cost += FN * FN_cost\n",
    "\n",
    "    return cost"
   ]
  },
  {
   "cell_type": "code",
   "execution_count": 48,
   "metadata": {},
   "outputs": [
    {
     "data": {
      "image/png": "[encoded data removed]",
      "text/plain": [
       "<Figure size 432x288 with 1 Axes>"
      ]
     },
     "metadata": {
      "needs_background": "light"
     },
     "output_type": "display_data"
    }
   ],
   "source": [
    "table = [cost_threshold(n/1000) for n in range(0,1000)]\n",
    "threshold = [n/1000 for n in range(0,1000)]\n",
    "plt.axis([0, 1,min(table),1.2*max(table)])\n",
    "plt.plot(threshold, table)\n",
    "plt.show()"
   ]
  },
  {
   "cell_type": "markdown",
   "metadata": {},
   "source": [
    "### Compute the maximum gain from a sample of threshold"
   ]
  },
  {
   "cell_type": "code",
   "execution_count": 49,
   "metadata": {},
   "outputs": [
    {
     "name": "stdout",
     "output_type": "stream",
     "text": [
      "Le gain maximum est 9825500 et il est obtenu avec un seuil de 0.245\n"
     ]
    }
   ],
   "source": [
    "max_val = max(table)\n",
    "max_threshold = table.index(max_val)/1000\n",
    "print(f'Le gain maximum est {max_val} et il est obtenu avec un seuil de {max_threshold}')"
   ]
  },
  {
   "cell_type": "markdown",
   "metadata": {},
   "source": [
    "### Compute the cost for all thresholds"
   ]
  },
  {
   "cell_type": "code",
   "execution_count": null,
   "metadata": {},
   "outputs": [],
   "source": [
    "threshold_list = prediction['1 probability'].sort_values().values\n",
    "threshold_intervals = []\n",
    "for i in range(len(threshold_list)-1):\n",
    "    midpoint=(threshold_list[i]+threshold_list[i+1])/2\n",
    "    threshold_intervals.append(midpoint)\n",
    "table = [cost_threshold(t) for t in threshold_intervals]"
   ]
  },
  {
   "cell_type": "code",
   "execution_count": 153,
   "metadata": {},
   "outputs": [
    {
     "name": "stdout",
     "output_type": "stream",
     "text": [
      "Le gain maximum est 9827000 et il est obtenu avec un seuil de 0.24559999999999998\n"
     ]
    }
   ],
   "source": [
    "max_val = max(table)\n",
    "max_threshold = threshold_intervals[table.index(max_val)]\n",
    "print(f'Le gain maximum est {max_val} et il est obtenu avec un seuil de {max_threshold}')"
   ]
  },
  {
   "cell_type": "markdown",
   "metadata": {},
   "source": [
    "### faster cost computation"
   ]
  },
  {
   "cell_type": "code",
   "execution_count": 142,
   "metadata": {},
   "outputs": [],
   "source": [
    "df_cost = prediction[['SeriousDlqin2yrs','1 probability']]\n",
    "df_cost = df_cost.sort_values(by='1 probability',ascending=False)\n",
    "\n",
    "df_cost['nb_TP'] = df_cost['SeriousDlqin2yrs'].cumsum()\n",
    "df_cost['nb_TN'] = nb_negative - (1-df_cost['SeriousDlqin2yrs']).cumsum()\n",
    "df_cost['nb_FP'] = nb_negative - df_cost['nb_TN']\n",
    "df_cost['nb_FN'] = nb_positive - df_cost['nb_TP']\n",
    "\n",
    "TP_cost = 0\n",
    "FN_cost = -2500\n",
    "FP_cost = -500\n",
    "TN_cost = 500\n",
    "\n",
    "df_cost['cost'] = df_cost['nb_TP']*TP_cost+df_cost['nb_TN']*TN_cost+df_cost['nb_FP']*FP_cost+df_cost['nb_FN']*FN_cost"
   ]
  },
  {
   "cell_type": "code",
   "execution_count": 141,
   "metadata": {},
   "outputs": [
    {
     "name": "stdout",
     "output_type": "stream",
     "text": [
      "Le gain maximum est 9828500.0 et il est obtenu avec un seuil de 0.24536999999999998\n"
     ]
    },
    {
     "data": {
      "image/png": "[encoded data removed]",
      "text/plain": [
       "<Figure size 432x288 with 1 Axes>"
      ]
     },
     "metadata": {
      "needs_background": "light"
     },
     "output_type": "display_data"
    }
   ],
   "source": [
    "max_index = df_cost['cost'].idxmax()\n",
    "max_gain = df_cost.loc[max_index]['cost']\n",
    "max_threshold = df_cost.loc[max_index]['1 probability']\n",
    "print(f'Le gain maximum est {max_gain} et il est obtenu avec un seuil de {max_threshold}')\n",
    "plt.plot(df_cost['1 probability'],df_cost['cost'].values)\n",
    "plt.show()"
   ]
  },
  {
   "cell_type": "markdown",
   "metadata": {},
   "source": [
    "## AUC computation by hand\n",
    "### The algorithm with a for loop\n",
    "The ROC is a staircase curve. Each step down the threshold list, the curve move either by $1/P$ up or $1/N$ right.\n",
    "* Each time it goes up (Real positive), you increment the $height$ by $1/P$\n",
    "* Each time it goes right (Real negative), you add the rectangular area ($height \\times 1/N$) to the auc\n",
    "\n",
    "You can optimize by incrementing by 1 in each direction and dividing by $N \\times P$ at the end "
   ]
  },
  {
   "cell_type": "code",
   "execution_count": 52,
   "metadata": {},
   "outputs": [],
   "source": [
    "positive = (prediction['SeriousDlqin2yrs'] == 1)\n",
    "nb_positive=len(prediction.loc[positive])\n",
    "nb_negative=len(prediction.loc[~positive])"
   ]
  },
  {
   "cell_type": "code",
   "execution_count": 54,
   "metadata": {},
   "outputs": [],
   "source": [
    "#%%timeit -n20\n",
    "#threshold_list = prediction.sort_values(by='1 probability',ascending=False)['SeriousDlqin2yrs'].values\n",
    "result = prediction[['SeriousDlqin2yrs','1 probability']]\n",
    "threshold_list = result.sort_values(by='1 probability',ascending=False)['SeriousDlqin2yrs'].values\n",
    "\n",
    "auc = 0\n",
    "P_cumul = 0\n",
    "for i in range(len(threshold_list)):\n",
    "    if threshold_list[i] == 1:\n",
    "        P_cumul += 1\n",
    "    else:\n",
    "        auc += P_cumul\n",
    "        \n",
    "auc = auc/(nb_positive*nb_negative)"
   ]
  },
  {
   "cell_type": "code",
   "execution_count": 55,
   "metadata": {},
   "outputs": [
    {
     "name": "stdout",
     "output_type": "stream",
     "text": [
      "AUC=0.8555285533824173\n"
     ]
    }
   ],
   "source": [
    "print(f'AUC={auc}')"
   ]
  },
  {
   "cell_type": "markdown",
   "metadata": {},
   "source": [
    "### Computing the auc with pandas and no for loops\n",
    "4 time faster."
   ]
  },
  {
   "cell_type": "code",
   "execution_count": 56,
   "metadata": {},
   "outputs": [],
   "source": [
    "#%%timeit -n20\n",
    "df_threshold=DataFrame(index=prediction['1 probability'])\n",
    "df_threshold['positive'] = positive.values\n",
    "df_threshold.sort_index(inplace=True, ascending=False)\n",
    "\n",
    "df_threshold['positive_sum'] =  df_threshold['positive'].cumsum()\n",
    "auc=df_threshold.loc[~df_threshold['positive']]['positive_sum'].sum()/(nb_positive*nb_negative)"
   ]
  },
  {
   "cell_type": "code",
   "execution_count": 57,
   "metadata": {},
   "outputs": [
    {
     "name": "stdout",
     "output_type": "stream",
     "text": [
      "AUC=0.8555285533824173\n"
     ]
    }
   ],
   "source": [
    "print(f'AUC={auc}')"
   ]
  },
  {
   "cell_type": "markdown",
   "metadata": {},
   "source": [
    "### Drawing the ROC by hand"
   ]
  },
  {
   "cell_type": "code",
   "execution_count": 58,
   "metadata": {},
   "outputs": [],
   "source": [
    "threshold_list = prediction.sort_values(by='1 probability',ascending=False)['SeriousDlqin2yrs'].values\n",
    "\n",
    "tpr = []\n",
    "fpr = []\n",
    "\n",
    "positive_sum = 0\n",
    "negative_sum = 0\n",
    "for i in range(len(threshold_list)):\n",
    "    if threshold_list[i] == 1:\n",
    "        positive_sum += 1\n",
    "    else:\n",
    "        negative_sum += 1\n",
    "    tpr.append(positive_sum/nb_positive)\n",
    "    fpr.append(negative_sum/nb_negative)\n"
   ]
  },
  {
   "cell_type": "code",
   "execution_count": 59,
   "metadata": {},
   "outputs": [
    {
     "data": {
      "image/png": "[encoded data removed]",
      "text/plain": [
       "<Figure size 432x288 with 1 Axes>"
      ]
     },
     "metadata": {
      "needs_background": "light"
     },
     "output_type": "display_data"
    }
   ],
   "source": [
    "plt.plot(fpr,tpr)\n",
    "plt.show()"
   ]
  },
  {
   "cell_type": "code",
   "execution_count": null,
   "metadata": {},
   "outputs": [],
   "source": []
  }
 ],
 "metadata": {
  "kernelspec": {
   "display_name": "Python 3",
   "language": "python",
   "name": "python3"
  },
  "language_info": {
   "codemirror_mode": {
    "name": "ipython",
    "version": 3
   },
   "file_extension": ".py",
   "mimetype": "text/x-python",
   "name": "python",
   "nbconvert_exporter": "python",
   "pygments_lexer": "ipython3",
   "version": "3.6.9"
  }
 },
 "nbformat": 4,
 "nbformat_minor": 4
}
