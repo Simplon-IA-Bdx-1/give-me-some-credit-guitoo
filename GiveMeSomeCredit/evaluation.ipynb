{
 "cells": [
  {
   "cell_type": "code",
<<<<<<< HEAD
   "execution_count": 1,
=======
   "execution_count": 260,
>>>>>>> 1.3
   "metadata": {},
   "outputs": [],
   "source": [
    "from pandas import DataFrame, read_csv, to_numeric\n",
    "from pandas_ml import ConfusionMatrix\n",
    "from sklearn.model_selection import train_test_split\n",
    "from sklearn.metrics import roc_curve, auc, roc_auc_score\n",
    "import matplotlib.pyplot as plt\n",
    "import pickle\n",
    "from bigml.api import BigML\n",
    "import kaggle\n",
    "\n",
    "%matplotlib inline"
   ]
  },
  {
   "cell_type": "code",
<<<<<<< HEAD
   "execution_count": 4,
=======
   "execution_count": 261,
>>>>>>> 1.3
   "metadata": {},
   "outputs": [],
   "source": [
    "compression = True  #Do we compress the csv files?\n",
    "\n",
    "version='v1.3'\n",
    "\n",
    "big_ml_project = 'project/5d94a428eba31d460c00023f'"
   ]
  },
  {
   "cell_type": "code",
<<<<<<< HEAD
   "execution_count": 5,
=======
   "execution_count": 262,
>>>>>>> 1.3
   "metadata": {},
   "outputs": [],
   "source": [
    "suffix = version + '.csv'\n",
    "if compression:\n",
    "    suffix +='.bz2'\n",
    "\n",
    "filename_fulltrain = 'gmsc-fulltrain-' + suffix\n",
    "filename_train = 'gmsc-train80-' + suffix\n",
    "filename_valid = 'gmsc-valid20-' + suffix\n",
    "filename_test = 'gmsc-test-' + suffix\n",
    "\n",
    "filename_bigml_ids = 'bigml-' + suffix\n",
    "\n",
    "filename_valid_prediction = 'gmsc-valid-pred-' + version + '.csv'\n",
    "filename_test_prediction = 'gmsc-test-pred-' + version + '.csv'\n",
    "\n",
    "filename_bigml_ids = 'bigml-' + suffix"
   ]
  },
  {
   "cell_type": "markdown",
   "metadata": {},
   "source": [
    "## Big ML evaluation"
   ]
  },
  {
   "cell_type": "code",
<<<<<<< HEAD
   "execution_count": 5,
=======
   "execution_count": 263,
>>>>>>> 1.3
   "metadata": {},
   "outputs": [
    {
     "ename": "AttributeError",
     "evalue": "Cannot find BIGML_USERNAME in your environment",
     "output_type": "error",
     "traceback": [
      "\u001b[0;31m---------------------------------------------------------------------------\u001b[0m",
      "\u001b[0;31mKeyError\u001b[0m                                  Traceback (most recent call last)",
      "\u001b[0;32m~/.virtualenvs/ML-notebooks/lib/python3.7/site-packages/bigml/bigmlconnection.py\u001b[0m in \u001b[0;36m__init__\u001b[0;34m(self, username, api_key, dev_mode, debug, set_locale, storage, domain, project, organization)\u001b[0m\n\u001b[1;32m    214\u001b[0m             \u001b[0;32mtry\u001b[0m\u001b[0;34m:\u001b[0m\u001b[0;34m\u001b[0m\u001b[0;34m\u001b[0m\u001b[0m\n\u001b[0;32m--> 215\u001b[0;31m                 \u001b[0musername\u001b[0m \u001b[0;34m=\u001b[0m \u001b[0mos\u001b[0m\u001b[0;34m.\u001b[0m\u001b[0menviron\u001b[0m\u001b[0;34m[\u001b[0m\u001b[0;34m'BIGML_USERNAME'\u001b[0m\u001b[0;34m]\u001b[0m\u001b[0;34m\u001b[0m\u001b[0;34m\u001b[0m\u001b[0m\n\u001b[0m\u001b[1;32m    216\u001b[0m             \u001b[0;32mexcept\u001b[0m \u001b[0mKeyError\u001b[0m\u001b[0;34m:\u001b[0m\u001b[0;34m\u001b[0m\u001b[0;34m\u001b[0m\u001b[0m\n",
      "\u001b[0;32m~/.virtualenvs/ML-notebooks/lib/python3.7/os.py\u001b[0m in \u001b[0;36m__getitem__\u001b[0;34m(self, key)\u001b[0m\n\u001b[1;32m    677\u001b[0m             \u001b[0;31m# raise KeyError with the original key value\u001b[0m\u001b[0;34m\u001b[0m\u001b[0;34m\u001b[0m\u001b[0;34m\u001b[0m\u001b[0m\n\u001b[0;32m--> 678\u001b[0;31m             \u001b[0;32mraise\u001b[0m \u001b[0mKeyError\u001b[0m\u001b[0;34m(\u001b[0m\u001b[0mkey\u001b[0m\u001b[0;34m)\u001b[0m \u001b[0;32mfrom\u001b[0m \u001b[0;32mNone\u001b[0m\u001b[0;34m\u001b[0m\u001b[0;34m\u001b[0m\u001b[0m\n\u001b[0m\u001b[1;32m    679\u001b[0m         \u001b[0;32mreturn\u001b[0m \u001b[0mself\u001b[0m\u001b[0;34m.\u001b[0m\u001b[0mdecodevalue\u001b[0m\u001b[0;34m(\u001b[0m\u001b[0mvalue\u001b[0m\u001b[0;34m)\u001b[0m\u001b[0;34m\u001b[0m\u001b[0;34m\u001b[0m\u001b[0m\n",
      "\u001b[0;31mKeyError\u001b[0m: 'BIGML_USERNAME'",
      "\nDuring handling of the above exception, another exception occurred:\n",
      "\u001b[0;31mAttributeError\u001b[0m                            Traceback (most recent call last)",
      "\u001b[0;32m<ipython-input-5-4ea8da917c89>\u001b[0m in \u001b[0;36m<module>\u001b[0;34m\u001b[0m\n\u001b[0;32m----> 1\u001b[0;31m \u001b[0mapi\u001b[0m \u001b[0;34m=\u001b[0m \u001b[0mBigML\u001b[0m\u001b[0;34m(\u001b[0m\u001b[0mproject\u001b[0m\u001b[0;34m=\u001b[0m\u001b[0mbig_ml_project\u001b[0m\u001b[0;34m)\u001b[0m\u001b[0;34m\u001b[0m\u001b[0;34m\u001b[0m\u001b[0m\n\u001b[0m\u001b[1;32m      2\u001b[0m \u001b[0;34m\u001b[0m\u001b[0m\n\u001b[1;32m      3\u001b[0m \u001b[0mbigml_ids\u001b[0m \u001b[0;34m=\u001b[0m \u001b[0mread_csv\u001b[0m\u001b[0;34m(\u001b[0m\u001b[0mfilename_bigml_ids\u001b[0m\u001b[0;34m,\u001b[0m \u001b[0msqueeze\u001b[0m\u001b[0;34m=\u001b[0m\u001b[0;32mTrue\u001b[0m\u001b[0;34m,\u001b[0m \u001b[0mindex_col\u001b[0m\u001b[0;34m=\u001b[0m\u001b[0;36m0\u001b[0m\u001b[0;34m)\u001b[0m\u001b[0;34m\u001b[0m\u001b[0;34m\u001b[0m\u001b[0m\n\u001b[1;32m      4\u001b[0m \u001b[0;34m\u001b[0m\u001b[0m\n\u001b[1;32m      5\u001b[0m \u001b[0mmodel\u001b[0m \u001b[0;34m=\u001b[0m \u001b[0mapi\u001b[0m\u001b[0;34m.\u001b[0m\u001b[0mget_ensemble\u001b[0m\u001b[0;34m(\u001b[0m\u001b[0mbigml_ids\u001b[0m\u001b[0;34m[\u001b[0m\u001b[0;34m'model'\u001b[0m\u001b[0;34m]\u001b[0m\u001b[0;34m)\u001b[0m\u001b[0;34m\u001b[0m\u001b[0;34m\u001b[0m\u001b[0m\n",
      "\u001b[0;32m~/.virtualenvs/ML-notebooks/lib/python3.7/site-packages/bigml/api.py\u001b[0m in \u001b[0;36m__init__\u001b[0;34m(self, username, api_key, dev_mode, debug, set_locale, storage, domain, project, organization)\u001b[0m\n\u001b[1;32m    259\u001b[0m                                  \u001b[0mset_locale\u001b[0m\u001b[0;34m=\u001b[0m\u001b[0mset_locale\u001b[0m\u001b[0;34m,\u001b[0m \u001b[0mstorage\u001b[0m\u001b[0;34m=\u001b[0m\u001b[0mstorage\u001b[0m\u001b[0;34m,\u001b[0m\u001b[0;34m\u001b[0m\u001b[0;34m\u001b[0m\u001b[0m\n\u001b[1;32m    260\u001b[0m                                  \u001b[0mdomain\u001b[0m\u001b[0;34m=\u001b[0m\u001b[0mdomain\u001b[0m\u001b[0;34m,\u001b[0m \u001b[0mproject\u001b[0m\u001b[0;34m=\u001b[0m\u001b[0mproject\u001b[0m\u001b[0;34m,\u001b[0m\u001b[0;34m\u001b[0m\u001b[0;34m\u001b[0m\u001b[0m\n\u001b[0;32m--> 261\u001b[0;31m                                  organization=organization)\n\u001b[0m\u001b[1;32m    262\u001b[0m         \u001b[0mResourceHandler\u001b[0m\u001b[0;34m.\u001b[0m\u001b[0m__init__\u001b[0m\u001b[0;34m(\u001b[0m\u001b[0mself\u001b[0m\u001b[0;34m)\u001b[0m\u001b[0;34m\u001b[0m\u001b[0;34m\u001b[0m\u001b[0m\n\u001b[1;32m    263\u001b[0m         \u001b[0mSourceHandler\u001b[0m\u001b[0;34m.\u001b[0m\u001b[0m__init__\u001b[0m\u001b[0;34m(\u001b[0m\u001b[0mself\u001b[0m\u001b[0;34m)\u001b[0m\u001b[0;34m\u001b[0m\u001b[0;34m\u001b[0m\u001b[0m\n",
      "\u001b[0;32m~/.virtualenvs/ML-notebooks/lib/python3.7/site-packages/bigml/bigmlconnection.py\u001b[0m in \u001b[0;36m__init__\u001b[0;34m(self, username, api_key, dev_mode, debug, set_locale, storage, domain, project, organization)\u001b[0m\n\u001b[1;32m    215\u001b[0m                 \u001b[0musername\u001b[0m \u001b[0;34m=\u001b[0m \u001b[0mos\u001b[0m\u001b[0;34m.\u001b[0m\u001b[0menviron\u001b[0m\u001b[0;34m[\u001b[0m\u001b[0;34m'BIGML_USERNAME'\u001b[0m\u001b[0;34m]\u001b[0m\u001b[0;34m\u001b[0m\u001b[0;34m\u001b[0m\u001b[0m\n\u001b[1;32m    216\u001b[0m             \u001b[0;32mexcept\u001b[0m \u001b[0mKeyError\u001b[0m\u001b[0;34m:\u001b[0m\u001b[0;34m\u001b[0m\u001b[0;34m\u001b[0m\u001b[0m\n\u001b[0;32m--> 217\u001b[0;31m                 raise AttributeError(\"Cannot find BIGML_USERNAME in\"\n\u001b[0m\u001b[1;32m    218\u001b[0m                                      \" your environment\")\n\u001b[1;32m    219\u001b[0m \u001b[0;34m\u001b[0m\u001b[0m\n",
      "\u001b[0;31mAttributeError\u001b[0m: Cannot find BIGML_USERNAME in your environment"
     ]
    }
   ],
   "source": [
    "api = BigML(project=big_ml_project)\n",
    "\n",
    "bigml_ids = read_csv(filename_bigml_ids, squeeze=True, index_col=0)\n",
    "\n",
    "if 'ensemble/' in bigml_ids['model']:\n",
    "    model = api.get_ensemble(bigml_ids['model'])\n",
    "elif 'deepnet/' in bigml_ids['model']:\n",
    "    model = api.get_deepnet(bigml_ids['model'])\n",
    "\n",
    "valid_ds = api.get_dataset(bigml_ids['validation dataset'])"
   ]
  },
  {
   "cell_type": "markdown",
   "metadata": {},
   "source": [
    "### Big ML batch prediction"
   ]
  },
  {
   "cell_type": "code",
<<<<<<< HEAD
   "execution_count": null,
=======
   "execution_count": 264,
>>>>>>> 1.3
   "metadata": {},
   "outputs": [],
   "source": [
    "try:\n",
    "    batch_prediction = api.get_batch_prediction(bigml_ids['validation prediction'])\n",
    "except:\n",
    "    do_prediction = True\n",
    "else:\n",
    "    ds_changed = batch_prediction['object']['dataset'] != bigml_ids['validation dataset']\n",
    "    model_changed = batch_prediction['object']['ensemble'] != bigml_ids['model']\n",
    "    do_prediction = ds_changed or model_changed"
   ]
  },
  {
   "cell_type": "code",
<<<<<<< HEAD
   "execution_count": null,
   "metadata": {},
   "outputs": [],
=======
   "execution_count": 265,
   "metadata": {},
   "outputs": [
    {
     "name": "stdout",
     "output_type": "stream",
     "text": [
      "batchprediction/5db6f5e25299631c8200bb9f\n"
     ]
    }
   ],
>>>>>>> 1.3
   "source": [
    "if do_prediction:\n",
    "    batch_prediction = api.create_batch_prediction(model, valid_ds, {\n",
    "        \"name\": \"my batch prediction\" + version,\n",
    "        \"all_fields\": True,\n",
    "        \"header\": True,\n",
    "        \"confidence\": True,\n",
    "        \"probabilities\": True}                      )\n",
    "    api.ok(batch_prediction)\n",
    "    api.download_batch_prediction(batch_prediction,\n",
    "                                filename=filename_valid_prediction)\n",
    "    bigml_ids['validation prediction']=batch_prediction['resource']\n",
    "    bigml_ids.to_csv(filename_bigml_ids, header=False)\n",
    "print(bigml_ids['validation prediction'])"
   ]
  },
  {
   "cell_type": "markdown",
   "metadata": {},
   "source": [
    "Open BigML predictions"
   ]
  },
  {
   "cell_type": "code",
<<<<<<< HEAD
   "execution_count": 6,
=======
   "execution_count": 259,
>>>>>>> 1.3
   "metadata": {},
   "outputs": [],
   "source": [
    "prediction=read_csv(filename_valid_prediction, index_col='Id')"
   ]
  },
  {
   "cell_type": "markdown",
   "metadata": {},
   "source": [
    "scikit learn auc"
   ]
  },
  {
   "cell_type": "code",
<<<<<<< HEAD
   "execution_count": 30,
=======
   "execution_count": 237,
>>>>>>> 1.3
   "metadata": {},
   "outputs": [
    {
     "name": "stdout",
     "output_type": "stream",
     "text": [
<<<<<<< HEAD
      "5.5 ms ± 39.7 µs per loop (mean ± std. dev. of 7 runs, 100 loops each)\n"
=======
      "0.8510255923768169\n"
>>>>>>> 1.3
     ]
    }
   ],
   "source": [
    "#%%timeit -n100\n",
    "score = roc_auc_score(prediction['SeriousDlqin2yrs'].values,prediction['1 probability'].values)\n",
    "print(score)"
   ]
  },
  {
   "cell_type": "markdown",
   "metadata": {},
   "source": [
    "scikit learn roc curve"
   ]
  },
  {
   "cell_type": "code",
<<<<<<< HEAD
   "execution_count": 8,
=======
   "execution_count": 238,
>>>>>>> 1.3
   "metadata": {},
   "outputs": [
    {
     "data": {
      "image/png": "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\n",
      "text/plain": [
       "<Figure size 432x288 with 1 Axes>"
      ]
     },
     "metadata": {
      "needs_background": "light"
     },
     "output_type": "display_data"
    }
   ],
   "source": [
    "fpr, tpr, thresholds = roc_curve(prediction['SeriousDlqin2yrs'],prediction['1 probability'])\n",
    "plt.plot(fpr, tpr)\n",
    "plt.show()"
   ]
  },
  {
   "cell_type": "markdown",
   "metadata": {},
   "source": [
    "### Big ML evaluation"
   ]
  },
  {
   "cell_type": "code",
<<<<<<< HEAD
   "execution_count": 9,
=======
   "execution_count": 239,
>>>>>>> 1.3
   "metadata": {},
   "outputs": [],
   "source": [
    "try:\n",
    "    evaluation = api.get_evaluation(bigml_ids['evaluation'])\n",
    "except:\n",
    "    do_prediction = True\n",
    "else:\n",
    "    ds_changed = batch_prediction['object']['dataset'] != bigml_ids['validation dataset']\n",
    "    model_changed = batch_prediction['object']['ensemble'] != bigml_ids['model']\n",
    "    do_prediction = ds_changed or model_changed"
   ]
  },
  {
   "cell_type": "code",
<<<<<<< HEAD
   "execution_count": 10,
   "metadata": {},
   "outputs": [
    {
     "ename": "NameError",
     "evalue": "name 'api' is not defined",
     "output_type": "error",
     "traceback": [
      "\u001b[0;31m---------------------------------------------------------------------------\u001b[0m",
      "\u001b[0;31mNameError\u001b[0m                                 Traceback (most recent call last)",
      "\u001b[0;32m<ipython-input-10-6c9ee91f62c7>\u001b[0m in \u001b[0;36m<module>\u001b[0;34m\u001b[0m\n\u001b[1;32m      1\u001b[0m \u001b[0;32mif\u001b[0m \u001b[0mdo_prediction\u001b[0m\u001b[0;34m:\u001b[0m\u001b[0;34m\u001b[0m\u001b[0;34m\u001b[0m\u001b[0m\n\u001b[0;32m----> 2\u001b[0;31m     \u001b[0mevaluation\u001b[0m \u001b[0;34m=\u001b[0m \u001b[0mapi\u001b[0m\u001b[0;34m.\u001b[0m\u001b[0mcreate_evaluation\u001b[0m\u001b[0;34m(\u001b[0m\u001b[0mmodel\u001b[0m\u001b[0;34m,\u001b[0m \u001b[0mvalid_ds\u001b[0m\u001b[0;34m)\u001b[0m\u001b[0;34m\u001b[0m\u001b[0;34m\u001b[0m\u001b[0m\n\u001b[0m\u001b[1;32m      3\u001b[0m     \u001b[0mapi\u001b[0m\u001b[0;34m.\u001b[0m\u001b[0mok\u001b[0m\u001b[0;34m(\u001b[0m\u001b[0mevaluation\u001b[0m\u001b[0;34m)\u001b[0m\u001b[0;34m\u001b[0m\u001b[0;34m\u001b[0m\u001b[0m\n\u001b[1;32m      4\u001b[0m     \u001b[0mbigml_ids\u001b[0m\u001b[0;34m[\u001b[0m\u001b[0;34m'evaluation'\u001b[0m\u001b[0;34m]\u001b[0m\u001b[0;34m=\u001b[0m\u001b[0mevaluation\u001b[0m\u001b[0;34m[\u001b[0m\u001b[0;34m'resource'\u001b[0m\u001b[0;34m]\u001b[0m\u001b[0;34m\u001b[0m\u001b[0;34m\u001b[0m\u001b[0m\n\u001b[1;32m      5\u001b[0m     \u001b[0mbigml_ids\u001b[0m\u001b[0;34m.\u001b[0m\u001b[0mto_csv\u001b[0m\u001b[0;34m(\u001b[0m\u001b[0mfilename_bigml_ids\u001b[0m\u001b[0;34m,\u001b[0m \u001b[0mheader\u001b[0m\u001b[0;34m=\u001b[0m\u001b[0;32mFalse\u001b[0m\u001b[0;34m)\u001b[0m\u001b[0;34m\u001b[0m\u001b[0;34m\u001b[0m\u001b[0m\n",
      "\u001b[0;31mNameError\u001b[0m: name 'api' is not defined"
=======
   "execution_count": 240,
   "metadata": {},
   "outputs": [
    {
     "name": "stdout",
     "output_type": "stream",
     "text": [
      "evaluation id: evaluation/5db6f2a7e47684746800c445\n"
>>>>>>> 1.3
     ]
    }
   ],
   "source": [
    "if do_prediction:\n",
    "    evaluation = api.create_evaluation(model, valid_ds)\n",
    "    api.ok(evaluation)\n",
    "    bigml_ids['evaluation']=evaluation['resource']\n",
    "    bigml_ids.to_csv(filename_bigml_ids, header=False)\n",
    "    \n",
    "#api.pprint(evaluation['object']['result'])\n",
    "print('evaluation id:', evaluation['resource'])"
   ]
  },
  {
   "cell_type": "markdown",
   "metadata": {},
   "source": [
    "Big ML auc and confusion matrix"
   ]
  },
  {
   "cell_type": "code",
<<<<<<< HEAD
   "execution_count": null,
   "metadata": {},
   "outputs": [],
=======
   "execution_count": 241,
   "metadata": {},
   "outputs": [
    {
     "name": "stdout",
     "output_type": "stream",
     "text": [
      "auc: 0.85104\n"
     ]
    },
    {
     "data": {
      "text/html": [
       "<div>\n",
       "<style scoped>\n",
       "    .dataframe tbody tr th:only-of-type {\n",
       "        vertical-align: middle;\n",
       "    }\n",
       "\n",
       "    .dataframe tbody tr th {\n",
       "        vertical-align: top;\n",
       "    }\n",
       "\n",
       "    .dataframe thead th {\n",
       "        text-align: right;\n",
       "    }\n",
       "</style>\n",
       "<table border=\"1\" class=\"dataframe\">\n",
       "  <thead>\n",
       "    <tr style=\"text-align: right;\">\n",
       "      <th></th>\n",
       "      <th>0</th>\n",
       "      <th>1</th>\n",
       "    </tr>\n",
       "  </thead>\n",
       "  <tbody>\n",
       "    <tr>\n",
       "      <th>0</th>\n",
       "      <td>27431</td>\n",
       "      <td>556</td>\n",
       "    </tr>\n",
       "    <tr>\n",
       "      <th>1</th>\n",
       "      <td>1370</td>\n",
       "      <td>643</td>\n",
       "    </tr>\n",
       "  </tbody>\n",
       "</table>\n",
       "</div>"
      ],
      "text/plain": [
       "       0    1\n",
       "0  27431  556\n",
       "1   1370  643"
      ]
     },
     "execution_count": 241,
     "metadata": {},
     "output_type": "execute_result"
    }
   ],
>>>>>>> 1.3
   "source": [
    "print('auc:', evaluation['object']['result']['model']['average_area_under_roc_curve'])\n",
    "DataFrame(evaluation['object']['result']['model']['confusion_matrix'])"
   ]
  },
  {
   "cell_type": "markdown",
   "metadata": {},
   "source": [
    "### Plot the cost as a function of the threshold using BigML evaluation"
   ]
  },
  {
   "cell_type": "code",
<<<<<<< HEAD
   "execution_count": 11,
=======
   "execution_count": 242,
>>>>>>> 1.3
   "metadata": {},
   "outputs": [
    {
     "ename": "NameError",
     "evalue": "name 'evaluation' is not defined",
     "output_type": "error",
     "traceback": [
      "\u001b[0;31m---------------------------------------------------------------------------\u001b[0m",
      "\u001b[0;31mNameError\u001b[0m                                 Traceback (most recent call last)",
      "\u001b[0;32m<ipython-input-11-6e1e05399912>\u001b[0m in \u001b[0;36m<module>\u001b[0;34m\u001b[0m\n\u001b[0;32m----> 1\u001b[0;31m \u001b[0mper_thres_conf_matrix\u001b[0m \u001b[0;34m=\u001b[0m \u001b[0mevaluation\u001b[0m\u001b[0;34m[\u001b[0m\u001b[0;34m'object'\u001b[0m\u001b[0;34m]\u001b[0m\u001b[0;34m[\u001b[0m\u001b[0;34m'result'\u001b[0m\u001b[0;34m]\u001b[0m\u001b[0;34m[\u001b[0m\u001b[0;34m'model'\u001b[0m\u001b[0;34m]\u001b[0m\u001b[0;34m[\u001b[0m\u001b[0;34m'per_class_statistics'\u001b[0m\u001b[0;34m]\u001b[0m\u001b[0;34m[\u001b[0m\u001b[0;36m1\u001b[0m\u001b[0;34m]\u001b[0m\u001b[0;34m[\u001b[0m\u001b[0;34m'per_threshold_confusion_matrices'\u001b[0m\u001b[0;34m]\u001b[0m\u001b[0;34m\u001b[0m\u001b[0;34m\u001b[0m\u001b[0m\n\u001b[0m",
      "\u001b[0;31mNameError\u001b[0m: name 'evaluation' is not defined"
     ]
    }
   ],
   "source": [
    "per_thres_conf_matrix = evaluation['object']['result']['model']['per_class_statistics'][1]['per_threshold_confusion_matrices']"
   ]
  },
  {
   "cell_type": "code",
<<<<<<< HEAD
   "execution_count": 9,
   "metadata": {},
   "outputs": [
    {
     "ename": "NameError",
     "evalue": "name 'per_thres_conf_matrix' is not defined",
     "output_type": "error",
     "traceback": [
      "\u001b[0;31m---------------------------------------------------------------------------\u001b[0m",
      "\u001b[0;31mNameError\u001b[0m                                 Traceback (most recent call last)",
      "\u001b[0;32m<ipython-input-9-27a54ebafbbd>\u001b[0m in \u001b[0;36m<module>\u001b[0;34m\u001b[0m\n\u001b[1;32m      3\u001b[0m \u001b[0mper_thres_cost_BigML\u001b[0m\u001b[0;34m=\u001b[0m\u001b[0;34m[\u001b[0m\u001b[0;34m]\u001b[0m\u001b[0;34m\u001b[0m\u001b[0;34m\u001b[0m\u001b[0m\n\u001b[1;32m      4\u001b[0m \u001b[0mthreshold_BigML\u001b[0m\u001b[0;34m=\u001b[0m\u001b[0;34m[\u001b[0m\u001b[0;34m]\u001b[0m\u001b[0;34m\u001b[0m\u001b[0;34m\u001b[0m\u001b[0m\n\u001b[0;32m----> 5\u001b[0;31m \u001b[0;32mfor\u001b[0m \u001b[0mtable\u001b[0m \u001b[0;32min\u001b[0m \u001b[0mper_thres_conf_matrix\u001b[0m\u001b[0;34m:\u001b[0m\u001b[0;34m\u001b[0m\u001b[0;34m\u001b[0m\u001b[0m\n\u001b[0m\u001b[1;32m      6\u001b[0m     \u001b[0mmatrix\u001b[0m \u001b[0;34m=\u001b[0m \u001b[0mDataFrame\u001b[0m\u001b[0;34m(\u001b[0m\u001b[0mtable\u001b[0m\u001b[0;34m[\u001b[0m\u001b[0;36m0\u001b[0m\u001b[0;34m]\u001b[0m\u001b[0;34m)\u001b[0m\u001b[0;34m\u001b[0m\u001b[0;34m\u001b[0m\u001b[0m\n\u001b[1;32m      7\u001b[0m     \u001b[0mthreshold_BigML\u001b[0m\u001b[0;34m.\u001b[0m\u001b[0mappend\u001b[0m\u001b[0;34m(\u001b[0m\u001b[0mtable\u001b[0m\u001b[0;34m[\u001b[0m\u001b[0;36m1\u001b[0m\u001b[0;34m]\u001b[0m\u001b[0;34m)\u001b[0m\u001b[0;34m\u001b[0m\u001b[0;34m\u001b[0m\u001b[0m\n",
      "\u001b[0;31mNameError\u001b[0m: name 'per_thres_conf_matrix' is not defined"
     ]
=======
   "execution_count": 243,
   "metadata": {},
   "outputs": [
    {
     "data": {
      "image/png": "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\n",
      "text/plain": [
       "<Figure size 432x288 with 1 Axes>"
      ]
     },
     "metadata": {
      "needs_background": "light"
     },
     "output_type": "display_data"
>>>>>>> 1.3
    }
   ],
   "source": [
    "#TP, FP, TN ,FN\n",
    "cost_matrix = DataFrame([0,-500,500,-2500])\n",
    "per_thres_cost_BigML=[]\n",
    "threshold_BigML=[]\n",
    "for table in per_thres_conf_matrix:\n",
    "    matrix = DataFrame(table[0])\n",
    "    threshold_BigML.append(table[1])\n",
    "    per_thres_cost_BigML.append((cost_matrix * matrix).sum())\n",
    "plt.plot(threshold_BigML, per_thres_cost_BigML)\n",
    "plt.show()"
   ]
  },
  {
   "cell_type": "markdown",
   "metadata": {},
   "source": [
    "## Error analysis"
   ]
  },
  {
   "cell_type": "code",
<<<<<<< HEAD
   "execution_count": 10,
=======
   "execution_count": 244,
>>>>>>> 1.3
   "metadata": {},
   "outputs": [],
   "source": [
    "is_positive = (prediction['SeriousDlqin2yrs'] == 1)\n",
    "is_predicted_positive = (prediction['SeriousDlqin2yrs.1'] == 1)\n",
    "\n",
    "nb_positive = len(prediction.loc[is_positive])\n",
    "nb_negative = len(prediction.loc[~is_positive])\n",
    "\n",
    "total = len(prediction)\n",
    "\n",
    "is_true_positive = is_positive & is_predicted_positive\n",
    "is_true_negative = ~is_positive & ~is_predicted_positive\n",
    "is_false_positive = ~is_positive & is_predicted_positive\n",
    "is_false_negative = is_positive & ~is_predicted_positive\n",
    "\n",
    "prediction.loc[is_true_positive,'prediction_class']='TP'\n",
    "prediction.loc[is_true_negative,'prediction_class']='TN'\n",
    "prediction.loc[is_false_positive,'prediction_class']='FP'\n",
    "prediction.loc[is_false_negative,'prediction_class']='FN'"
   ]
  },
  {
   "cell_type": "markdown",
   "metadata": {},
   "source": [
    "### Take the 100 biggest errors"
   ]
  },
  {
   "cell_type": "code",
<<<<<<< HEAD
   "execution_count": 11,
=======
   "execution_count": 245,
>>>>>>> 1.3
   "metadata": {},
   "outputs": [],
   "source": [
    "prediction['absolute_error']=(prediction['1 probability']-prediction['SeriousDlqin2yrs']).abs()\n",
    "prediction_errors = prediction.sort_values(by='absolute_error', ascending=False).head(100)"
   ]
  },
  {
   "cell_type": "markdown",
   "metadata": {},
   "source": [
    "### Confusion matrix"
   ]
  },
  {
   "cell_type": "code",
<<<<<<< HEAD
   "execution_count": 20,
=======
   "execution_count": 246,
>>>>>>> 1.3
   "metadata": {},
   "outputs": [
    {
     "data": {
      "text/html": [
       "<div>\n",
       "<style scoped>\n",
       "    .dataframe tbody tr th:only-of-type {\n",
       "        vertical-align: middle;\n",
       "    }\n",
       "\n",
       "    .dataframe tbody tr th {\n",
       "        vertical-align: top;\n",
       "    }\n",
       "\n",
       "    .dataframe thead th {\n",
       "        text-align: right;\n",
       "    }\n",
       "</style>\n",
       "<table border=\"1\" class=\"dataframe\">\n",
       "  <thead>\n",
       "    <tr style=\"text-align: right;\">\n",
       "      <th></th>\n",
       "      <th>P̂</th>\n",
       "      <th>N̂</th>\n",
       "      <th>Recall</th>\n",
       "    </tr>\n",
       "  </thead>\n",
       "  <tbody>\n",
       "    <tr>\n",
       "      <th>P</th>\n",
       "      <td>643.00000</td>\n",
       "      <td>1370.000000</td>\n",
       "      <td>0.319424</td>\n",
       "    </tr>\n",
       "    <tr>\n",
       "      <th>N</th>\n",
       "      <td>556.00000</td>\n",
       "      <td>27431.000000</td>\n",
       "      <td>0.980134</td>\n",
       "    </tr>\n",
       "    <tr>\n",
       "      <th>Precision</th>\n",
       "      <td>0.53628</td>\n",
       "      <td>0.952432</td>\n",
       "      <td>0.935800</td>\n",
       "    </tr>\n",
       "  </tbody>\n",
       "</table>\n",
       "</div>"
      ],
      "text/plain": [
       "                  P̂            N̂    Recall\n",
       "P          643.00000   1370.000000  0.319424\n",
       "N          556.00000  27431.000000  0.980134\n",
       "Precision    0.53628      0.952432  0.935800"
      ]
     },
<<<<<<< HEAD
     "execution_count": 20,
     "metadata": {},
     "output_type": "execute_result"
    }
   ],
   "source": [
    "confusion_matrix = ConfusionMatrix(prediction['SeriousDlqin2yrs'],prediction['SeriousDlqin2yrs.1'])\n",
    "\n",
    "\n",
    "d = {'P\\u0302': [confusion_matrix.TP, confusion_matrix.FP, confusion_matrix.PPV],\n",
    "     'N\\u0302': [confusion_matrix.FN, confusion_matrix.TN, confusion_matrix.NPV],\n",
    "     'Recall': [confusion_matrix.TPR, confusion_matrix.TNR, confusion_matrix.ACC]}\n",
    "confusion_matrix_df = DataFrame(data=d,index=['P','N', 'Precision'])\n",
    "confusion_matrix_df\n"
   ]
  },
  {
   "cell_type": "code",
   "execution_count": 12,
   "metadata": {},
   "outputs": [
    {
     "data": {
      "text/html": [
       "<div>\n",
       "<style scoped>\n",
       "    .dataframe tbody tr th:only-of-type {\n",
       "        vertical-align: middle;\n",
       "    }\n",
       "\n",
       "    .dataframe tbody tr th {\n",
       "        vertical-align: top;\n",
       "    }\n",
       "\n",
       "    .dataframe thead th {\n",
       "        text-align: right;\n",
       "    }\n",
       "</style>\n",
       "<table border=\"1\" class=\"dataframe\">\n",
       "  <thead>\n",
       "    <tr style=\"text-align: right;\">\n",
       "      <th></th>\n",
       "      <th>P̂</th>\n",
       "      <th>N̂</th>\n",
       "      <th>Recall</th>\n",
       "    </tr>\n",
       "  </thead>\n",
       "  <tbody>\n",
       "    <tr>\n",
       "      <th>P</th>\n",
       "      <td>361.000000</td>\n",
       "      <td>1720.000000</td>\n",
       "      <td>0.173474</td>\n",
       "    </tr>\n",
       "    <tr>\n",
       "      <th>N</th>\n",
       "      <td>251.000000</td>\n",
       "      <td>27668.000000</td>\n",
       "      <td>0.991010</td>\n",
       "    </tr>\n",
       "    <tr>\n",
       "      <th>Precision</th>\n",
       "      <td>0.589869</td>\n",
       "      <td>0.941473</td>\n",
       "      <td>0.934300</td>\n",
       "    </tr>\n",
       "  </tbody>\n",
       "</table>\n",
       "</div>"
      ],
      "text/plain": [
       "                   P̂            N̂    Recall\n",
       "P          361.000000   1720.000000  0.173474\n",
       "N          251.000000  27668.000000  0.991010\n",
       "Precision    0.589869      0.941473  0.934300"
      ]
     },
     "execution_count": 12,
=======
     "execution_count": 246,
>>>>>>> 1.3
     "metadata": {},
     "output_type": "execute_result"
    }
   ],
   "source": [
    "TP = len(prediction.loc[is_true_positive])\n",
    "TN = len(prediction.loc[is_true_negative])\n",
    "FP = len(prediction.loc[is_false_positive])\n",
    "FN = len(prediction.loc[is_false_negative])\n",
    "\n",
    "TPR=TP/(TP+FN)\n",
    "TNR=TN/(TN+FP)\n",
    "PPV=TP/(TP+FP)\n",
    "NPV=TN/(TN+FN)\n",
    "accuracy=(TP+TN)/(TP+TN+FP+FN)\n",
    "\n",
    "d = {'P\\u0302': [TP, FP, PPV], 'N\\u0302': [FN, TN, NPV], 'Recall': [TPR, TNR, accuracy]}\n",
    "confusion_matrix = DataFrame(data=d,index=['P','N', 'Precision'])\n",
    "confusion_matrix"
   ]
  },
  {
   "cell_type": "markdown",
   "metadata": {},
   "source": [
    "### Cost optimization"
   ]
  },
  {
   "cell_type": "code",
<<<<<<< HEAD
   "execution_count": null,
=======
   "execution_count": 247,
>>>>>>> 1.3
   "metadata": {},
   "outputs": [],
   "source": [
    "def cost_threshold(threshold):\n",
    "    prediction_threshold = prediction['1 probability'] > threshold\n",
    "\n",
    "    is_P_pred = prediction_threshold\n",
    "    is_N_pred = ~prediction_threshold\n",
    "\n",
    "    is_P_real = (prediction['SeriousDlqin2yrs'] == 1)\n",
    "    is_N_real = (prediction['SeriousDlqin2yrs'] == 0)\n",
    "\n",
    "    TP = len(prediction.loc[is_P_pred & is_P_real])\n",
    "    TN = len(prediction.loc[is_N_pred & is_N_real])\n",
    "    FP = len(prediction.loc[is_P_pred & is_N_real])\n",
    "    FN = len(prediction.loc[is_N_pred & is_P_real])\n",
    "\n",
    "    TP_cost = 0\n",
    "    FN_cost = -2500\n",
    "    FP_cost = -500\n",
    "    TN_cost = 500\n",
    "\n",
    "    cost = TP * TP_cost\n",
    "    cost += TN * TN_cost\n",
    "    cost += FP * FP_cost\n",
    "    cost += FN * FN_cost\n",
    "\n",
    "    return cost"
   ]
  },
  {
   "cell_type": "code",
<<<<<<< HEAD
   "execution_count": null,
   "metadata": {},
   "outputs": [],
=======
   "execution_count": 248,
   "metadata": {},
   "outputs": [
    {
     "data": {
      "image/png": "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\n",
      "text/plain": [
       "<Figure size 432x288 with 1 Axes>"
      ]
     },
     "metadata": {
      "needs_background": "light"
     },
     "output_type": "display_data"
    }
   ],
>>>>>>> 1.3
   "source": [
    "table = [cost_threshold(n/1000) for n in range(0,1000)]\n",
    "threshold = [n/1000 for n in range(0,1000)]\n",
    "plt.axis([0, 1,min(table),1.2*max(table)])\n",
    "plt.plot(threshold, table)\n",
    "plt.show()"
   ]
  },
  {
   "cell_type": "markdown",
   "metadata": {},
   "source": [
    "### Compute the maximum gain from a sample of threshold"
   ]
  },
  {
   "cell_type": "code",
<<<<<<< HEAD
   "execution_count": null,
   "metadata": {},
   "outputs": [],
=======
   "execution_count": 249,
   "metadata": {},
   "outputs": [
    {
     "name": "stdout",
     "output_type": "stream",
     "text": [
      "Le gain maximum est 10084500 et il est obtenu avec un seuil de 0.355\n"
     ]
    }
   ],
>>>>>>> 1.3
   "source": [
    "max_val = max(table)\n",
    "max_threshold = table.index(max_val)/1000\n",
    "print(f'Le gain maximum est {max_val} et il est obtenu avec un seuil de {max_threshold}')"
   ]
  },
  {
   "cell_type": "markdown",
   "metadata": {},
   "source": [
    "### Compute the cost for all thresholds"
   ]
  },
  {
   "cell_type": "markdown",
   "metadata": {},
   "source": [
    "```\n",
    "threshold_list = prediction['1 probability'].sort_values().values\n",
    "threshold_intervals = []\n",
    "for i in range(len(threshold_list)-1):\n",
    "    midpoint=(threshold_list[i]+threshold_list[i+1])/2\n",
    "    threshold_intervals.append(midpoint)\n",
    "```"
   ]
  },
  {
<<<<<<< HEAD
   "cell_type": "code",
   "execution_count": null,
   "metadata": {},
   "outputs": [],
=======
   "cell_type": "markdown",
   "metadata": {},
>>>>>>> 1.3
   "source": [
    "```\n",
    "max_val = max(table)\n",
    "max_threshold = threshold_intervals[table.index(max_val)]\n",
    "print(f'Le gain maximum est {max_val} et il est obtenu avec un seuil de {max_threshold}')\n",
    "```"
   ]
  },
  {
   "cell_type": "markdown",
   "metadata": {},
   "source": [
    "### faster cost computation"
   ]
  },
  {
   "cell_type": "code",
<<<<<<< HEAD
   "execution_count": 35,
=======
   "execution_count": 267,
>>>>>>> 1.3
   "metadata": {},
   "outputs": [],
   "source": [
    "#%%timeit -n20\n",
    "df_cost = prediction[['SeriousDlqin2yrs','1 probability']]\n",
    "df_cost = df_cost.sort_values(by='1 probability',ascending=False)\n",
    "\n",
    "df_cost['nb_TP'] = df_cost['SeriousDlqin2yrs'].cumsum()\n",
<<<<<<< HEAD
    "df_cost['nb_FP'] = (1-df_cost['SeriousDlqin2yrs']).cumsum()\n",
    "df_cost['nb_TN'] = nb_negative - df_cost['nb_FP']\n",
=======
    "df_cost['nb_TN'] = nb_negative - (1-df_cost['SeriousDlqin2yrs']).cumsum() # inverted cumulative sum of negative cases\n",
    "df_cost['nb_FP'] = nb_negative - df_cost['nb_TN']\n",
>>>>>>> 1.3
    "df_cost['nb_FN'] = nb_positive - df_cost['nb_TP']\n",
    "\n",
    "TP_cost = 0\n",
    "FN_cost = -2500\n",
    "FP_cost = -500\n",
    "TN_cost = 500\n",
    "\n",
    "df_cost['cost'] = df_cost['nb_TP']*TP_cost+df_cost['nb_TN']*TN_cost+df_cost['nb_FP']*FP_cost+df_cost['nb_FN']*FN_cost"
   ]
  },
  {
   "cell_type": "code",
<<<<<<< HEAD
   "execution_count": 36,
=======
   "execution_count": 268,
>>>>>>> 1.3
   "metadata": {},
   "outputs": [
    {
     "name": "stdout",
     "output_type": "stream",
     "text": [
      "Le gain maximum est 10084500.0 et il est obtenu avec un seuil de 0.35502\n"
     ]
    },
    {
     "data": {
      "image/png": "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\n",
      "text/plain": [
       "<Figure size 432x288 with 1 Axes>"
      ]
     },
     "metadata": {
      "needs_background": "light"
     },
     "output_type": "display_data"
    }
   ],
   "source": [
    "max_index = df_cost['cost'].idxmax()\n",
    "max_gain = df_cost.loc[max_index]['cost']\n",
    "max_threshold = df_cost.loc[max_index]['1 probability']\n",
    "print(f'Le gain maximum est {max_gain} et il est obtenu avec un seuil de {max_threshold}')\n",
    "plt.plot(df_cost['1 probability'],df_cost['cost'].values)\n",
    "plt.show()"
   ]
  },
  {
   "cell_type": "markdown",
   "metadata": {},
   "source": [
    "## AUC computation by hand\n",
    "### The algorithm with a for loop\n",
    "The ROC is a staircase curve. Each step down the threshold list, the curve move either by $1/P$ up or $1/N$ right.\n",
    "* Each time it goes up (Real positive), you increment the $height$ by $1/P$\n",
    "* Each time it goes right (Real negative), you add the rectangular area ($height \\times 1/N$) to the auc\n",
    "\n",
    "You can optimize by incrementing by 1 in each direction and dividing by $N \\times P$ at the end "
   ]
  },
  {
   "cell_type": "code",
<<<<<<< HEAD
   "execution_count": 25,
=======
   "execution_count": 252,
>>>>>>> 1.3
   "metadata": {},
   "outputs": [],
   "source": [
    "is_positive = (prediction['SeriousDlqin2yrs'] == 1)\n",
<<<<<<< HEAD
    "is_negative = (prediction['SeriousDlqin2yrs'] == 0)\n",
    "positives = prediction[is_positive]\n",
    "negatives = prediction[is_negative]\n",
    "\n",
    "nb_positive=len(positives)\n",
    "nb_negative=len(negatives)\n",
    "#nb_positive=positives.shape[0]\n",
    "#nb_negative=negatives.shape[0]\n"
   ]
  },
  {
   "cell_type": "markdown",
   "metadata": {},
   "source": [
    "```\n",
    "score=0\n",
    "c=0\n",
    "for p in positives['1 probability']:\n",
    "    for n in negatives['1 probability']:\n",
    "        if p > n:\n",
    "            c+=1\n",
    "auc=c/(nb_positive*nb_negative)\n",
    "print(auc)\n",
    "```"
=======
    "nb_positive=len(prediction.loc[is_positive])\n",
    "nb_negative=len(prediction.loc[~is_positive])"
>>>>>>> 1.3
   ]
  },
  {
   "cell_type": "code",
<<<<<<< HEAD
   "execution_count": null,
=======
   "execution_count": 253,
>>>>>>> 1.3
   "metadata": {},
   "outputs": [],
   "source": [
    "#%%timeit -n20\n",
    "#threshold_list = prediction.sort_values(by='1 probability',ascending=False)['SeriousDlqin2yrs'].values\n",
    "result = prediction[['SeriousDlqin2yrs','1 probability']]\n",
    "threshold_list = result.sort_values(by='1 probability',ascending=False)['SeriousDlqin2yrs'].values\n",
    "\n",
    "auc = 0\n",
    "P_cumul = 0\n",
    "for i in range(len(threshold_list)):\n",
    "    if threshold_list[i] == 1:\n",
    "        P_cumul += 1\n",
    "    else:\n",
    "        auc += P_cumul\n",
    "        \n",
    "auc = auc/(nb_positive*nb_negative)"
   ]
  },
  {
   "cell_type": "code",
<<<<<<< HEAD
   "execution_count": null,
   "metadata": {},
   "outputs": [],
=======
   "execution_count": 254,
   "metadata": {},
   "outputs": [
    {
     "name": "stdout",
     "output_type": "stream",
     "text": [
      "AUC=0.8510257698774382\n"
     ]
    }
   ],
>>>>>>> 1.3
   "source": [
    "print(f'AUC={auc}')"
   ]
  },
  {
   "cell_type": "markdown",
   "metadata": {},
   "source": [
    "### Computing the auc with pandas and no for loops\n",
    "4 time faster."
   ]
  },
  {
   "cell_type": "code",
<<<<<<< HEAD
   "execution_count": 29,
=======
   "execution_count": 255,
>>>>>>> 1.3
   "metadata": {},
   "outputs": [
    {
     "name": "stdout",
     "output_type": "stream",
     "text": [
      "4.5 ms ± 78.1 µs per loop (mean ± std. dev. of 7 runs, 100 loops each)\n"
     ]
    }
   ],
   "source": [
    "#%%timeit -n100\n",
    "df_threshold=DataFrame(index=prediction['1 probability'])\n",
    "df_threshold['positive'] = is_positive.values\n",
    "df_threshold.sort_index(inplace=True, ascending=False)\n",
    "\n",
    "df_threshold['positive_sum'] =  df_threshold['positive'].cumsum()\n",
    "auc=df_threshold.loc[~df_threshold['positive']]['positive_sum'].sum()/(nb_positive*nb_negative)"
   ]
  },
  {
   "cell_type": "code",
<<<<<<< HEAD
   "execution_count": null,
   "metadata": {},
   "outputs": [],
=======
   "execution_count": 256,
   "metadata": {},
   "outputs": [
    {
     "name": "stdout",
     "output_type": "stream",
     "text": [
      "AUC=0.8510257698774382\n"
     ]
    }
   ],
>>>>>>> 1.3
   "source": [
    "print(f'AUC={auc}')"
   ]
  },
  {
   "cell_type": "markdown",
   "metadata": {},
   "source": [
    "### Drawing the ROC by hand"
   ]
  },
  {
   "cell_type": "code",
<<<<<<< HEAD
   "execution_count": null,
=======
   "execution_count": 257,
>>>>>>> 1.3
   "metadata": {},
   "outputs": [],
   "source": [
    "threshold_list = prediction.sort_values(by='1 probability',ascending=False)['SeriousDlqin2yrs'].values\n",
    "\n",
    "tpr = []\n",
    "fpr = []\n",
    "\n",
    "positive_sum = 0\n",
    "negative_sum = 0\n",
    "for i in range(len(threshold_list)):\n",
    "    if threshold_list[i] == 1:\n",
    "        positive_sum += 1\n",
    "    else:\n",
    "        negative_sum += 1\n",
    "    tpr.append(positive_sum/nb_positive)\n",
    "    fpr.append(negative_sum/nb_negative)\n"
   ]
  },
  {
   "cell_type": "code",
<<<<<<< HEAD
   "execution_count": null,
   "metadata": {},
   "outputs": [],
=======
   "execution_count": 258,
   "metadata": {},
   "outputs": [
    {
     "data": {
      "image/png": "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\n",
      "text/plain": [
       "<Figure size 432x288 with 1 Axes>"
      ]
     },
     "metadata": {
      "needs_background": "light"
     },
     "output_type": "display_data"
    }
   ],
>>>>>>> 1.3
   "source": [
    "plt.plot(fpr,tpr)\n",
    "plt.show()"
   ]
  },
  {
   "cell_type": "code",
   "execution_count": null,
   "metadata": {},
   "outputs": [],
   "source": []
  }
 ],
 "metadata": {
  "kernelspec": {
   "display_name": "Python 3",
   "language": "python",
   "name": "python3"
  },
  "language_info": {
   "codemirror_mode": {
    "name": "ipython",
    "version": 3
   },
   "file_extension": ".py",
   "mimetype": "text/x-python",
   "name": "python",
   "nbconvert_exporter": "python",
   "pygments_lexer": "ipython3",
   "version": "3.7.4"
  }
 },
 "nbformat": 4,
 "nbformat_minor": 4
}
