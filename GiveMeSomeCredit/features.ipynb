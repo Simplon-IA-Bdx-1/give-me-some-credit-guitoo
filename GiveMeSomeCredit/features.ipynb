{
 "cells": [
  {
   "cell_type": "markdown",
   "metadata": {},
   "source": [
    "# Cleaning data and creating custom features for Give Me Some Credit Kaggle Challenge\n",
    "\n",
    "1. Cleaning the monthly income from NA values\n",
    "2. Clean the debt ratio by replacing NA by the mean (Should ideally be done after splitting and the mean should be calculated on the training set if you want to do an evaluation)\n",
    "3. Creating a montlhy debt feature\n",
    "    * monthly income multiplied by debt ratio if income is not 0\n",
    "    * debt ratio if income is 0\n",
    "4. Create a Balanced Income feature that take into account Income and debt ratio\n",
    "    * Set income to 0 when negative.\n",
    "5. Clean the number of dependents feature\n",
    "    * set NA to zero\n",
    "6. Create a Blanced Income per household members feature\n",
    "7. Cleaning the Number of Times Late feature\n",
    "    * Create a custom categorical feature that contains 2 different tags for each row that contains a Number of time late of either 96 or 98\n",
    "    * Remove the 96 and 98 values (Replacing those values by NA or some other justifiable value)\n",
    "8. Add a feature that compute the weighted sum of the number of time late per duration\n",
    "    * weight of 3 for 90 days and more\n",
    "    * weight of 2 for 60 to 89 days\n",
    "    * weight of 1 for 30 to 59 days\n"
   ]
  },
  {
   "cell_type": "code",
   "execution_count": 574,
   "metadata": {},
   "outputs": [],
   "source": [
    "from pandas import DataFrame, read_csv, to_numeric\n",
    "from sklearn.model_selection import train_test_split\n",
    "from sklearn.metrics import roc_curve, auc, roc_auc_score\n",
    "import matplotlib.pyplot as plt\n",
    "from bigml.api import BigML\n",
    "import kaggle\n",
    "\n",
    "%matplotlib inline"
   ]
  },
  {
   "cell_type": "code",
   "execution_count": null,
   "metadata": {},
   "outputs": [],
   "source": [
    "compression = True  #Do we compress the csv files?\n",
    "\n",
    "version='v1.3'"
   ]
  },
  {
   "cell_type": "code",
   "execution_count": null,
   "metadata": {},
   "outputs": [],
   "source": [
    "suffix = version + '.csv'\n",
    "if compression:\n",
    "    suffix +='.bz2'\n",
    "\n",
    "filename_fulltrain = 'gmsc-fulltrain-' + suffix\n",
    "filename_train = 'gmsc-train80-' + suffix\n",
    "filename_valid = 'gmsc-valid20-' + suffix\n",
    "filename_test = 'gmsc-test-' + suffix\n",
    "\n",
    "filename_bigml_ids = 'bigml-' + suffix"
   ]
  },
  {
   "cell_type": "markdown",
   "metadata": {},
   "source": [
    "## Loading csv files as data frames\n",
    "\n",
    "Files must be placed in the same directory as this file. Alternatively, modify the relative path to those files."
   ]
  },
  {
   "cell_type": "code",
   "execution_count": null,
   "metadata": {},
   "outputs": [],
   "source": [
    "!pwd\n",
    "!ls\n",
    "fulltrain=read_csv('./cs-training.csv',index_col=0)\n",
    "test=read_csv('./cs-test.csv',index_col=0)"
   ]
  },
  {
   "cell_type": "markdown",
   "metadata": {},
   "source": [
    "## Reordering the objective field column to the end"
   ]
  },
  {
   "cell_type": "code",
   "execution_count": null,
   "metadata": {},
   "outputs": [],
   "source": [
    "fulltrain=fulltrain[[c for c in fulltrain if c != 'SeriousDlqin2yrs']+['SeriousDlqin2yrs']]\n",
    "test=test[[c for c in test if c != 'SeriousDlqin2yrs']+['SeriousDlqin2yrs']]"
   ]
  },
  {
   "cell_type": "code",
   "execution_count": null,
   "metadata": {},
   "outputs": [],
   "source": [
    "train80, test20 = train_test_split(fulltrain, test_size=0.2)\n",
    "data_sets=[fulltrain,train80,test20,test]\n",
    "filenames=[filename_fulltrain,filename_train,filename_valid,filename_test]"
   ]
  },
  {
   "cell_type": "markdown",
   "metadata": {},
   "source": [
    "## Correcting the values in monthly income\n",
    "Set NaN to 0 in the monthly income column"
   ]
  },
  {
   "cell_type": "code",
   "execution_count": null,
   "metadata": {
    "scrolled": true
   },
   "outputs": [],
   "source": [
    "help(DataFrame.fillna)"
   ]
  },
  {
   "cell_type": "code",
   "execution_count": null,
   "metadata": {},
   "outputs": [],
   "source": [
    "for df in data_sets:\n",
    "    df.loc[:,'MonthlyIncome'].fillna(0, inplace=True)\n",
    "    \n",
    "data_sets[0].head(10)"
   ]
  },
  {
   "cell_type": "markdown",
   "metadata": {},
   "source": [
    "## Cleaning Debt ratio\n",
    "Set NA values to the mode from the training set"
   ]
  },
  {
   "cell_type": "code",
   "execution_count": null,
   "metadata": {
    "scrolled": true
   },
   "outputs": [],
   "source": [
    "mode_debt_ratio=train80['DebtRatio'].mode\n",
    "\n",
    "for df in data_sets:\n",
    "    df.loc[:,'DebtRatio'].fillna(mode_debt_ratio, inplace=True)\n",
    "    \n",
    "data_sets[0].head(20)"
   ]
  },
  {
   "cell_type": "markdown",
   "metadata": {},
   "source": [
    "## Creating a new column for monthly debt."
   ]
  },
  {
   "cell_type": "code",
   "execution_count": null,
   "metadata": {},
   "outputs": [],
   "source": [
    "help(DataFrame.insert)"
   ]
  },
  {
   "cell_type": "code",
   "execution_count": null,
   "metadata": {
    "scrolled": true
   },
   "outputs": [],
   "source": [
    "for df in data_sets:\n",
    "    df.insert(5,\"MonthlyDebt\",0)\n",
    "data_sets[0].head(10)"
   ]
  },
  {
   "cell_type": "markdown",
   "metadata": {},
   "source": [
    "If there is no income set DebtRatio to the mean debt ratio."
   ]
  },
  {
   "cell_type": "code",
   "execution_count": null,
   "metadata": {},
   "outputs": [],
   "source": [
    "for df in data_sets:\n",
    "    df.loc[:,'MonthlyDebt']=df['DebtRatio']*df['MonthlyIncome']\n",
    "    df.loc[df['MonthlyIncome'] == 0,'MonthlyDebt']=df.loc[df['MonthlyIncome'] == 0,'DebtRatio']\n",
    "    #df.loc[df['MonthlyIncome'] == 0,'AbsoluteDebt']=df.loc[df['MonthlyIncome'] == 0,'DebtRatio'] #0.86222\n",
    "    \n",
    "    #df.loc[df['MonthlyIncome'] == 0,'DebtRatio']=0 #0.85533\n",
    "    df.loc[df['MonthlyIncome'] == 0,'DebtRatio']=None #0.8610\n",
    "    #df.loc[df['MonthlyIncome'] == 0,'DebtRatio']=mode_debt_ratio #0.8517\n",
    "\n",
    "data_sets[0][['MonthlyDebt','DebtRatio','MonthlyIncome']].head(10)"
   ]
  },
  {
   "cell_type": "markdown",
   "metadata": {},
   "source": [
    "## Creating a balanced Income feature"
   ]
  },
  {
   "cell_type": "code",
   "execution_count": null,
   "metadata": {},
   "outputs": [],
   "source": [
    "for df in data_sets:\n",
    "    #df.insert(6,'BalancedIncome',0)\n",
    "    df.insert(6,'BalancedIncome',None)"
   ]
  },
  {
   "cell_type": "code",
   "execution_count": null,
   "metadata": {
    "scrolled": true
   },
   "outputs": [],
   "source": [
    "for df in data_sets:\n",
    "    income_positive = df['MonthlyIncome'] > df['MonthlyDebt']\n",
    "    df.loc[income_positive,'BalancedIncome']= df.loc[income_positive,'MonthlyIncome'] - df.loc[income_positive,'MonthlyDebt']\n",
    "\n",
    "data_sets[0].head(20)"
   ]
  },
  {
   "cell_type": "markdown",
   "metadata": {},
   "source": [
    "## Cleaning the number of dependents column\n",
    "Set to 0 the number of dependents when not available."
   ]
  },
  {
   "cell_type": "code",
   "execution_count": null,
   "metadata": {},
   "outputs": [],
   "source": [
    "for df in data_sets:\n",
    "    df.loc[:,'NumberOfDependents'].fillna(0, inplace=True)\n",
    "    df.loc[:,'NumberOfDependents']=to_numeric(df['NumberOfDependents'],downcast='integer')\n",
    "    \n",
    "data_sets[0][['NumberOfDependents']].head(10)"
   ]
  },
  {
   "cell_type": "markdown",
   "metadata": {},
   "source": [
    "## Add a balanced income per household members feature"
   ]
  },
  {
   "cell_type": "code",
   "execution_count": null,
   "metadata": {},
   "outputs": [],
   "source": [
    "for df in data_sets:\n",
    "    df.insert(7,'IncomePerHouseholdMember',0)"
   ]
  },
  {
   "cell_type": "code",
   "execution_count": null,
   "metadata": {},
   "outputs": [],
   "source": [
    "for df in data_sets:\n",
    "    df.loc[:,'IncomePerHouseholdMember']= df['BalancedIncome'] / (df['NumberOfDependents']+1)\n",
    "data_sets[0][['IncomePerHouseholdMember']].head(20)"
   ]
  },
  {
   "cell_type": "markdown",
   "metadata": {},
   "source": [
    "## Adding a \"number of times late\" categorical feature"
   ]
  },
  {
   "cell_type": "code",
   "execution_count": null,
   "metadata": {},
   "outputs": [],
   "source": [
    "for df in data_sets:\n",
    "    df.insert(8,'LateCategory',0)"
   ]
  },
  {
   "cell_type": "code",
   "execution_count": null,
   "metadata": {
    "scrolled": true
   },
   "outputs": [],
   "source": [
    "data_sets[0].loc[data_sets[0]['NumberOfTimes90DaysLate']==98,['LateCategory','NumberOfTimes90DaysLate']].head(20)"
   ]
  },
  {
   "cell_type": "code",
   "execution_count": null,
   "metadata": {
    "scrolled": true
   },
   "outputs": [],
   "source": [
    "for df in data_sets:\n",
    "    df.loc[:,'LateCategory']=\"L0\"\n",
    "    df.loc[df['NumberOfTimes90DaysLate'] == 98,'LateCategory']=\"L98\"\n",
    "    df.loc[df['NumberOfTimes90DaysLate'] == 96,'LateCategory']=\"L96\"\n",
    "    df.loc[(df['NumberOfTimes90DaysLate'] == 98) | (df['NumberOfTimes90DaysLate'] == 96),\n",
    "              ['NumberOfTime30-59DaysPastDueNotWorse','NumberOfTime60-89DaysPastDueNotWorse','NumberOfTimes90DaysLate']]=None\n",
    "              \n",
    "data_sets[0].loc[(data_sets[0]['LateCategory']=='L96') | (data_sets[0]['LateCategory']=='L98'),['LateCategory','NumberOfTimes90DaysLate']].head(20)"
   ]
  },
  {
   "cell_type": "markdown",
   "metadata": {},
   "source": [
    "## Add a \"Late score\" feature"
   ]
  },
  {
   "cell_type": "code",
   "execution_count": null,
   "metadata": {},
   "outputs": [],
   "source": [
    "for df in data_sets:\n",
    "    df.insert(0,'LateScore',0)"
   ]
  },
  {
   "cell_type": "code",
   "execution_count": null,
   "metadata": {},
   "outputs": [],
   "source": [
    "weight=[1,2,3]\n",
    "#weight=[1,2,4]\n",
    "for df in data_sets:\n",
    "    df.loc[:,'LateScore']=weight[2]*df['NumberOfTimes90DaysLate']+weight[1]*df['NumberOfTime60-89DaysPastDueNotWorse']+weight[0]*df['NumberOfTime30-59DaysPastDueNotWorse']\n",
    "    \n",
    "data_sets[0][['LateScore']].head(10) "
   ]
  },
  {
   "cell_type": "markdown",
   "metadata": {},
   "source": [
    "## Remove the features we don't need"
   ]
  },
  {
   "cell_type": "code",
   "execution_count": null,
   "metadata": {
    "scrolled": true
   },
   "outputs": [],
   "source": [
    "print(list(data_sets[0]))"
   ]
  },
  {
   "cell_type": "code",
   "execution_count": null,
   "metadata": {},
   "outputs": [],
   "source": [
    "for df in data_sets:\n",
    "    df.drop('NumberOfTime30-59DaysPastDueNotWorse', axis=1, inplace=True)\n",
    "    df.drop('NumberOfTime60-89DaysPastDueNotWorse', axis=1, inplace=True)\n",
    "    df.drop('NumberOfTimes90DaysLate', axis=1, inplace=True)\n",
    "    df.drop('NumberOfDependents', axis=1, inplace=True)"
   ]
  },
  {
   "cell_type": "code",
   "execution_count": null,
   "metadata": {},
   "outputs": [],
   "source": [
    "print(list(data_sets[0]))"
   ]
  },
  {
   "cell_type": "markdown",
   "metadata": {},
   "source": [
    "## Save the data frames as csv files"
   ]
  },
  {
   "cell_type": "code",
   "execution_count": null,
   "metadata": {},
   "outputs": [],
   "source": [
    "for i in range(4):\n",
    "    data_sets[i].to_csv(filenames[i],index_label='Id')"
   ]
  }
 ],
 "metadata": {
  "kernelspec": {
   "display_name": "Python 3",
   "language": "python",
   "name": "python3"
  },
  "language_info": {
   "codemirror_mode": {
    "name": "ipython",
    "version": 3
   },
   "file_extension": ".py",
   "mimetype": "text/x-python",
   "name": "python",
   "nbconvert_exporter": "python",
   "pygments_lexer": "ipython3",
   "version": "3.7.3"
  }
 },
 "nbformat": 4,
 "nbformat_minor": 4
}
