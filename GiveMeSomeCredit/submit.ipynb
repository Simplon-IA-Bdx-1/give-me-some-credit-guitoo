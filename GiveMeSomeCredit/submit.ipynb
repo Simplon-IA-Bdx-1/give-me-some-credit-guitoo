{
 "cells": [
  {
   "cell_type": "markdown",
   "metadata": {},
   "source": [
    "# Submit Prediction to Kaggle"
   ]
  },
  {
   "cell_type": "code",
   "execution_count": 8,
   "metadata": {},
   "outputs": [],
   "source": [
    "from pandas import DataFrame, read_csv, to_numeric\n",
    "from sklearn.model_selection import train_test_split\n",
    "from sklearn.metrics import roc_curve, auc, roc_auc_score\n",
    "import matplotlib.pyplot as plt\n",
    "from bigml.api import BigML\n",
    "import kaggle\n",
    "from time import sleep\n",
    "\n",
    "%matplotlib inline"
   ]
  },
  {
   "cell_type": "code",
   "execution_count": null,
   "metadata": {},
   "outputs": [],
   "source": [
    "compression = True  #Do we compress the csv files?\n",
    "\n",
    "version='v1.3'\n",
    "\n",
    "big_ml_project = 'project/5d94a428eba31d460c00023f'"
   ]
  },
  {
   "cell_type": "code",
   "execution_count": null,
   "metadata": {},
   "outputs": [],
   "source": [
    "if compression:\n",
    "    compress='.bz2'\n",
    "else:\n",
    "    compress=''\n",
    "\n",
    "filenames = [\"\",\"\"]\n",
    "  \n",
    "filename_fulltrain = 'gmsc-fulltrain-' + version + '.csv'+ compress\n",
    "filename_train = 'gmsc-train80-' + version + '.csv'+ compress\n",
    "filename_valid = 'gmsc-valid20-' + version + '.csv'+ compress\n",
    "filename_test = 'gmsc-test-' + version + '.csv'+ compress\n",
    "filename_valid_prediction = 'gmsc-valid-pred-' + version + '.csv'+ compress\n",
    "filename_test_prediction = 'gmsc-test-pred-' + version + '.csv'+ compress\n",
    "\n",
    "filename_bigml_ids = 'bigml-' + version + '.csv'+ compress"
   ]
  },
  {
   "cell_type": "markdown",
   "metadata": {},
   "source": [
    "## Retrieve model and test dataset ids from Big ML"
   ]
  },
  {
   "cell_type": "code",
   "execution_count": null,
   "metadata": {},
   "outputs": [],
   "source": [
    "api = BigML(project=big_ml_project)\n",
    "\n",
    "bigml_ids = read_csv(filename_bigml_ids, squeeze=True, index_col=0)\n",
    "\n",
    "model = api.get_ensemble(bigml_ids['model'])\n",
    "test_ds = api.get_dataset(bigml_ids['test dataset'])"
   ]
  },
  {
   "cell_type": "markdown",
   "metadata": {},
   "source": [
    "## Create a batch prediction on the test dataset"
   ]
  },
  {
   "cell_type": "code",
   "execution_count": null,
   "metadata": {},
   "outputs": [],
   "source": [
    "batch_prediction = api.create_batch_prediction(model, test_ds, {\n",
    "    \"name\": \"my batch prediction\" + version,\n",
    "    \"all_fields\": False,\n",
    "    \"header\": True,\n",
    "    \"confidence\": True,\n",
    "    \"probabilities\": True}                      )\n",
    "api.ok(batch_prediction)\n",
    "api.download_batch_prediction(batch_prediction,\n",
    "                                filename=filename_test_prediction)\n",
    "print('batch prediction:Done')"
   ]
  },
  {
   "cell_type": "markdown",
   "metadata": {},
   "source": [
    "## Open prediction file"
   ]
  },
  {
   "cell_type": "code",
   "execution_count": null,
   "metadata": {},
   "outputs": [],
   "source": [
    "prediction=read_csv(filename_test_prediction,index_col=0)"
   ]
  },
  {
   "cell_type": "markdown",
   "metadata": {},
   "source": [
    "## Send prediction to Kaggle"
   ]
  },
  {
   "cell_type": "code",
   "execution_count": null,
   "metadata": {},
   "outputs": [],
   "source": [
    "kaggle_prediction=DataFrame(index=prediction.index)\n",
    "kaggle_prediction['Probability']=prediction['1 probability']\n",
    "\n",
    "kaggle_prediction_file=\"kaggleprediction.csv\"\n",
    "kaggle_prediction.to_csv(kaggle_prediction_file,index=False)\n",
    "kaggle.api.competition_submit(kaggle_prediction_file, \"Ensemble-\" + str(version), \"GiveMeSomeCredit\")"
   ]
  },
  {
   "cell_type": "markdown",
   "metadata": {},
   "source": [
    "## Retrieve last score"
   ]
  },
  {
   "cell_type": "code",
   "execution_count": 9,
   "metadata": {},
   "outputs": [
    {
     "name": "stdout",
     "output_type": "stream",
     "text": [
      "status complete error: None\n",
      "status complete error: None\n",
      "status complete error: None\n",
      "status complete error: None\n",
      "status complete error: None\n",
      "status complete error: None\n",
      "status complete error: None\n",
      "status complete error: None\n",
      "status complete error: None\n",
      "status complete error: None\n"
     ]
    }
   ],
   "source": [
    "for i in range(5):\n",
    "    error = kaggle.api.competitions_submissions_list(\"GiveMeSomeCredit\")[0]['errorDescription']\n",
    "    status = kaggle.api.competitions_submissions_list(\"GiveMeSomeCredit\")[0]['status']\n",
    "    print('status:', status, ', error:', error)\n",
    "    sleep(1)\n",
    "\n",
    "\n",
    "score = kaggle.api.competitions_submissions_list(\"GiveMeSomeCredit\")[0]['publicScore']"
   ]
  },
  {
   "cell_type": "code",
   "execution_count": 6,
   "metadata": {},
   "outputs": [
    {
     "data": {
      "text/plain": [
       "{'ref': 12980578,\n",
       " 'totalBytes': 1749831,\n",
       " 'date': '2019-10-24T13:43:47.297Z',\n",
       " 'description': 'Ensemble-v1.3',\n",
       " 'errorDescription': None,\n",
       " 'fileName': 'kaggleprediction.csv',\n",
       " 'publicScore': '0.85512',\n",
       " 'privateScore': '0.86063',\n",
       " 'status': 'complete',\n",
       " 'submittedBy': 'Guillaume Meurisse',\n",
       " 'submittedByRef': 'guillaume33',\n",
       " 'teamName': 'Guillaume Meurisse',\n",
       " 'type': 'standard',\n",
       " 'url': 'https://www.kaggle.com/submissions/12980578/12980578.raw'}"
      ]
     },
     "execution_count": 6,
     "metadata": {},
     "output_type": "execute_result"
    }
   ],
   "source": [
    "kaggle.api.competitions_submissions_list(\"GiveMeSomeCredit\")[0]"
   ]
  },
  {
   "cell_type": "code",
   "execution_count": null,
   "metadata": {},
   "outputs": [],
   "source": []
  }
 ],
 "metadata": {
  "kernelspec": {
   "display_name": "Python 3",
   "language": "python",
   "name": "python3"
  },
  "language_info": {
   "codemirror_mode": {
    "name": "ipython",
    "version": 3
   },
   "file_extension": ".py",
   "mimetype": "text/x-python",
   "name": "python",
   "nbconvert_exporter": "python",
   "pygments_lexer": "ipython3",
   "version": "3.7.3"
  }
 },
 "nbformat": 4,
 "nbformat_minor": 4
}
